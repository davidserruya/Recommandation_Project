{
 "cells": [
  {
   "cell_type": "code",
   "execution_count": 1,
   "id": "477f065c",
   "metadata": {},
   "outputs": [],
   "source": [
    "import pandas as pd\n",
    "import numpy as np\n",
    "import matplotlib.pyplot as plt\n",
    "import re\n",
    "import pickle"
   ]
  },
  {
   "cell_type": "code",
   "execution_count": 2,
   "id": "2e38c2b9",
   "metadata": {},
   "outputs": [],
   "source": [
    "movies = pd.read_csv('movies.csv')\n",
    "ratings = pd.read_csv('ratings.csv')\n",
    "synopsis = pd.read_csv('unique_id.csv')[['movieId', 'Synopsis']].set_index('movieId')"
   ]
  },
  {
   "cell_type": "code",
   "execution_count": 3,
   "id": "ef2fedca-fac0-401a-b881-0e0b8bb8f54a",
   "metadata": {},
   "outputs": [],
   "source": [
    "movie_title = []\n",
    "year = []\n",
    "\n",
    "for element in movies['title']:\n",
    "    match = re.match(r\"(.+) \\((\\d{4})\\)\", element)\n",
    "    # Vérifier si la correspondance a été trouvée\n",
    "    if match:\n",
    "        # Ajouter le nom du film à la liste des noms de films\n",
    "        movie_title.append(match.group(1))\n",
    "        \n",
    "        # Ajouter l'année à la liste des années\n",
    "        year.append(match.group(2))\n",
    "    else:\n",
    "        # Si aucune correspondance n'a été trouvée, ajouter des valeurs par défaut\n",
    "        movie_title.append(None)\n",
    "        year.append(None)\n",
    "\n",
    "movies['title'] = movie_title\n",
    "movies['year'] = year\n",
    "\n",
    "movies['genres'] = movies['genres'].replace('(no genres listed)', 'Not specified')\n",
    "movies['genres'] = movies['genres'].apply(lambda row: row.split())\n",
    "\n",
    "movies['title'] = movies['title'].str.replace(r'\\s*\\([^)]*\\)', '')\n",
    "\n",
    "movies = movies.drop_duplicates(subset='title')"
   ]
  },
  {
   "cell_type": "code",
   "execution_count": 4,
   "id": "85686866-87eb-4cc1-92da-206e590d6717",
   "metadata": {},
   "outputs": [
    {
     "name": "stdout",
     "output_type": "stream",
     "text": [
      "The original data frame shape:\t(25000095, 4)\n",
      "The new data frame shape:\t(23599860, 4)\n"
     ]
    }
   ],
   "source": [
    "# We keep mostly rated movies and mostly ratings users\n",
    "# We define mostly as frequency >= to the thrid quartile \n",
    "# using describe we find that the third quartile lies at count = 36\n",
    "threshold = 36\n",
    "\n",
    "filter_movies = ratings['movieId'].value_counts() >= threshold\n",
    "filter_movies = filter_movies[filter_movies].index.tolist()\n",
    "\n",
    "filter_users = ratings['userId'].value_counts() > threshold\n",
    "filter_users = filter_users[filter_users].index.tolist()\n",
    "\n",
    "ratings_new = ratings[(ratings['movieId'].isin(filter_movies)) & (ratings['userId'].isin(filter_users))]\n",
    "print('The original data frame shape:\\t{}'.format(ratings.shape))\n",
    "print('The new data frame shape:\\t{}'.format(ratings_new.shape))"
   ]
  },
  {
   "cell_type": "code",
   "execution_count": 5,
   "id": "46c109f8-6034-4baf-9ed2-ec2819969b69",
   "metadata": {},
   "outputs": [],
   "source": [
    "db = movies.merge(ratings_new, on='movieId').set_index('movieId') \n",
    "\n",
    "db.drop(columns=['timestamp'], inplace=True)"
   ]
  },
  {
   "cell_type": "code",
   "execution_count": 6,
   "id": "f4fdb8ae-0b55-4dbc-be74-5424a35327a0",
   "metadata": {},
   "outputs": [
    {
     "data": {
      "text/plain": [
       "<Axes: >"
      ]
     },
     "execution_count": 6,
     "metadata": {},
     "output_type": "execute_result"
    },
    {
     "data": {
      "image/png": "[encoded data removed]",
      "text/plain": [
       "<Figure size 640x480 with 1 Axes>"
      ]
     },
     "metadata": {},
     "output_type": "display_data"
    }
   ],
   "source": [
    "ratings_agg = db.groupby(['movieId'])['rating'].agg(['count', 'mean'])\n",
    "\n",
    "ratings_agg['mean'].hist()"
   ]
  },
  {
   "cell_type": "code",
   "execution_count": 7,
   "id": "e3b7b0ac-a831-4fac-8bbc-7d8433257d3d",
   "metadata": {},
   "outputs": [],
   "source": [
    "C = ratings_agg['count'].mean()\n",
    "m = ratings_agg['mean'].mean()\n",
    "\n",
    "def bayesian_avg(ratings):\n",
    "    bayesian_avg = (C*m+ratings.sum())/(C+ratings.count())\n",
    "    return round(bayesian_avg, 3)"
   ]
  },
  {
   "cell_type": "code",
   "execution_count": 8,
   "id": "bd0e8c00-5ee1-43f2-9865-6c541220fef1",
   "metadata": {},
   "outputs": [],
   "source": [
    "bayesian_avg_ratings = ratings.groupby('movieId')['rating'].agg(bayesian_avg).reset_index()\n",
    "bayesian_avg_ratings.columns = ['movieId', 'bayesian_avg']\n",
    "ratings_agg = ratings_agg.merge(bayesian_avg_ratings, on='movieId')"
   ]
  },
  {
   "cell_type": "code",
   "execution_count": 9,
   "id": "ff17d575-a584-4a6f-8cc3-c9727a510636",
   "metadata": {},
   "outputs": [
    {
     "data": {
      "text/plain": [
       "<Axes: >"
      ]
     },
     "execution_count": 9,
     "metadata": {},
     "output_type": "execute_result"
    },
    {
     "data": {
      "image/png": "[encoded data removed]",
      "text/plain": [
       "<Figure size 640x480 with 1 Axes>"
      ]
     },
     "metadata": {},
     "output_type": "display_data"
    }
   ],
   "source": [
    "ratings_agg['bayesian_avg'].hist()"
   ]
  },
  {
   "cell_type": "code",
   "execution_count": 10,
   "id": "f261dacf-df46-4c01-b1af-43d8565a0aa0",
   "metadata": {},
   "outputs": [
    {
     "data": {
      "text/plain": [
       "(23019525, 6)"
      ]
     },
     "execution_count": 10,
     "metadata": {},
     "output_type": "execute_result"
    }
   ],
   "source": [
    "db = db.merge(synopsis, on='movieId')\n",
    "db.shape"
   ]
  },
  {
   "cell_type": "code",
   "execution_count": 11,
   "id": "6aaf3eec-466e-413f-84ad-3972872dbba7",
   "metadata": {},
   "outputs": [
    {
     "data": {
      "text/plain": [
       "12245"
      ]
     },
     "execution_count": 11,
     "metadata": {},
     "output_type": "execute_result"
    }
   ],
   "source": [
    "len(list(db[db['Synopsis']!='Description non disponible']['title'].unique()))"
   ]
  },
  {
   "cell_type": "code",
   "execution_count": 12,
   "id": "2a802172-9990-4b3b-b3eb-4e26ec1050b6",
   "metadata": {},
   "outputs": [
    {
     "data": {
      "text/plain": [
       "1951"
      ]
     },
     "execution_count": 12,
     "metadata": {},
     "output_type": "execute_result"
    }
   ],
   "source": [
    "len(list(db[db['Synopsis']=='Description non disponible']['title'].unique()))"
   ]
  },
  {
   "cell_type": "code",
   "execution_count": 13,
   "id": "3bc87b28-4ad3-40e2-a1d3-3af5f135bfe6",
   "metadata": {},
   "outputs": [],
   "source": [
    "db.to_csv('movie_db_clean.csv')"
   ]
  },
  {
   "cell_type": "code",
   "execution_count": null,
   "id": "13668870-fa6c-432f-b2ca-bd9c4d7817c8",
   "metadata": {},
   "outputs": [],
   "source": []
  }
 ],
 "metadata": {
  "kernelspec": {
   "display_name": "Python 3 (ipykernel)",
   "language": "python",
   "name": "python3"
  },
  "language_info": {
   "codemirror_mode": {
    "name": "ipython",
    "version": 3
   },
   "file_extension": ".py",
   "mimetype": "text/x-python",
   "name": "python",
   "nbconvert_exporter": "python",
   "pygments_lexer": "ipython3",
   "version": "3.10.13"
  },
  "varInspector": {
   "cols": {
    "lenName": 16,
    "lenType": 16,
    "lenVar": 40
   },
   "kernels_config": {
    "python": {
     "delete_cmd_postfix": "",
     "delete_cmd_prefix": "del ",
     "library": "var_list.py",
     "varRefreshCmd": "print(var_dic_list())"
    },
    "r": {
     "delete_cmd_postfix": ") ",
     "delete_cmd_prefix": "rm(",
     "library": "var_list.r",
     "varRefreshCmd": "cat(var_dic_list()) "
    }
   },
   "types_to_exclude": [
    "module",
    "function",
    "builtin_function_or_method",
    "instance",
    "_Feature"
   ],
   "window_display": false
  }
 },
 "nbformat": 4,
 "nbformat_minor": 5
}
