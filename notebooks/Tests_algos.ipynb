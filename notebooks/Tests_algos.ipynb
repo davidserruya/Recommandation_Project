{
 "cells": [
  {
   "cell_type": "code",
   "execution_count": 1,
   "metadata": {},
   "outputs": [],
   "source": [
    "import pandas as pd \n",
    "import numpy as np \n",
    "from scipy.sparse import csr_matrix"
   ]
  },
  {
   "cell_type": "markdown",
   "metadata": {},
   "source": [
    "## Test fonctions Databases"
   ]
  },
  {
   "cell_type": "code",
   "execution_count": 2,
   "metadata": {},
   "outputs": [],
   "source": [
    "def load_data(path: str, chunk_size: int):\n",
    "    '''\n",
    "    This function returns a dataframe generated from a csv file path as input\n",
    "\n",
    "    Args:\n",
    "    - path : the path where the csv file is located, as a string type\n",
    "    - chunk_size : number of lines to read from the file per chunk, as an int type\n",
    "\n",
    "    Returns:\n",
    "    - df : the dataframe loaded from the csv file\n",
    "\n",
    "    '''\n",
    "\n",
    "    data = pd.read_csv(path, iterator=True, chunksize=chunk_size)\n",
    "    df = df = pd.concat(data, ignore_index=True)\n",
    "\n",
    "    return df"
   ]
  },
  {
   "cell_type": "code",
   "execution_count": 3,
   "metadata": {},
   "outputs": [],
   "source": [
    "ratings = load_data('ratings_final.csv', 100000)\n",
    "movies = load_data('movies_affiche_final.csv', 500)\n",
    "sql = load_data('db_sql_final.csv', 500)"
   ]
  },
  {
   "cell_type": "code",
   "execution_count": 4,
   "metadata": {},
   "outputs": [],
   "source": [
    "def create_matrix(df):\n",
    "    \"\"\"\n",
    "    This function creates a sparse user-movie matrix from a dataframe\n",
    "\n",
    "    Args:\n",
    "    - a Dataframe that contains at least the columns movieId, userId, and rating (db_preprocessing)\n",
    "\n",
    "    Returns:\n",
    "    - matrix : a sparse user-movie matrix of size NxM with N the number of unique users and M the number of unique movies\n",
    "    - map_user : a dictionary that maps user_ids to their respective indices\n",
    "    - map_user_inv : a dictionary that maps indices to the user_id\n",
    "    - map_movie : a dictionary that maps movie_ids to their respective indices\n",
    "    - map_movie_inv : a dictionary that maps indices to the movie_id\n",
    "\n",
    "    Inspired by the following repo : https://github.com/topspinj/tmls-2020-recommender-workshop\n",
    "    \"\"\"\n",
    "\n",
    "    N = df['UserId'].nunique()\n",
    "    M = df['MovieId'].nunique()\n",
    "\n",
    "    map_user = dict(zip(np.unique(df['UserId']), list(range(df['UserId'].nunique()))))\n",
    "    map_movie = dict(zip(np.unique(df['MovieId']), list(range(df['MovieId'].nunique()))))\n",
    "\n",
    "    user_idx = [map_user[i] for i in df['UserId']]\n",
    "    movie_idx = [map_movie[i] for i in df['MovieId']]\n",
    "\n",
    "    matrix = csr_matrix((df[\"Rating\"], (user_idx, movie_idx)), shape=(N,M))\n",
    "\n",
    "    df_matrix = df.pivot(index='UserId', columns='MovieId', values='Rating').fillna(0)\n",
    "\n",
    "    return matrix, df_matrix, map_user, map_movie"
   ]
  },
  {
   "cell_type": "code",
   "execution_count": 5,
   "metadata": {},
   "outputs": [],
   "source": [
    "matrix, df_matrix, map_user, map_movie = create_matrix(ratings)"
   ]
  },
  {
   "cell_type": "markdown",
   "metadata": {},
   "source": [
    "## Tests fonctions Recommandations"
   ]
  },
  {
   "cell_type": "code",
   "execution_count": 20,
   "metadata": {},
   "outputs": [],
   "source": [
    "from scipy.sparse.linalg import svds"
   ]
  },
  {
   "cell_type": "code",
   "execution_count": 8,
   "metadata": {},
   "outputs": [],
   "source": [
    "def svd(matrix, map_user: dict, map_movie: dict, n_factors: int):\n",
    "    \"\"\"\n",
    "    This function returns a dataframe with the predicted ratings for all users within the dataframe\n",
    "\n",
    "    Args:\n",
    "    - matrix : the sparse user-movie matrix created using the create_matrix function\n",
    "    - n_factors : the number of factors / rank of the latent matrix for factorization\n",
    "    - map_user : a dictionary that maps user_ids to their respective indices\n",
    "    - map_movie : a dictionary that maps movie_ids to their respective indices\n",
    "\n",
    "    Returns:\n",
    "    - predictions : a DataFrame containing the predicted ratings for all users in the original dataset\n",
    "\n",
    "    Inspired by the following Git repo : https://github.com/vivdalal/movie-recommender-system\n",
    "        \n",
    "    \"\"\"\n",
    "    # The following code creates :\n",
    "    # U : user matrix of dimension (n_users, n_factors)\n",
    "    # sigma : the diagonal matrix of singular values\n",
    "    # V_t : the transposed movie matrix of dimension (n_factors, n_movies)\n",
    "    \n",
    "    try:\n",
    "\n",
    "        U, sigma, V_t = svds(matrix, k = n_factors)\n",
    "\n",
    "        sigma = np.diag(sigma)\n",
    "\n",
    "        pred_ratings = np.dot((U @ sigma), V_t)\n",
    "\n",
    "        predictions = pd.DataFrame(pred_ratings)\n",
    "\n",
    "        predictions.rename(columns=dict(zip(predictions.columns, list(map_movie.keys()))), inplace=True)\n",
    "        predictions.index = list(map_user.keys())\n",
    "    \n",
    "    except ValueError:\n",
    "        print('The number of factor ({0}) is either smaller than 1 or larger than one dimension of \\\n",
    "              the matrix shape ({1})'.format(n_factors, matrix.shape))\n",
    "    \n",
    "    return predictions"
   ]
  },
  {
   "cell_type": "code",
   "execution_count": 9,
   "metadata": {},
   "outputs": [],
   "source": [
    "df_pred = svd(matrix, map_user, map_movie, 50)"
   ]
  },
  {
   "cell_type": "code",
   "execution_count": 11,
   "metadata": {},
   "outputs": [],
   "source": [
    "def generate_reco(df, user_id: int, n_recommandations: int, n_factors:50):\n",
    "    \"\"\"\n",
    "    This function returns a DataFrame with movies recommandations based on user's previously rated movies\n",
    "\n",
    "    Args:\n",
    "    - df : a Dataframe that contains at least the columns movieId, userId, and rating\n",
    "    - user_id : the user id of the user we want to make recommandations to\n",
    "    - n_recommandations : the number of movies we want to recommand to the user\n",
    "    - n_factors : the number of factors / rank of the latent matrix for factorization (default is 50)\n",
    "\n",
    "    Returns:\n",
    "    - recommandations : a list containing the movie_id of the movies we recommand to the user\n",
    "\n",
    "    Inspired by the following Git repo : https://github.com/vivdalal/movie-recommender-system\n",
    "    \"\"\"\n",
    "\n",
    "    matrix, df_matrix, map_user, map_movie = create_matrix(df)\n",
    "\n",
    "    df_pred = svd(matrix, map_user, map_movie, n_factors).loc[user_id].sort_values(ascending=False)\n",
    "\n",
    "    user_data = df_matrix.loc[user_id]\n",
    "\n",
    "    seen_movies = list(user_data[user_data != 0.0].index)\n",
    "    \n",
    "    reco_movies = df_pred[~df_pred.index.isin(seen_movies)][:n_recommandations].index\n",
    "\n",
    "    recommandations = list(df[['MovieId']].drop_duplicates(subset=['MovieId']).set_index('MovieId').loc[reco_movies].index)\n",
    "    \n",
    "    return recommandations"
   ]
  },
  {
   "cell_type": "code",
   "execution_count": 12,
   "metadata": {},
   "outputs": [],
   "source": [
    "reco = generate_reco(ratings, user_id=997, n_recommandations=10, n_factors=50)"
   ]
  },
  {
   "cell_type": "markdown",
   "metadata": {},
   "source": [
    "**Test fonction NLP avec Spacy**"
   ]
  },
  {
   "cell_type": "markdown",
   "metadata": {},
   "source": [
    "Here do not forget to write before :\n",
    "\n",
    "- !pip install nltk\n",
    "- !pip install spacy\n",
    "- !spacy download xx_ent_wiki_sm\n",
    "- !pip install deep-translator"
   ]
  },
  {
   "cell_type": "code",
   "execution_count": 226,
   "metadata": {},
   "outputs": [],
   "source": [
    "import spacy\n",
    "from sklearn.feature_extraction.text import TfidfVectorizer\n",
    "from sklearn.neighbors import NearestNeighbors\n",
    "\n",
    "import nltk\n",
    "from nltk.corpus import stopwords\n",
    "from nltk.tokenize import word_tokenize\n",
    "\n",
    "import en_core_web_sm\n",
    "\n",
    "from collections import Counter\n",
    "\n",
    "from deep_translator import GoogleTranslator"
   ]
  },
  {
   "cell_type": "code",
   "execution_count": 177,
   "metadata": {},
   "outputs": [
    {
     "name": "stderr",
     "output_type": "stream",
     "text": [
      "[nltk_data] Downloading package stopwords to\n",
      "[nltk_data]     C:\\Users\\jerem\\AppData\\Roaming\\nltk_data...\n",
      "[nltk_data]   Package stopwords is already up-to-date!\n",
      "[nltk_data] Downloading package punkt to\n",
      "[nltk_data]     C:\\Users\\jerem\\AppData\\Roaming\\nltk_data...\n",
      "[nltk_data]   Package punkt is already up-to-date!\n"
     ]
    },
    {
     "data": {
      "text/plain": [
       "True"
      ]
     },
     "execution_count": 177,
     "metadata": {},
     "output_type": "execute_result"
    }
   ],
   "source": [
    "nltk.download('stopwords')\n",
    "nltk.download('punkt')"
   ]
  },
  {
   "cell_type": "code",
   "execution_count": 240,
   "metadata": {},
   "outputs": [],
   "source": [
    "def preprocess_sentence(sentence, num_keywords=3, pos=[\"NOUN\", \"ADJ\"]):\n",
    "\n",
    "    nlp = en_core_web_sm.load()\n",
    "    stop_words = set(stopwords.words('english'))\n",
    "\n",
    "    corpus = nlp(sentence)\n",
    "    non_movies_corpus = nlp(\" \".join([token.text for token in corpus if token.text.lower() not in [\"movie\", \"movies\"]]))\n",
    "    corpus_clean = nlp(\" \".join([token.lemma_ for token in non_movies_corpus if token.text.lower() not in stop_words and token.is_punct == False]))\n",
    "    frequent_words = Counter([token.text for token in corpus_clean if token.pos_ in pos])\n",
    "    keywords = [words for words, _ in frequent_words.most_common(num_keywords)]\n",
    "\n",
    "    return ' '.join(keywords)"
   ]
  },
  {
   "cell_type": "code",
   "execution_count": 208,
   "metadata": {},
   "outputs": [],
   "source": [
    "prompt_1 = \"Je veux voir un film sur des requins, de l'eau et du sang\"\n",
    "prompt_2 = \"I want to watch a movie with sharks, water and blood\""
   ]
  },
  {
   "cell_type": "code",
   "execution_count": 238,
   "metadata": {},
   "outputs": [
    {
     "data": {
      "text/plain": [
       "'shark water blood'"
      ]
     },
     "execution_count": 238,
     "metadata": {},
     "output_type": "execute_result"
    }
   ],
   "source": [
    "translated = GoogleTranslator(source='auto', target='en').translate(prompt_1)\n",
    "preprocess_sentence(translated, 3, pos=[\"NOUN\", \"ADJ\"])"
   ]
  },
  {
   "cell_type": "code",
   "execution_count": 236,
   "metadata": {},
   "outputs": [
    {
     "data": {
      "text/plain": [
       "'shark water blood'"
      ]
     },
     "execution_count": 236,
     "metadata": {},
     "output_type": "execute_result"
    }
   ],
   "source": [
    "preprocess_sentence(prompt_2, 3, pos=[\"NOUN\", \"ADJ\"])"
   ]
  },
  {
   "cell_type": "code",
   "execution_count": 241,
   "metadata": {},
   "outputs": [],
   "source": [
    "def nlp_reco(prompt: str, df, n_recommendations: int):\n",
    "    '''\n",
    "    This function returns a dataframe with a selection of movies recommandations based on user's specific text input\n",
    "\n",
    "    Args: \n",
    "    - prompt : the user's text input describing the kind of movies he wants to see\n",
    "    - df : a Dataframe containing at least the columns movieId, title and synopsis\n",
    "    - n_recommandations : the number of movies we want to recommand to the user\n",
    "\n",
    "    Returns:\n",
    "    - reco : a dataframe containing the movie_id, the titles and the genres of the movies we recommand to the user\n",
    "    \n",
    "    '''\n",
    " \n",
    "    vectorizer = TfidfVectorizer(stop_words=\"english\")\n",
    "\n",
    "    synopsis_tfidf = vectorizer.fit_transform(df['Synopsis'])\n",
    "\n",
    "    nn = NearestNeighbors(n_neighbors=n_recommendations)\n",
    "    nn.fit(synopsis_tfidf)\n",
    "\n",
    "    prompt_translate = GoogleTranslator(source='auto', target='en').translate(prompt)\n",
    "\n",
    "    prompt_extract = preprocess_sentence(prompt_translate, 3, pos=[\"NOUN\", \"ADJ\"])\n",
    "\n",
    "    prompt_tfidf = vectorizer.transform([prompt_extract])\n",
    "\n",
    "    reco_idx = nn.kneighbors(prompt_tfidf, return_distance=False)[0]\n",
    "\n",
    "    reco = df[['MovieId', 'Title', 'Genres', 'Synopsis']].set_index('MovieId').iloc[reco_idx]\n",
    "\n",
    "    return reco"
   ]
  },
  {
   "cell_type": "code",
   "execution_count": 242,
   "metadata": {},
   "outputs": [
    {
     "data": {
      "text/html": [
       "<div>\n",
       "<style scoped>\n",
       "    .dataframe tbody tr th:only-of-type {\n",
       "        vertical-align: middle;\n",
       "    }\n",
       "\n",
       "    .dataframe tbody tr th {\n",
       "        vertical-align: top;\n",
       "    }\n",
       "\n",
       "    .dataframe thead th {\n",
       "        text-align: right;\n",
       "    }\n",
       "</style>\n",
       "<table border=\"1\" class=\"dataframe\">\n",
       "  <thead>\n",
       "    <tr style=\"text-align: right;\">\n",
       "      <th></th>\n",
       "      <th>Title</th>\n",
       "      <th>Genres</th>\n",
       "      <th>Synopsis</th>\n",
       "    </tr>\n",
       "    <tr>\n",
       "      <th>MovieId</th>\n",
       "      <th></th>\n",
       "      <th></th>\n",
       "      <th></th>\n",
       "    </tr>\n",
       "  </thead>\n",
       "  <tbody>\n",
       "    <tr>\n",
       "      <th>248</th>\n",
       "      <td>Houseguest</td>\n",
       "      <td>['Comedy']</td>\n",
       "      <td>In hot water with the mob over an unpaid debt,...</td>\n",
       "    </tr>\n",
       "    <tr>\n",
       "      <th>1387</th>\n",
       "      <td>Jaws</td>\n",
       "      <td>['Action|Horror']</td>\n",
       "      <td>When a killer shark unleashes chaos on a beach...</td>\n",
       "    </tr>\n",
       "    <tr>\n",
       "      <th>1388</th>\n",
       "      <td>Jaws 2</td>\n",
       "      <td>['Horror|Thriller']</td>\n",
       "      <td>Police chief Brody must protect the citizens o...</td>\n",
       "    </tr>\n",
       "    <tr>\n",
       "      <th>1389</th>\n",
       "      <td>Jaws 3-D</td>\n",
       "      <td>['Action|Horror']</td>\n",
       "      <td>A giant thirty-five-foot shark becomes trapped...</td>\n",
       "    </tr>\n",
       "    <tr>\n",
       "      <th>2081</th>\n",
       "      <td>The Little Mermaid</td>\n",
       "      <td>['Animation|Children|Comedy|Musical|Romance']</td>\n",
       "      <td>A young mermaid makes a deal with a sea witch ...</td>\n",
       "    </tr>\n",
       "    <tr>\n",
       "      <th>3927</th>\n",
       "      <td>Fantastic Voyage</td>\n",
       "      <td>['Adventure|Sci-Fi']</td>\n",
       "      <td>When a blood clot renders a scientist comatose...</td>\n",
       "    </tr>\n",
       "    <tr>\n",
       "      <th>8907</th>\n",
       "      <td>Shark Tale</td>\n",
       "      <td>['Animation|Children|Comedy']</td>\n",
       "      <td>When a son of a gangster shark boss is acciden...</td>\n",
       "    </tr>\n",
       "    <tr>\n",
       "      <th>30810</th>\n",
       "      <td>The Life Aquatic with Steve Zissou</td>\n",
       "      <td>['Adventure|Comedy|Fantasy']</td>\n",
       "      <td>With a plan to exact revenge on a mythical sha...</td>\n",
       "    </tr>\n",
       "    <tr>\n",
       "      <th>69844</th>\n",
       "      <td>Harry Potter and the Half-Blood Prince</td>\n",
       "      <td>['Adventure|Fantasy|Mystery|Romance|IMAX']</td>\n",
       "      <td>As Harry Potter begins his sixth year at Hogwa...</td>\n",
       "    </tr>\n",
       "    <tr>\n",
       "      <th>119141</th>\n",
       "      <td>The Interview</td>\n",
       "      <td>['Action|Comedy']</td>\n",
       "      <td>Based on Anne Rice's iconic novel, follow Loui...</td>\n",
       "    </tr>\n",
       "  </tbody>\n",
       "</table>\n",
       "</div>"
      ],
      "text/plain": [
       "                                          Title  \\\n",
       "MovieId                                           \n",
       "248                                  Houseguest   \n",
       "1387                                       Jaws   \n",
       "1388                                     Jaws 2   \n",
       "1389                                   Jaws 3-D   \n",
       "2081                         The Little Mermaid   \n",
       "3927                           Fantastic Voyage   \n",
       "8907                                 Shark Tale   \n",
       "30810        The Life Aquatic with Steve Zissou   \n",
       "69844    Harry Potter and the Half-Blood Prince   \n",
       "119141                            The Interview   \n",
       "\n",
       "                                                Genres  \\\n",
       "MovieId                                                  \n",
       "248                                         ['Comedy']   \n",
       "1387                                 ['Action|Horror']   \n",
       "1388                               ['Horror|Thriller']   \n",
       "1389                                 ['Action|Horror']   \n",
       "2081     ['Animation|Children|Comedy|Musical|Romance']   \n",
       "3927                              ['Adventure|Sci-Fi']   \n",
       "8907                     ['Animation|Children|Comedy']   \n",
       "30810                     ['Adventure|Comedy|Fantasy']   \n",
       "69844       ['Adventure|Fantasy|Mystery|Romance|IMAX']   \n",
       "119141                               ['Action|Comedy']   \n",
       "\n",
       "                                                  Synopsis  \n",
       "MovieId                                                     \n",
       "248      In hot water with the mob over an unpaid debt,...  \n",
       "1387     When a killer shark unleashes chaos on a beach...  \n",
       "1388     Police chief Brody must protect the citizens o...  \n",
       "1389     A giant thirty-five-foot shark becomes trapped...  \n",
       "2081     A young mermaid makes a deal with a sea witch ...  \n",
       "3927     When a blood clot renders a scientist comatose...  \n",
       "8907     When a son of a gangster shark boss is acciden...  \n",
       "30810    With a plan to exact revenge on a mythical sha...  \n",
       "69844    As Harry Potter begins his sixth year at Hogwa...  \n",
       "119141   Based on Anne Rice's iconic novel, follow Loui...  "
      ]
     },
     "execution_count": 242,
     "metadata": {},
     "output_type": "execute_result"
    }
   ],
   "source": [
    "prompt = \"Je veux voir un film sur des requins, de l'eau et du sang\"\n",
    "nlp_recommandation = nlp_reco(prompt, movies, 10)\n",
    "nlp_recommandation"
   ]
  },
  {
   "cell_type": "markdown",
   "metadata": {},
   "source": [
    "**Test fonction NLP/LLM avec des Transformers (Neural Nets)**"
   ]
  },
  {
   "cell_type": "markdown",
   "metadata": {},
   "source": [
    "Here do not forget to write before :\n",
    "\n",
    "-!pip install sentence-transformers (it takes around 1 min 30)\n"
   ]
  },
  {
   "cell_type": "code",
   "execution_count": 41,
   "metadata": {},
   "outputs": [
    {
     "name": "stderr",
     "output_type": "stream",
     "text": [
      "C:\\Users\\jerem\\AppData\\Local\\Packages\\PythonSoftwareFoundation.Python.3.11_qbz5n2kfra8p0\\LocalCache\\local-packages\\Python311\\site-packages\\tqdm\\auto.py:21: TqdmWarning: IProgress not found. Please update jupyter and ipywidgets. See https://ipywidgets.readthedocs.io/en/stable/user_install.html\n",
      "  from .autonotebook import tqdm as notebook_tqdm\n"
     ]
    }
   ],
   "source": [
    "from sentence_transformers import SentenceTransformer, util"
   ]
  },
  {
   "cell_type": "code",
   "execution_count": 46,
   "metadata": {},
   "outputs": [],
   "source": [
    "def llm_reco(prompt, df, n_recommendations):\n",
    "\n",
    "    '''\n",
    "    This function returns a dataframe with a selection of movies recommandations based on user's specific text input\n",
    "\n",
    "    Args:\n",
    "    - prompt : the user's text input describing the kind of movies he wants to see\n",
    "    - df : the original dataframe generated with the csv import \n",
    "    - n_recommandations : the number of movies we want to recommand to the user\n",
    "\n",
    "    Returns:\n",
    "    - recommandations : a dataframe containing the movie_id, the titles and the genres of the movies we recommand to the user\n",
    "    \n",
    "    '''\n",
    "\n",
    "    model = SentenceTransformer('distiluse-base-multilingual-cased')\n",
    "\n",
    "\n",
    "    prompt = preprocess_text(prompt)\n",
    "    df['preprocess_synopsis'] = df['Synopsis'].apply(preprocess_text)\n",
    "    synopsis = list(df['preprocess_synopsis'])\n",
    "    \n",
    "\n",
    "\n",
    "    prompt_embed = model.encode(prompt, convert_to_tensor=True)\n",
    "    synopis_embed = model.encode(synopsis, convert_to_tensor=True)\n",
    "\n",
    "\n",
    "    similarities = util.pytorch_cos_sim(prompt_embed, synopis_embed)[0]\n",
    "\n",
    " \n",
    "    similar_idx = similarities.argsort(descending=True)[:n_recommendations]\n",
    "\n",
    "\n",
    "    reco = df[['MovieId', 'Title', 'Genres', 'Synopsis']].set_index('MovieId').iloc[similar_idx]\n",
    "\n",
    "    return reco"
   ]
  },
  {
   "cell_type": "code",
   "execution_count": 47,
   "metadata": {},
   "outputs": [
    {
     "data": {
      "text/html": [
       "<div>\n",
       "<style scoped>\n",
       "    .dataframe tbody tr th:only-of-type {\n",
       "        vertical-align: middle;\n",
       "    }\n",
       "\n",
       "    .dataframe tbody tr th {\n",
       "        vertical-align: top;\n",
       "    }\n",
       "\n",
       "    .dataframe thead th {\n",
       "        text-align: right;\n",
       "    }\n",
       "</style>\n",
       "<table border=\"1\" class=\"dataframe\">\n",
       "  <thead>\n",
       "    <tr style=\"text-align: right;\">\n",
       "      <th></th>\n",
       "      <th>Title</th>\n",
       "      <th>Genres</th>\n",
       "      <th>Synopsis</th>\n",
       "    </tr>\n",
       "    <tr>\n",
       "      <th>MovieId</th>\n",
       "      <th></th>\n",
       "      <th></th>\n",
       "      <th></th>\n",
       "    </tr>\n",
       "  </thead>\n",
       "  <tbody>\n",
       "    <tr>\n",
       "      <th>1387</th>\n",
       "      <td>Jaws</td>\n",
       "      <td>['Action|Horror']</td>\n",
       "      <td>When a killer shark unleashes chaos on a beach...</td>\n",
       "    </tr>\n",
       "    <tr>\n",
       "      <th>108729</th>\n",
       "      <td>Enemy</td>\n",
       "      <td>['Mystery|Thriller']</td>\n",
       "      <td>A man seeks out his exact look-alike after spo...</td>\n",
       "    </tr>\n",
       "    <tr>\n",
       "      <th>1388</th>\n",
       "      <td>Jaws 2</td>\n",
       "      <td>['Horror|Thriller']</td>\n",
       "      <td>Police chief Brody must protect the citizens o...</td>\n",
       "    </tr>\n",
       "    <tr>\n",
       "      <th>344</th>\n",
       "      <td>Ace Ventura: Pet Detective</td>\n",
       "      <td>['Comedy']</td>\n",
       "      <td>A goofy detective specializing in animals goes...</td>\n",
       "    </tr>\n",
       "    <tr>\n",
       "      <th>1060</th>\n",
       "      <td>Swingers</td>\n",
       "      <td>['Comedy|Drama']</td>\n",
       "      <td>A wannabe actor has a hard time moving on from...</td>\n",
       "    </tr>\n",
       "    <tr>\n",
       "      <th>1389</th>\n",
       "      <td>Jaws 3-D</td>\n",
       "      <td>['Action|Horror']</td>\n",
       "      <td>A giant thirty-five-foot shark becomes trapped...</td>\n",
       "    </tr>\n",
       "    <tr>\n",
       "      <th>2713</th>\n",
       "      <td>Lake Placid</td>\n",
       "      <td>['Horror|Thriller']</td>\n",
       "      <td>Four people attempt to stop a gigantic crocodi...</td>\n",
       "    </tr>\n",
       "    <tr>\n",
       "      <th>1111</th>\n",
       "      <td>Microcosmos</td>\n",
       "      <td>['Documentary']</td>\n",
       "      <td>A documentary on insect life in meadows and po...</td>\n",
       "    </tr>\n",
       "    <tr>\n",
       "      <th>3146</th>\n",
       "      <td>Deuce Bigalow: Male Gigolo</td>\n",
       "      <td>['Comedy']</td>\n",
       "      <td>An average aquarium cleaner house-sits for a g...</td>\n",
       "    </tr>\n",
       "    <tr>\n",
       "      <th>3007</th>\n",
       "      <td>American Movie</td>\n",
       "      <td>['Documentary']</td>\n",
       "      <td>Documentary about an aspiring filmmaker's atte...</td>\n",
       "    </tr>\n",
       "  </tbody>\n",
       "</table>\n",
       "</div>"
      ],
      "text/plain": [
       "                              Title                Genres  \\\n",
       "MovieId                                                     \n",
       "1387                           Jaws     ['Action|Horror']   \n",
       "108729                        Enemy  ['Mystery|Thriller']   \n",
       "1388                         Jaws 2   ['Horror|Thriller']   \n",
       "344      Ace Ventura: Pet Detective            ['Comedy']   \n",
       "1060                       Swingers      ['Comedy|Drama']   \n",
       "1389                       Jaws 3-D     ['Action|Horror']   \n",
       "2713                    Lake Placid   ['Horror|Thriller']   \n",
       "1111                   Microcosmos        ['Documentary']   \n",
       "3146     Deuce Bigalow: Male Gigolo            ['Comedy']   \n",
       "3007                 American Movie       ['Documentary']   \n",
       "\n",
       "                                                  Synopsis  \n",
       "MovieId                                                     \n",
       "1387     When a killer shark unleashes chaos on a beach...  \n",
       "108729   A man seeks out his exact look-alike after spo...  \n",
       "1388     Police chief Brody must protect the citizens o...  \n",
       "344      A goofy detective specializing in animals goes...  \n",
       "1060     A wannabe actor has a hard time moving on from...  \n",
       "1389     A giant thirty-five-foot shark becomes trapped...  \n",
       "2713     Four people attempt to stop a gigantic crocodi...  \n",
       "1111     A documentary on insect life in meadows and po...  \n",
       "3146     An average aquarium cleaner house-sits for a g...  \n",
       "3007     Documentary about an aspiring filmmaker's atte...  "
      ]
     },
     "execution_count": 47,
     "metadata": {},
     "output_type": "execute_result"
    }
   ],
   "source": [
    "prompt = 'Je veux voir un film sur des requins'\n",
    "llm_recommandation = llm_reco(prompt, movies, 10)\n",
    "llm_recommandation"
   ]
  },
  {
   "cell_type": "code",
   "execution_count": null,
   "metadata": {},
   "outputs": [],
   "source": []
  }
 ],
 "metadata": {
  "kernelspec": {
   "display_name": "Python 3",
   "language": "python",
   "name": "python3"
  },
  "language_info": {
   "codemirror_mode": {
    "name": "ipython",
    "version": 3
   },
   "file_extension": ".py",
   "mimetype": "text/x-python",
   "name": "python",
   "nbconvert_exporter": "python",
   "pygments_lexer": "ipython3",
   "version": "3.11.7"
  }
 },
 "nbformat": 4,
 "nbformat_minor": 2
}
