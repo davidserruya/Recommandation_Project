{
 "cells": [
  {
   "cell_type": "code",
   "execution_count": 1,
   "metadata": {},
   "outputs": [],
   "source": [
    "import pandas as pd \n",
    "import numpy as np \n",
    "from scipy.sparse import csr_matrix"
   ]
  },
  {
   "cell_type": "markdown",
   "metadata": {},
   "source": [
    "## Test fonctions Databases"
   ]
  },
  {
   "cell_type": "code",
   "execution_count": 2,
   "metadata": {},
   "outputs": [],
   "source": [
    "def load_data(path: str, chunk_size: int):\n",
    "    '''\n",
    "    This function returns a dataframe generated from a csv file path as input\n",
    "\n",
    "    Args:\n",
    "    - path : the path where the csv file is located, as a string type\n",
    "    - chunk_size : number of lines to read from the file per chunk, as an int type\n",
    "\n",
    "    Returns:\n",
    "    - df : the dataframe loaded from the csv file\n",
    "\n",
    "    '''\n",
    "\n",
    "    data = pd.read_csv(path, iterator=True, chunksize=chunk_size)\n",
    "    df = df = pd.concat(data, ignore_index=True)\n",
    "\n",
    "    return df"
   ]
  },
  {
   "cell_type": "code",
   "execution_count": 3,
   "metadata": {},
   "outputs": [],
   "source": [
    "ratings = load_data('ratings_final.csv', 100000)\n",
    "movies = load_data('movies_affiche_final.csv', 500)\n",
    "sql = load_data('db_sql_final.csv', 500)"
   ]
  },
  {
   "cell_type": "code",
   "execution_count": 4,
   "metadata": {},
   "outputs": [],
   "source": [
    "def create_matrix(df):\n",
    "    \"\"\"\n",
    "    This function creates a sparse user-movie matrix from a dataframe\n",
    "\n",
    "    Args:\n",
    "    - a Dataframe that contains at least the columns movieId, userId, and rating (db_preprocessing)\n",
    "\n",
    "    Returns:\n",
    "    - matrix : a sparse user-movie matrix of size NxM with N the number of unique users and M the number of unique movies\n",
    "    - map_user : a dictionary that maps user_ids to their respective indices\n",
    "    - map_user_inv : a dictionary that maps indices to the user_id\n",
    "    - map_movie : a dictionary that maps movie_ids to their respective indices\n",
    "    - map_movie_inv : a dictionary that maps indices to the movie_id\n",
    "\n",
    "    Inspired by the following repo : https://github.com/topspinj/tmls-2020-recommender-workshop\n",
    "    \"\"\"\n",
    "\n",
    "    N = df['UserId'].nunique()\n",
    "    M = df['MovieId'].nunique()\n",
    "\n",
    "    map_user = dict(zip(np.unique(df['UserId']), list(range(df['UserId'].nunique()))))\n",
    "    map_movie = dict(zip(np.unique(df['MovieId']), list(range(df['MovieId'].nunique()))))\n",
    "\n",
    "    user_idx = [map_user[i] for i in df['UserId']]\n",
    "    movie_idx = [map_movie[i] for i in df['MovieId']]\n",
    "\n",
    "    matrix = csr_matrix((df[\"Rating\"], (user_idx, movie_idx)), shape=(N,M))\n",
    "\n",
    "    df_matrix = df.pivot(index='UserId', columns='MovieId', values='Rating').fillna(0)\n",
    "\n",
    "    return matrix, df_matrix, map_user, map_movie"
   ]
  },
  {
   "cell_type": "code",
   "execution_count": 5,
   "metadata": {},
   "outputs": [],
   "source": [
    "matrix, df_matrix, map_user, map_movie = create_matrix(ratings)"
   ]
  },
  {
   "cell_type": "markdown",
   "metadata": {},
   "source": [
    "## Tests fonctions Recommandations"
   ]
  },
  {
   "cell_type": "code",
   "execution_count": 20,
   "metadata": {},
   "outputs": [],
   "source": [
    "from scipy.sparse.linalg import svds"
   ]
  },
  {
   "cell_type": "code",
   "execution_count": 8,
   "metadata": {},
   "outputs": [],
   "source": [
    "def svd(matrix, map_user: dict, map_movie: dict, n_factors: int):\n",
    "    \"\"\"\n",
    "    This function returns a dataframe with the predicted ratings for all users within the dataframe\n",
    "\n",
    "    Args:\n",
    "    - matrix : the sparse user-movie matrix created using the create_matrix function\n",
    "    - n_factors : the number of factors / rank of the latent matrix for factorization\n",
    "    - map_user : a dictionary that maps user_ids to their respective indices\n",
    "    - map_movie : a dictionary that maps movie_ids to their respective indices\n",
    "\n",
    "    Returns:\n",
    "    - predictions : a DataFrame containing the predicted ratings for all users in the original dataset\n",
    "\n",
    "    Inspired by the following Git repo : https://github.com/vivdalal/movie-recommender-system\n",
    "        \n",
    "    \"\"\"\n",
    "    # The following code creates :\n",
    "    # U : user matrix of dimension (n_users, n_factors)\n",
    "    # sigma : the diagonal matrix of singular values\n",
    "    # V_t : the transposed movie matrix of dimension (n_factors, n_movies)\n",
    "    \n",
    "    try:\n",
    "\n",
    "        U, sigma, V_t = svds(matrix, k = n_factors)\n",
    "\n",
    "        sigma = np.diag(sigma)\n",
    "\n",
    "        pred_ratings = np.dot((U @ sigma), V_t)\n",
    "\n",
    "        predictions = pd.DataFrame(pred_ratings)\n",
    "\n",
    "        predictions.rename(columns=dict(zip(predictions.columns, list(map_movie.keys()))), inplace=True)\n",
    "        predictions.index = list(map_user.keys())\n",
    "    \n",
    "    except ValueError:\n",
    "        print('The number of factor ({0}) is either smaller than 1 or larger than one dimension of \\\n",
    "              the matrix shape ({1})'.format(n_factors, matrix.shape))\n",
    "    \n",
    "    return predictions"
   ]
  },
  {
   "cell_type": "code",
   "execution_count": 9,
   "metadata": {},
   "outputs": [],
   "source": [
    "df_pred = svd(matrix, map_user, map_movie, 50)"
   ]
  },
  {
   "cell_type": "code",
   "execution_count": 11,
   "metadata": {},
   "outputs": [],
   "source": [
    "def generate_reco(df, user_id: int, n_recommandations: int, n_factors:50):\n",
    "    \"\"\"\n",
    "    This function returns a DataFrame with movies recommandations based on user's previously rated movies\n",
    "\n",
    "    Args:\n",
    "    - df : a Dataframe that contains at least the columns movieId, userId, and rating\n",
    "    - user_id : the user id of the user we want to make recommandations to\n",
    "    - n_recommandations : the number of movies we want to recommand to the user\n",
    "    - n_factors : the number of factors / rank of the latent matrix for factorization (default is 50)\n",
    "\n",
    "    Returns:\n",
    "    - recommandations : a list containing the movie_id of the movies we recommand to the user\n",
    "\n",
    "    Inspired by the following Git repo : https://github.com/vivdalal/movie-recommender-system\n",
    "    \"\"\"\n",
    "\n",
    "    matrix, df_matrix, map_user, map_movie = create_matrix(df)\n",
    "\n",
    "    df_pred = svd(matrix, map_user, map_movie, n_factors).loc[user_id].sort_values(ascending=False)\n",
    "\n",
    "    user_data = df_matrix.loc[user_id]\n",
    "\n",
    "    seen_movies = list(user_data[user_data != 0.0].index)\n",
    "    \n",
    "    reco_movies = df_pred[~df_pred.index.isin(seen_movies)][:n_recommandations].index\n",
    "\n",
    "    recommandations = list(df[['MovieId']].drop_duplicates(subset=['MovieId']).set_index('MovieId').loc[reco_movies].index)\n",
    "    \n",
    "    return recommandations"
   ]
  },
  {
   "cell_type": "code",
   "execution_count": 12,
   "metadata": {},
   "outputs": [],
   "source": [
    "reco = generate_reco(ratings, user_id=997, n_recommandations=10, n_factors=50)"
   ]
  },
  {
   "cell_type": "markdown",
   "metadata": {},
   "source": [
    "**Test fonction NLP avec Spacy**"
   ]
  },
  {
   "cell_type": "markdown",
   "metadata": {},
   "source": [
    "Here do not forget to write before :\n",
    "\n",
    "- !pip install nltk\n",
    "- !pip install spacy\n",
    "- !spacy download xx_ent_wiki_sm\n"
   ]
  },
  {
   "cell_type": "code",
   "execution_count": 30,
   "metadata": {},
   "outputs": [],
   "source": [
    "import spacy\n",
    "from sklearn.feature_extraction.text import TfidfVectorizer\n",
    "from sklearn.neighbors import NearestNeighbors\n",
    "\n",
    "import nltk\n",
    "from nltk.corpus import stopwords\n",
    "from nltk.tokenize import word_tokenize"
   ]
  },
  {
   "cell_type": "code",
   "execution_count": 31,
   "metadata": {},
   "outputs": [
    {
     "name": "stderr",
     "output_type": "stream",
     "text": [
      "[nltk_data] Downloading package stopwords to\n",
      "[nltk_data]     C:\\Users\\jerem\\AppData\\Roaming\\nltk_data...\n",
      "[nltk_data]   Package stopwords is already up-to-date!\n",
      "[nltk_data] Downloading package punkt to\n",
      "[nltk_data]     C:\\Users\\jerem\\AppData\\Roaming\\nltk_data...\n",
      "[nltk_data]   Package punkt is already up-to-date!\n"
     ]
    },
    {
     "data": {
      "text/plain": [
       "True"
      ]
     },
     "execution_count": 31,
     "metadata": {},
     "output_type": "execute_result"
    }
   ],
   "source": [
    "nltk.download('stopwords')\n",
    "nltk.download('punkt')"
   ]
  },
  {
   "cell_type": "code",
   "execution_count": 33,
   "metadata": {},
   "outputs": [],
   "source": [
    "def preprocess_text(text):\n",
    "\n",
    "    stop_words = set(stopwords.words('english'))\n",
    "    words = word_tokenize(text)\n",
    "    filtered_words = [word.lower() for word in words if word.isalnum() and word.lower() not in stop_words]\n",
    "    \n",
    "    return ' '.join(filtered_words)"
   ]
  },
  {
   "cell_type": "code",
   "execution_count": 38,
   "metadata": {},
   "outputs": [],
   "source": [
    "def nlp_reco(prompt: str, df, n_recommendations: int):\n",
    "    '''\n",
    "    This function returns a dataframe with a selection of movies recommandations based on user's specific text input\n",
    "\n",
    "    Args: \n",
    "    - prompt : the user's text input describing the kind of movies he wants to see\n",
    "    - df : a Dataframe containing at least the columns movieId, title and synopsis\n",
    "    - n_recommandations : the number of movies we want to recommand to the user\n",
    "\n",
    "    Returns:\n",
    "    - reco : a dataframe containing the movie_id, the titles and the genres of the movies we recommand to the user\n",
    "    \n",
    "    '''\n",
    "    model = spacy.load(\"xx_ent_wiki_sm\")\n",
    "\n",
    "    df['prepro_synopsis'] = df['Synopsis'].apply(preprocess_text)\n",
    " \n",
    "    vectorizer = TfidfVectorizer(stop_words=\"english\")\n",
    "\n",
    "    synopsis_tfidf = vectorizer.fit_transform(df['prepro_synopsis'])\n",
    "\n",
    "    nn = NearestNeighbors(n_neighbors=n_recommendations)\n",
    "    nn.fit(synopsis_tfidf)\n",
    "\n",
    "    prompt_doc = model(prompt)\n",
    "    prompt_text = preprocess_text(prompt_doc.text)\n",
    "    prompt_tfidf = vectorizer.transform([prompt_text])\n",
    "\n",
    "    reco_idx = nn.kneighbors(prompt_tfidf, return_distance=False)[0]\n",
    "\n",
    "    reco = df[['MovieId', 'Title', 'Genres', 'Synopsis']].set_index('MovieId').iloc[reco_idx].sort_index()\n",
    "\n",
    "    return reco"
   ]
  },
  {
   "cell_type": "code",
   "execution_count": 39,
   "metadata": {},
   "outputs": [
    {
     "data": {
      "text/html": [
       "<div>\n",
       "<style scoped>\n",
       "    .dataframe tbody tr th:only-of-type {\n",
       "        vertical-align: middle;\n",
       "    }\n",
       "\n",
       "    .dataframe tbody tr th {\n",
       "        vertical-align: top;\n",
       "    }\n",
       "\n",
       "    .dataframe thead th {\n",
       "        text-align: right;\n",
       "    }\n",
       "</style>\n",
       "<table border=\"1\" class=\"dataframe\">\n",
       "  <thead>\n",
       "    <tr style=\"text-align: right;\">\n",
       "      <th></th>\n",
       "      <th>Title</th>\n",
       "      <th>Genres</th>\n",
       "      <th>Synopsis</th>\n",
       "    </tr>\n",
       "    <tr>\n",
       "      <th>MovieId</th>\n",
       "      <th></th>\n",
       "      <th></th>\n",
       "      <th></th>\n",
       "    </tr>\n",
       "  </thead>\n",
       "  <tbody>\n",
       "    <tr>\n",
       "      <th>4</th>\n",
       "      <td>Waiting to Exhale</td>\n",
       "      <td>['Comedy|Drama|Romance']</td>\n",
       "      <td>Based on Terry McMillan's novel, this film fol...</td>\n",
       "    </tr>\n",
       "    <tr>\n",
       "      <th>145</th>\n",
       "      <td>Bad Boys</td>\n",
       "      <td>['Action|Comedy|Crime|Drama|Thriller']</td>\n",
       "      <td>Plot unknown. Fourth installment of the 'Bad B...</td>\n",
       "    </tr>\n",
       "    <tr>\n",
       "      <th>520</th>\n",
       "      <td>Robin Hood: Men in Tights</td>\n",
       "      <td>['Comedy']</td>\n",
       "      <td>A spoof of Robin Hood in general, and Robin de...</td>\n",
       "    </tr>\n",
       "    <tr>\n",
       "      <th>1080</th>\n",
       "      <td>Monty Python's Life of Brian</td>\n",
       "      <td>['Comedy']</td>\n",
       "      <td>Monty Python's The Life of Brian (1979) - Writ...</td>\n",
       "    </tr>\n",
       "    <tr>\n",
       "      <th>2505</th>\n",
       "      <td>8MM</td>\n",
       "      <td>['Drama|Mystery|Thriller']</td>\n",
       "      <td>A private investigator is hired to discover if...</td>\n",
       "    </tr>\n",
       "    <tr>\n",
       "      <th>2671</th>\n",
       "      <td>Notting Hill</td>\n",
       "      <td>['Comedy|Romance']</td>\n",
       "      <td>The life of a simple bookshop owner changes wh...</td>\n",
       "    </tr>\n",
       "    <tr>\n",
       "      <th>2710</th>\n",
       "      <td>The Blair Witch Project</td>\n",
       "      <td>['Drama|Horror|Thriller']</td>\n",
       "      <td>Three film students vanish after traveling int...</td>\n",
       "    </tr>\n",
       "    <tr>\n",
       "      <th>2770</th>\n",
       "      <td>Bowfinger</td>\n",
       "      <td>['Comedy']</td>\n",
       "      <td>When a desperate movie producer fails to get a...</td>\n",
       "    </tr>\n",
       "    <tr>\n",
       "      <th>3159</th>\n",
       "      <td>Fantasia 2000</td>\n",
       "      <td>['Animation|Children|Musical|IMAX']</td>\n",
       "      <td>An update of the original film with new interp...</td>\n",
       "    </tr>\n",
       "    <tr>\n",
       "      <th>4017</th>\n",
       "      <td>Pollock</td>\n",
       "      <td>['Drama']</td>\n",
       "      <td>A film about the life and career of the Americ...</td>\n",
       "    </tr>\n",
       "  </tbody>\n",
       "</table>\n",
       "</div>"
      ],
      "text/plain": [
       "                                Title                                  Genres  \\\n",
       "MovieId                                                                         \n",
       "4                   Waiting to Exhale                ['Comedy|Drama|Romance']   \n",
       "145                          Bad Boys  ['Action|Comedy|Crime|Drama|Thriller']   \n",
       "520         Robin Hood: Men in Tights                              ['Comedy']   \n",
       "1080     Monty Python's Life of Brian                              ['Comedy']   \n",
       "2505                              8MM              ['Drama|Mystery|Thriller']   \n",
       "2671                     Notting Hill                      ['Comedy|Romance']   \n",
       "2710          The Blair Witch Project               ['Drama|Horror|Thriller']   \n",
       "2770                        Bowfinger                              ['Comedy']   \n",
       "3159                    Fantasia 2000     ['Animation|Children|Musical|IMAX']   \n",
       "4017                          Pollock                               ['Drama']   \n",
       "\n",
       "                                                  Synopsis  \n",
       "MovieId                                                     \n",
       "4        Based on Terry McMillan's novel, this film fol...  \n",
       "145      Plot unknown. Fourth installment of the 'Bad B...  \n",
       "520      A spoof of Robin Hood in general, and Robin de...  \n",
       "1080     Monty Python's The Life of Brian (1979) - Writ...  \n",
       "2505     A private investigator is hired to discover if...  \n",
       "2671     The life of a simple bookshop owner changes wh...  \n",
       "2710     Three film students vanish after traveling int...  \n",
       "2770     When a desperate movie producer fails to get a...  \n",
       "3159     An update of the original film with new interp...  \n",
       "4017     A film about the life and career of the Americ...  "
      ]
     },
     "execution_count": 39,
     "metadata": {},
     "output_type": "execute_result"
    }
   ],
   "source": [
    "prompt = 'Je veux voir un film sur des requins'\n",
    "nlp_recommandation = nlp_reco(prompt, movies, 10)\n",
    "nlp_recommandation"
   ]
  },
  {
   "cell_type": "markdown",
   "metadata": {},
   "source": [
    "**Test fonction NLP/LLM avec des Transformers (Neural Nets)**"
   ]
  },
  {
   "cell_type": "markdown",
   "metadata": {},
   "source": [
    "Here do not forget to write before :\n",
    "\n",
    "-!pip install sentence-transformers (it takes around 1 min 30)\n"
   ]
  },
  {
   "cell_type": "code",
   "execution_count": 41,
   "metadata": {},
   "outputs": [
    {
     "name": "stderr",
     "output_type": "stream",
     "text": [
      "C:\\Users\\jerem\\AppData\\Local\\Packages\\PythonSoftwareFoundation.Python.3.11_qbz5n2kfra8p0\\LocalCache\\local-packages\\Python311\\site-packages\\tqdm\\auto.py:21: TqdmWarning: IProgress not found. Please update jupyter and ipywidgets. See https://ipywidgets.readthedocs.io/en/stable/user_install.html\n",
      "  from .autonotebook import tqdm as notebook_tqdm\n"
     ]
    }
   ],
   "source": [
    "from sentence_transformers import SentenceTransformer, util"
   ]
  },
  {
   "cell_type": "code",
   "execution_count": 42,
   "metadata": {},
   "outputs": [],
   "source": [
    "def llm_reco(prompt, df, n_recommendations):\n",
    "\n",
    "    '''\n",
    "    This function returns a dataframe with a selection of movies recommandations based on user's specific text input\n",
    "\n",
    "    Args:\n",
    "    - prompt : the user's text input describing the kind of movies he wants to see\n",
    "    - df : the original dataframe generated with the csv import \n",
    "    - n_recommandations : the number of movies we want to recommand to the user\n",
    "\n",
    "    Returns:\n",
    "    - recommandations : a dataframe containing the movie_id, the titles and the genres of the movies we recommand to the user\n",
    "    \n",
    "    '''\n",
    "\n",
    "    model = SentenceTransformer('distiluse-base-multilingual-cased')\n",
    "\n",
    "\n",
    "    prompt = preprocess_text(prompt)\n",
    "    df['preprocess_synopsis'] = df['Synopsis'].apply(preprocess_text)\n",
    "    synopsis = list(df['preprocess_synopsis'])\n",
    "    \n",
    "\n",
    "\n",
    "    prompt_embed = model.encode(prompt, convert_to_tensor=True)\n",
    "    synopis_embed = model.encode(synopsis, convert_to_tensor=True)\n",
    "\n",
    "\n",
    "    similarities = util.pytorch_cos_sim(prompt_embed, synopis_embed)[0]\n",
    "\n",
    " \n",
    "    similar_idx = similarities.argsort(descending=True)[:n_recommendations]\n",
    "\n",
    "\n",
    "    reco = df[['MovieId', 'Title', 'Genres', 'Synopsis']].set_index('MovieId').iloc[similar_idx].sort_index()\n",
    "\n",
    "    return reco"
   ]
  },
  {
   "cell_type": "code",
   "execution_count": 43,
   "metadata": {},
   "outputs": [
    {
     "name": "stderr",
     "output_type": "stream",
     "text": [
      ".gitattributes: 100%|██████████| 690/690 [00:00<?, ?B/s] \n",
      "1_Pooling/config.json: 100%|██████████| 190/190 [00:00<00:00, 187kB/s]\n",
      "2_Dense/config.json: 100%|██████████| 114/114 [00:00<?, ?B/s] \n",
      "pytorch_model.bin: 100%|██████████| 1.58M/1.58M [00:00<00:00, 23.1MB/s]\n",
      "rust_model.ot: 100%|██████████| 1.58M/1.58M [00:00<00:00, 33.9MB/s]\n",
      "README.md: 100%|██████████| 2.37k/2.37k [00:00<?, ?B/s]\n",
      "config.json: 100%|██████████| 607/607 [00:00<?, ?B/s] \n",
      "config_sentence_transformers.json: 100%|██████████| 122/122 [00:00<?, ?B/s] \n",
      "pytorch_model.bin: 100%|██████████| 539M/539M [00:14<00:00, 37.6MB/s] \n",
      "sentence_bert_config.json: 100%|██████████| 53.0/53.0 [00:00<?, ?B/s]\n",
      "special_tokens_map.json: 100%|██████████| 112/112 [00:00<00:00, 145kB/s]\n",
      "tokenizer.json: 100%|██████████| 1.96M/1.96M [00:00<00:00, 7.80MB/s]\n",
      "tokenizer_config.json: 100%|██████████| 528/528 [00:00<?, ?B/s] \n",
      "vocab.txt: 100%|██████████| 996k/996k [00:00<00:00, 6.29MB/s]\n",
      "modules.json: 100%|██████████| 341/341 [00:00<?, ?B/s] \n"
     ]
    },
    {
     "data": {
      "text/html": [
       "<div>\n",
       "<style scoped>\n",
       "    .dataframe tbody tr th:only-of-type {\n",
       "        vertical-align: middle;\n",
       "    }\n",
       "\n",
       "    .dataframe tbody tr th {\n",
       "        vertical-align: top;\n",
       "    }\n",
       "\n",
       "    .dataframe thead th {\n",
       "        text-align: right;\n",
       "    }\n",
       "</style>\n",
       "<table border=\"1\" class=\"dataframe\">\n",
       "  <thead>\n",
       "    <tr style=\"text-align: right;\">\n",
       "      <th></th>\n",
       "      <th>Title</th>\n",
       "      <th>Genres</th>\n",
       "      <th>Synopsis</th>\n",
       "    </tr>\n",
       "    <tr>\n",
       "      <th>MovieId</th>\n",
       "      <th></th>\n",
       "      <th></th>\n",
       "      <th></th>\n",
       "    </tr>\n",
       "  </thead>\n",
       "  <tbody>\n",
       "    <tr>\n",
       "      <th>344</th>\n",
       "      <td>Ace Ventura: Pet Detective</td>\n",
       "      <td>['Comedy']</td>\n",
       "      <td>A goofy detective specializing in animals goes...</td>\n",
       "    </tr>\n",
       "    <tr>\n",
       "      <th>1060</th>\n",
       "      <td>Swingers</td>\n",
       "      <td>['Comedy|Drama']</td>\n",
       "      <td>A wannabe actor has a hard time moving on from...</td>\n",
       "    </tr>\n",
       "    <tr>\n",
       "      <th>1111</th>\n",
       "      <td>Microcosmos</td>\n",
       "      <td>['Documentary']</td>\n",
       "      <td>A documentary on insect life in meadows and po...</td>\n",
       "    </tr>\n",
       "    <tr>\n",
       "      <th>1387</th>\n",
       "      <td>Jaws</td>\n",
       "      <td>['Action|Horror']</td>\n",
       "      <td>When a killer shark unleashes chaos on a beach...</td>\n",
       "    </tr>\n",
       "    <tr>\n",
       "      <th>1388</th>\n",
       "      <td>Jaws 2</td>\n",
       "      <td>['Horror|Thriller']</td>\n",
       "      <td>Police chief Brody must protect the citizens o...</td>\n",
       "    </tr>\n",
       "    <tr>\n",
       "      <th>1389</th>\n",
       "      <td>Jaws 3-D</td>\n",
       "      <td>['Action|Horror']</td>\n",
       "      <td>A giant thirty-five-foot shark becomes trapped...</td>\n",
       "    </tr>\n",
       "    <tr>\n",
       "      <th>2713</th>\n",
       "      <td>Lake Placid</td>\n",
       "      <td>['Horror|Thriller']</td>\n",
       "      <td>Four people attempt to stop a gigantic crocodi...</td>\n",
       "    </tr>\n",
       "    <tr>\n",
       "      <th>3007</th>\n",
       "      <td>American Movie</td>\n",
       "      <td>['Documentary']</td>\n",
       "      <td>Documentary about an aspiring filmmaker's atte...</td>\n",
       "    </tr>\n",
       "    <tr>\n",
       "      <th>3146</th>\n",
       "      <td>Deuce Bigalow: Male Gigolo</td>\n",
       "      <td>['Comedy']</td>\n",
       "      <td>An average aquarium cleaner house-sits for a g...</td>\n",
       "    </tr>\n",
       "    <tr>\n",
       "      <th>108729</th>\n",
       "      <td>Enemy</td>\n",
       "      <td>['Mystery|Thriller']</td>\n",
       "      <td>A man seeks out his exact look-alike after spo...</td>\n",
       "    </tr>\n",
       "  </tbody>\n",
       "</table>\n",
       "</div>"
      ],
      "text/plain": [
       "                              Title                Genres  \\\n",
       "MovieId                                                     \n",
       "344      Ace Ventura: Pet Detective            ['Comedy']   \n",
       "1060                       Swingers      ['Comedy|Drama']   \n",
       "1111                   Microcosmos        ['Documentary']   \n",
       "1387                           Jaws     ['Action|Horror']   \n",
       "1388                         Jaws 2   ['Horror|Thriller']   \n",
       "1389                       Jaws 3-D     ['Action|Horror']   \n",
       "2713                    Lake Placid   ['Horror|Thriller']   \n",
       "3007                 American Movie       ['Documentary']   \n",
       "3146     Deuce Bigalow: Male Gigolo            ['Comedy']   \n",
       "108729                        Enemy  ['Mystery|Thriller']   \n",
       "\n",
       "                                                  Synopsis  \n",
       "MovieId                                                     \n",
       "344      A goofy detective specializing in animals goes...  \n",
       "1060     A wannabe actor has a hard time moving on from...  \n",
       "1111     A documentary on insect life in meadows and po...  \n",
       "1387     When a killer shark unleashes chaos on a beach...  \n",
       "1388     Police chief Brody must protect the citizens o...  \n",
       "1389     A giant thirty-five-foot shark becomes trapped...  \n",
       "2713     Four people attempt to stop a gigantic crocodi...  \n",
       "3007     Documentary about an aspiring filmmaker's atte...  \n",
       "3146     An average aquarium cleaner house-sits for a g...  \n",
       "108729   A man seeks out his exact look-alike after spo...  "
      ]
     },
     "execution_count": 43,
     "metadata": {},
     "output_type": "execute_result"
    }
   ],
   "source": [
    "prompt = 'Je veux voir un film sur des requins'\n",
    "llm_recommandation = llm_reco(prompt, movies, 10)\n",
    "llm_recommandation"
   ]
  },
  {
   "cell_type": "code",
   "execution_count": null,
   "metadata": {},
   "outputs": [],
   "source": []
  }
 ],
 "metadata": {
  "kernelspec": {
   "display_name": "Python 3",
   "language": "python",
   "name": "python3"
  },
  "language_info": {
   "codemirror_mode": {
    "name": "ipython",
    "version": 3
   },
   "file_extension": ".py",
   "mimetype": "text/x-python",
   "name": "python",
   "nbconvert_exporter": "python",
   "pygments_lexer": "ipython3",
   "version": "3.11.7"
  }
 },
 "nbformat": 4,
 "nbformat_minor": 2
}
