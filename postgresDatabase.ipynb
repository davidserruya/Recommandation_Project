{
 "cells": [
  {
   "cell_type": "markdown",
   "id": "42ffdaf2-ebe4-498e-9f75-84bf732480be",
   "metadata": {},
   "source": [
    "## Lancement d'un conteneur postgres\n",
    "\n",
    "Création du conteneur : ```docker run --name NOM_CONTAINER -e POSTGRES_PASSWORD=abc -d -p 5432:5432 postgres```  \n",
    "Accès au conteneur : ```docker exec -it NOM_CONTAINER bash```  \n",
    "\n",
    "Pour interagir avec la base dans le shell:  \n",
    "    - D’abord se connecter avec ```psql -U postgres```  \n",
    "    - Si on veut afficher les bases ```\\l```  \n",
    "    - Créer une base de donnée avec un nom ```CREATE DATABASE nom```  \n",
    "    - Se connecter à la base ```\\c nom_base```  \n",
    "    - Afficher les tables ```\\dt```     \n",
    "    - Infos detaillées sur une table ```\\d+ nom_table```      \n",
    "    "
   ]
  },
  {
   "cell_type": "markdown",
   "id": "491f80b6-5b78-424e-bfee-239e90133db5",
   "metadata": {},
   "source": [
    "## Connexion avec Python"
   ]
  },
  {
   "cell_type": "code",
   "execution_count": 16,
   "id": "b52c29ae-5350-4571-8f77-216bfae091e9",
   "metadata": {},
   "outputs": [],
   "source": [
    "import psycopg2"
   ]
  },
  {
   "cell_type": "code",
   "execution_count": 17,
   "id": "a1e907c6-1317-4cf6-a086-0ee14a7abd2a",
   "metadata": {},
   "outputs": [],
   "source": [
    "conn = psycopg2.connect(host=\"localhost\", database=\"test\", user=\"postgres\", password=\"abc\")"
   ]
  },
  {
   "cell_type": "code",
   "execution_count": 19,
   "id": "501f2b75-0950-4fcc-8ac4-8add7b3ed06e",
   "metadata": {},
   "outputs": [],
   "source": [
    "# J'ai mis ça pour ne pas faire a chaque fois le commit mais peut être changé avec un commit apres chaque execute\n",
    "conn.autocommit = True "
   ]
  },
  {
   "cell_type": "code",
   "execution_count": 20,
   "id": "9c419ab8-ae26-4a34-a26b-78c30396ee98",
   "metadata": {},
   "outputs": [],
   "source": [
    "cur = conn.cursor()\n",
    "query0 = \"CREATE DATABASE test;\"\n",
    "cur.execute(query0)"
   ]
  },
  {
   "cell_type": "code",
   "execution_count": 21,
   "id": "e1779f55-4270-4bdb-9472-39136de0c309",
   "metadata": {},
   "outputs": [],
   "source": [
    "cur = conn.cursor()\n",
    "query1 = \"\"\"\n",
    "CREATE TABLE \"User\" (\n",
    "    \"UserId\" SERIAL PRIMARY KEY,\n",
    "    \"Username\" VARCHAR(255) NOT NULL\n",
    ");\n",
    "\"\"\"\n",
    "cur.execute(query1)\n"
   ]
  },
  {
   "cell_type": "code",
   "execution_count": 22,
   "id": "4241659a-38ec-4bf4-8fd6-6a0f1cf9d44d",
   "metadata": {},
   "outputs": [],
   "source": [
    "query2 = \"\"\"\n",
    "CREATE TABLE \"Movie\" (\n",
    "    \"MovieId\" SERIAL PRIMARY KEY,\n",
    "    \"genre\" VARCHAR(255),\n",
    "    \"year\" INTEGER,\n",
    "    \"synopsis\" TEXT,\n",
    "    \"affiche\" TEXT\n",
    ");\n",
    "\"\"\"\n",
    "cur.execute(query2)"
   ]
  },
  {
   "cell_type": "code",
   "execution_count": 23,
   "id": "f6fcf7f9-d3d9-44a6-a7ba-537297bd61ed",
   "metadata": {},
   "outputs": [],
   "source": [
    "query3 = \"\"\"\n",
    "CREATE TABLE \"Rating\" (\n",
    "    \"UserId\" INTEGER,\n",
    "    \"MovieId\" INTEGER,\n",
    "    \"rating\" NUMERIC(2, 1),\n",
    "    PRIMARY KEY (\"UserId\", \"MovieId\"),\n",
    "    FOREIGN KEY (\"UserId\") REFERENCES \"User\" (\"UserId\"),\n",
    "    FOREIGN KEY (\"MovieId\") REFERENCES \"Movie\" (\"MovieId\")\n",
    ");\n",
    "\"\"\"\n",
    "cur.execute(query3)"
   ]
  },
  {
   "cell_type": "code",
   "execution_count": 24,
   "id": "410cb65d-2872-438e-ac79-a5b420a8e741",
   "metadata": {},
   "outputs": [],
   "source": [
    "query = \"\"\"\n",
    "INSERT INTO \"User\" (\"UserId\", \"Username\") VALUES (%s, %s);\n",
    "\"\"\"\n",
    "cur.execute(query, (3, 'David'))\n",
    "conn.commit()"
   ]
  },
  {
   "cell_type": "code",
   "execution_count": 25,
   "id": "d4f1eadb-ab00-481f-8752-45553b5a1d63",
   "metadata": {},
   "outputs": [],
   "source": [
    "cur.close()"
   ]
  },
  {
   "cell_type": "code",
   "execution_count": 26,
   "id": "a5bd8e19-29a0-477a-b86f-e4a2657fe26d",
   "metadata": {},
   "outputs": [],
   "source": [
    "conn.close()"
   ]
  },
  {
   "cell_type": "markdown",
   "id": "14c9d5af-380c-48b6-8f92-d85a82644abc",
   "metadata": {},
   "source": [
    "## Mettre un fichier CSV dans la base"
   ]
  },
  {
   "cell_type": "markdown",
   "id": "a7c71898-350a-4ef3-9533-8c5089d224ac",
   "metadata": {},
   "source": [
    "Copier le fichier csv vers le conteneur docker :  \n",
    "```docker cp CHEMIN_FICHIER_CSV NOM_CONTENEUR:/film.csv```  \n",
    "\n",
    "Mettre ce fichier dans une table qu'on veut:    \n",
    "```COPY notre_table FROM '/film.csv' DELIMITER ',' CSV HEADER;```"
   ]
  }
 ],
 "metadata": {
  "kernelspec": {
   "display_name": "Python 3 (ipykernel)",
   "language": "python",
   "name": "python3"
  },
  "language_info": {
   "codemirror_mode": {
    "name": "ipython",
    "version": 3
   },
   "file_extension": ".py",
   "mimetype": "text/x-python",
   "name": "python",
   "nbconvert_exporter": "python",
   "pygments_lexer": "ipython3",
   "version": "3.12.0"
  }
 },
 "nbformat": 4,
 "nbformat_minor": 5
}
