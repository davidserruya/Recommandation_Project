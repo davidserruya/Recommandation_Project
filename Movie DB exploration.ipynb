{
 "cells": [
  {
   "cell_type": "code",
   "execution_count": 1,
   "id": "477f065c",
   "metadata": {},
   "outputs": [],
   "source": [
    "import pandas as pd\n",
    "import numpy as np\n",
    "import re\n",
    "import matplotlib.pyplot as plt"
   ]
  },
  {
   "cell_type": "code",
   "execution_count": 2,
   "id": "2e38c2b9",
   "metadata": {},
   "outputs": [],
   "source": [
    "data = pd.read_csv('all_movies_ratings.csv', iterator = True, chunksize = 250000)"
   ]
  },
  {
   "cell_type": "code",
   "execution_count": 3,
   "id": "fec082f1",
   "metadata": {},
   "outputs": [],
   "source": [
    "df = pd.concat(data, ignore_index=True)"
   ]
  },
  {
   "cell_type": "code",
   "execution_count": 4,
   "id": "f32f0edb",
   "metadata": {},
   "outputs": [
    {
     "data": {
      "text/html": [
       "<div>\n",
       "<style scoped>\n",
       "    .dataframe tbody tr th:only-of-type {\n",
       "        vertical-align: middle;\n",
       "    }\n",
       "\n",
       "    .dataframe tbody tr th {\n",
       "        vertical-align: top;\n",
       "    }\n",
       "\n",
       "    .dataframe thead th {\n",
       "        text-align: right;\n",
       "    }\n",
       "</style>\n",
       "<table border=\"1\" class=\"dataframe\">\n",
       "  <thead>\n",
       "    <tr style=\"text-align: right;\">\n",
       "      <th></th>\n",
       "      <th>movieId</th>\n",
       "      <th>title</th>\n",
       "      <th>year</th>\n",
       "      <th>genres</th>\n",
       "      <th>userId</th>\n",
       "      <th>rating</th>\n",
       "      <th>timestamp</th>\n",
       "    </tr>\n",
       "  </thead>\n",
       "  <tbody>\n",
       "    <tr>\n",
       "      <th>0</th>\n",
       "      <td>1</td>\n",
       "      <td>Toy Story</td>\n",
       "      <td>1995.0</td>\n",
       "      <td>Adventure|Animation|Children|Comedy|Fantasy</td>\n",
       "      <td>2</td>\n",
       "      <td>3.5</td>\n",
       "      <td>1141415820</td>\n",
       "    </tr>\n",
       "    <tr>\n",
       "      <th>1</th>\n",
       "      <td>1</td>\n",
       "      <td>Toy Story</td>\n",
       "      <td>1995.0</td>\n",
       "      <td>Adventure|Animation|Children|Comedy|Fantasy</td>\n",
       "      <td>3</td>\n",
       "      <td>4.0</td>\n",
       "      <td>1439472215</td>\n",
       "    </tr>\n",
       "    <tr>\n",
       "      <th>2</th>\n",
       "      <td>1</td>\n",
       "      <td>Toy Story</td>\n",
       "      <td>1995.0</td>\n",
       "      <td>Adventure|Animation|Children|Comedy|Fantasy</td>\n",
       "      <td>4</td>\n",
       "      <td>3.0</td>\n",
       "      <td>1573944252</td>\n",
       "    </tr>\n",
       "    <tr>\n",
       "      <th>3</th>\n",
       "      <td>1</td>\n",
       "      <td>Toy Story</td>\n",
       "      <td>1995.0</td>\n",
       "      <td>Adventure|Animation|Children|Comedy|Fantasy</td>\n",
       "      <td>5</td>\n",
       "      <td>4.0</td>\n",
       "      <td>858625949</td>\n",
       "    </tr>\n",
       "    <tr>\n",
       "      <th>4</th>\n",
       "      <td>1</td>\n",
       "      <td>Toy Story</td>\n",
       "      <td>1995.0</td>\n",
       "      <td>Adventure|Animation|Children|Comedy|Fantasy</td>\n",
       "      <td>8</td>\n",
       "      <td>4.0</td>\n",
       "      <td>890492517</td>\n",
       "    </tr>\n",
       "  </tbody>\n",
       "</table>\n",
       "</div>"
      ],
      "text/plain": [
       "   movieId      title    year                                       genres  \\\n",
       "0        1  Toy Story  1995.0  Adventure|Animation|Children|Comedy|Fantasy   \n",
       "1        1  Toy Story  1995.0  Adventure|Animation|Children|Comedy|Fantasy   \n",
       "2        1  Toy Story  1995.0  Adventure|Animation|Children|Comedy|Fantasy   \n",
       "3        1  Toy Story  1995.0  Adventure|Animation|Children|Comedy|Fantasy   \n",
       "4        1  Toy Story  1995.0  Adventure|Animation|Children|Comedy|Fantasy   \n",
       "\n",
       "   userId  rating   timestamp  \n",
       "0       2     3.5  1141415820  \n",
       "1       3     4.0  1439472215  \n",
       "2       4     3.0  1573944252  \n",
       "3       5     4.0   858625949  \n",
       "4       8     4.0   890492517  "
      ]
     },
     "execution_count": 4,
     "metadata": {},
     "output_type": "execute_result"
    }
   ],
   "source": [
    "df.head()"
   ]
  },
  {
   "cell_type": "code",
   "execution_count": 5,
   "id": "dfc32ed5",
   "metadata": {},
   "outputs": [
    {
     "data": {
      "text/html": [
       "<div>\n",
       "<style scoped>\n",
       "    .dataframe tbody tr th:only-of-type {\n",
       "        vertical-align: middle;\n",
       "    }\n",
       "\n",
       "    .dataframe tbody tr th {\n",
       "        vertical-align: top;\n",
       "    }\n",
       "\n",
       "    .dataframe thead th {\n",
       "        text-align: right;\n",
       "    }\n",
       "</style>\n",
       "<table border=\"1\" class=\"dataframe\">\n",
       "  <thead>\n",
       "    <tr style=\"text-align: right;\">\n",
       "      <th></th>\n",
       "      <th>movieId</th>\n",
       "      <th>title</th>\n",
       "      <th>year</th>\n",
       "      <th>genres</th>\n",
       "      <th>userId</th>\n",
       "      <th>rating</th>\n",
       "      <th>timestamp</th>\n",
       "    </tr>\n",
       "  </thead>\n",
       "  <tbody>\n",
       "    <tr>\n",
       "      <th>25000090</th>\n",
       "      <td>209157</td>\n",
       "      <td>We</td>\n",
       "      <td>2018.0</td>\n",
       "      <td>Drama</td>\n",
       "      <td>119571</td>\n",
       "      <td>1.5</td>\n",
       "      <td>1574280748</td>\n",
       "    </tr>\n",
       "    <tr>\n",
       "      <th>25000091</th>\n",
       "      <td>209159</td>\n",
       "      <td>Window of the Soul</td>\n",
       "      <td>2001.0</td>\n",
       "      <td>Documentary</td>\n",
       "      <td>115835</td>\n",
       "      <td>3.0</td>\n",
       "      <td>1574280985</td>\n",
       "    </tr>\n",
       "    <tr>\n",
       "      <th>25000092</th>\n",
       "      <td>209163</td>\n",
       "      <td>Bad Poems</td>\n",
       "      <td>2018.0</td>\n",
       "      <td>Comedy|Drama</td>\n",
       "      <td>6964</td>\n",
       "      <td>4.5</td>\n",
       "      <td>1574284913</td>\n",
       "    </tr>\n",
       "    <tr>\n",
       "      <th>25000093</th>\n",
       "      <td>209169</td>\n",
       "      <td>A Girl Thing</td>\n",
       "      <td>2001.0</td>\n",
       "      <td>(no genres listed)</td>\n",
       "      <td>119571</td>\n",
       "      <td>3.0</td>\n",
       "      <td>1574291826</td>\n",
       "    </tr>\n",
       "    <tr>\n",
       "      <th>25000094</th>\n",
       "      <td>209171</td>\n",
       "      <td>Women of Devil's Island</td>\n",
       "      <td>1962.0</td>\n",
       "      <td>Action|Adventure|Drama</td>\n",
       "      <td>119571</td>\n",
       "      <td>3.0</td>\n",
       "      <td>1574291937</td>\n",
       "    </tr>\n",
       "  </tbody>\n",
       "</table>\n",
       "</div>"
      ],
      "text/plain": [
       "          movieId                    title    year                  genres  \\\n",
       "25000090   209157                       We  2018.0                   Drama   \n",
       "25000091   209159       Window of the Soul  2001.0             Documentary   \n",
       "25000092   209163                Bad Poems  2018.0            Comedy|Drama   \n",
       "25000093   209169             A Girl Thing  2001.0      (no genres listed)   \n",
       "25000094   209171  Women of Devil's Island  1962.0  Action|Adventure|Drama   \n",
       "\n",
       "          userId  rating   timestamp  \n",
       "25000090  119571     1.5  1574280748  \n",
       "25000091  115835     3.0  1574280985  \n",
       "25000092    6964     4.5  1574284913  \n",
       "25000093  119571     3.0  1574291826  \n",
       "25000094  119571     3.0  1574291937  "
      ]
     },
     "execution_count": 5,
     "metadata": {},
     "output_type": "execute_result"
    }
   ],
   "source": [
    "df.tail()"
   ]
  },
  {
   "cell_type": "code",
   "execution_count": 6,
   "id": "2a48fbf9",
   "metadata": {},
   "outputs": [
    {
     "data": {
      "text/plain": [
       "(25000095, 7)"
      ]
     },
     "execution_count": 6,
     "metadata": {},
     "output_type": "execute_result"
    }
   ],
   "source": [
    "df.shape"
   ]
  },
  {
   "cell_type": "code",
   "execution_count": 7,
   "id": "b0bc802d",
   "metadata": {},
   "outputs": [
    {
     "data": {
      "text/plain": [
       "movieId        int64\n",
       "title         object\n",
       "year         float64\n",
       "genres        object\n",
       "userId         int64\n",
       "rating       float64\n",
       "timestamp      int64\n",
       "dtype: object"
      ]
     },
     "execution_count": 7,
     "metadata": {},
     "output_type": "execute_result"
    }
   ],
   "source": [
    "df.dtypes"
   ]
  },
  {
   "cell_type": "code",
   "execution_count": 8,
   "id": "673a31ea",
   "metadata": {},
   "outputs": [
    {
     "data": {
      "text/plain": [
       "movieId          0\n",
       "title            0\n",
       "year         11740\n",
       "genres           0\n",
       "userId           0\n",
       "rating           0\n",
       "timestamp        0\n",
       "dtype: int64"
      ]
     },
     "execution_count": 8,
     "metadata": {},
     "output_type": "execute_result"
    }
   ],
   "source": [
    "df.isna().sum()"
   ]
  },
  {
   "cell_type": "code",
   "execution_count": 9,
   "id": "9b29c416",
   "metadata": {},
   "outputs": [
    {
     "data": {
      "text/plain": [
       "array([3.5, 4. , 3. , 5. , 2. , 4.5, 2.5, 1. , 1.5, 0.5])"
      ]
     },
     "execution_count": 9,
     "metadata": {},
     "output_type": "execute_result"
    }
   ],
   "source": [
    "df['rating'].unique()"
   ]
  },
  {
   "cell_type": "code",
   "execution_count": 10,
   "id": "8688525c",
   "metadata": {},
   "outputs": [
    {
     "data": {
      "text/plain": [
       "array(['Adventure|Animation|Children|Comedy|Fantasy',\n",
       "       'Adventure|Children|Fantasy', 'Comedy|Romance', ...,\n",
       "       'Children|Comedy|Fantasy|Mystery', 'Children|Comedy|Crime|Fantasy',\n",
       "       'Comedy|Horror|Mystery|Sci-Fi|Western'], dtype=object)"
      ]
     },
     "execution_count": 10,
     "metadata": {},
     "output_type": "execute_result"
    }
   ],
   "source": [
    "df['genres'].unique()"
   ]
  },
  {
   "cell_type": "code",
   "execution_count": 11,
   "id": "564b4486",
   "metadata": {},
   "outputs": [],
   "source": [
    "df['genres'] = df['genres'].replace('(no genres listed)', 'Not specified')"
   ]
  },
  {
   "cell_type": "markdown",
   "id": "ca6498db",
   "metadata": {},
   "source": [
    "# 1st iteration on sample data"
   ]
  },
  {
   "cell_type": "code",
   "execution_count": 57,
   "id": "5059a40b",
   "metadata": {},
   "outputs": [],
   "source": [
    "df_s = df.sample(500)"
   ]
  },
  {
   "cell_type": "code",
   "execution_count": 58,
   "id": "425ea8df",
   "metadata": {},
   "outputs": [],
   "source": [
    "df_s['genres'] = df_s['genres'].apply(lambda row: row.split('|'))"
   ]
  },
  {
   "cell_type": "code",
   "execution_count": 59,
   "id": "fa289976",
   "metadata": {},
   "outputs": [],
   "source": [
    "dummies = pd.get_dummies(df_s['genres'].apply(pd.Series).stack()).groupby(level=0).sum()"
   ]
  },
  {
   "cell_type": "code",
   "execution_count": 60,
   "id": "ea91cea3",
   "metadata": {},
   "outputs": [],
   "source": [
    "df_s = pd.concat([df_s, dummies], axis=1)"
   ]
  },
  {
   "cell_type": "code",
   "execution_count": 61,
   "id": "c9db71c5",
   "metadata": {},
   "outputs": [],
   "source": [
    "df_s = df_s.drop('genres', axis=1)"
   ]
  },
  {
   "cell_type": "markdown",
   "id": "138c7e95",
   "metadata": {},
   "source": [
    "**Collaborative filtering**"
   ]
  },
  {
   "cell_type": "code",
   "execution_count": 62,
   "id": "41442c0b",
   "metadata": {},
   "outputs": [],
   "source": [
    "from sklearn.neighbors import NearestNeighbors"
   ]
  },
  {
   "cell_type": "code",
   "execution_count": 63,
   "id": "209fea1b",
   "metadata": {},
   "outputs": [],
   "source": [
    "user_movie_matrix = df_s.pivot_table(index='userId', columns='title', values='rating', fill_value=0)"
   ]
  },
  {
   "cell_type": "code",
   "execution_count": 64,
   "id": "2432f30f",
   "metadata": {},
   "outputs": [
    {
     "data": {
      "text/html": [
       "<style>#sk-container-id-4 {color: black;}#sk-container-id-4 pre{padding: 0;}#sk-container-id-4 div.sk-toggleable {background-color: white;}#sk-container-id-4 label.sk-toggleable__label {cursor: pointer;display: block;width: 100%;margin-bottom: 0;padding: 0.3em;box-sizing: border-box;text-align: center;}#sk-container-id-4 label.sk-toggleable__label-arrow:before {content: \"▸\";float: left;margin-right: 0.25em;color: #696969;}#sk-container-id-4 label.sk-toggleable__label-arrow:hover:before {color: black;}#sk-container-id-4 div.sk-estimator:hover label.sk-toggleable__label-arrow:before {color: black;}#sk-container-id-4 div.sk-toggleable__content {max-height: 0;max-width: 0;overflow: hidden;text-align: left;background-color: #f0f8ff;}#sk-container-id-4 div.sk-toggleable__content pre {margin: 0.2em;color: black;border-radius: 0.25em;background-color: #f0f8ff;}#sk-container-id-4 input.sk-toggleable__control:checked~div.sk-toggleable__content {max-height: 200px;max-width: 100%;overflow: auto;}#sk-container-id-4 input.sk-toggleable__control:checked~label.sk-toggleable__label-arrow:before {content: \"▾\";}#sk-container-id-4 div.sk-estimator input.sk-toggleable__control:checked~label.sk-toggleable__label {background-color: #d4ebff;}#sk-container-id-4 div.sk-label input.sk-toggleable__control:checked~label.sk-toggleable__label {background-color: #d4ebff;}#sk-container-id-4 input.sk-hidden--visually {border: 0;clip: rect(1px 1px 1px 1px);clip: rect(1px, 1px, 1px, 1px);height: 1px;margin: -1px;overflow: hidden;padding: 0;position: absolute;width: 1px;}#sk-container-id-4 div.sk-estimator {font-family: monospace;background-color: #f0f8ff;border: 1px dotted black;border-radius: 0.25em;box-sizing: border-box;margin-bottom: 0.5em;}#sk-container-id-4 div.sk-estimator:hover {background-color: #d4ebff;}#sk-container-id-4 div.sk-parallel-item::after {content: \"\";width: 100%;border-bottom: 1px solid gray;flex-grow: 1;}#sk-container-id-4 div.sk-label:hover label.sk-toggleable__label {background-color: #d4ebff;}#sk-container-id-4 div.sk-serial::before {content: \"\";position: absolute;border-left: 1px solid gray;box-sizing: border-box;top: 0;bottom: 0;left: 50%;z-index: 0;}#sk-container-id-4 div.sk-serial {display: flex;flex-direction: column;align-items: center;background-color: white;padding-right: 0.2em;padding-left: 0.2em;position: relative;}#sk-container-id-4 div.sk-item {position: relative;z-index: 1;}#sk-container-id-4 div.sk-parallel {display: flex;align-items: stretch;justify-content: center;background-color: white;position: relative;}#sk-container-id-4 div.sk-item::before, #sk-container-id-4 div.sk-parallel-item::before {content: \"\";position: absolute;border-left: 1px solid gray;box-sizing: border-box;top: 0;bottom: 0;left: 50%;z-index: -1;}#sk-container-id-4 div.sk-parallel-item {display: flex;flex-direction: column;z-index: 1;position: relative;background-color: white;}#sk-container-id-4 div.sk-parallel-item:first-child::after {align-self: flex-end;width: 50%;}#sk-container-id-4 div.sk-parallel-item:last-child::after {align-self: flex-start;width: 50%;}#sk-container-id-4 div.sk-parallel-item:only-child::after {width: 0;}#sk-container-id-4 div.sk-dashed-wrapped {border: 1px dashed gray;margin: 0 0.4em 0.5em 0.4em;box-sizing: border-box;padding-bottom: 0.4em;background-color: white;}#sk-container-id-4 div.sk-label label {font-family: monospace;font-weight: bold;display: inline-block;line-height: 1.2em;}#sk-container-id-4 div.sk-label-container {text-align: center;}#sk-container-id-4 div.sk-container {/* jupyter's `normalize.less` sets `[hidden] { display: none; }` but bootstrap.min.css set `[hidden] { display: none !important; }` so we also need the `!important` here to be able to override the default hidden behavior on the sphinx rendered scikit-learn.org. See: https://github.com/scikit-learn/scikit-learn/issues/21755 */display: inline-block !important;position: relative;}#sk-container-id-4 div.sk-text-repr-fallback {display: none;}</style><div id=\"sk-container-id-4\" class=\"sk-top-container\"><div class=\"sk-text-repr-fallback\"><pre>NearestNeighbors(algorithm=&#x27;brute&#x27;, metric=&#x27;cosine&#x27;)</pre><b>In a Jupyter environment, please rerun this cell to show the HTML representation or trust the notebook. <br />On GitHub, the HTML representation is unable to render, please try loading this page with nbviewer.org.</b></div><div class=\"sk-container\" hidden><div class=\"sk-item\"><div class=\"sk-estimator sk-toggleable\"><input class=\"sk-toggleable__control sk-hidden--visually\" id=\"sk-estimator-id-4\" type=\"checkbox\" checked><label for=\"sk-estimator-id-4\" class=\"sk-toggleable__label sk-toggleable__label-arrow\">NearestNeighbors</label><div class=\"sk-toggleable__content\"><pre>NearestNeighbors(algorithm=&#x27;brute&#x27;, metric=&#x27;cosine&#x27;)</pre></div></div></div></div></div>"
      ],
      "text/plain": [
       "NearestNeighbors(algorithm='brute', metric='cosine')"
      ]
     },
     "execution_count": 64,
     "metadata": {},
     "output_type": "execute_result"
    }
   ],
   "source": [
    "knn_model = NearestNeighbors(metric='cosine', algorithm='brute')\n",
    "knn_model.fit(user_movie_matrix.T)"
   ]
  },
  {
   "cell_type": "code",
   "execution_count": 65,
   "id": "59843942",
   "metadata": {},
   "outputs": [],
   "source": [
    "def recommend_similar_movies(data, knn_model, movie_name, n_recommendations=5):\n",
    "    movie_idx = data.index.get_loc(movie_name)\n",
    "    distances, indices = knn_model.kneighbors(data.iloc[movie_idx, :].values.reshape(1, -1), n_neighbors=n_recommendations + 1)\n",
    "    similar_movies = [(data.index[i], distances[0, j]) for j, i in enumerate(indices.flatten()) if i != movie_idx]\n",
    "    return similar_movies"
   ]
  },
  {
   "cell_type": "code",
   "execution_count": 66,
   "id": "31fb24f4",
   "metadata": {},
   "outputs": [],
   "source": [
    "movie = 'Fight Club'"
   ]
  },
  {
   "cell_type": "code",
   "execution_count": 67,
   "id": "056ad0f1",
   "metadata": {},
   "outputs": [],
   "source": [
    "recommendations = recommend_similar_movies(user_movie_matrix.T, knn_model, movie)"
   ]
  },
  {
   "cell_type": "code",
   "execution_count": 68,
   "id": "dd1e403e",
   "metadata": {},
   "outputs": [
    {
     "name": "stdout",
     "output_type": "stream",
     "text": [
      "Recommandations de films similaires à Fight Club:\n",
      "Planet of the Apes\n",
      "Pleasantville\n",
      "Pirates of the Caribbean: Dead Man's Chest\n",
      "Pirates of the Caribbean: The Curse of the Black Pearl\n",
      "Piano, The\n"
     ]
    }
   ],
   "source": [
    "print(f\"Recommandations de films similaires à {movie}:\")\n",
    "for movies, similarity in recommendations:\n",
    "    print(movies)"
   ]
  },
  {
   "cell_type": "markdown",
   "id": "e7600273",
   "metadata": {},
   "source": [
    "**Collabprative filtering + content recommandation**"
   ]
  },
  {
   "cell_type": "code",
   "execution_count": 69,
   "id": "bc5305da",
   "metadata": {},
   "outputs": [],
   "source": [
    "movie_user_matrix = user_movie_matrix.T"
   ]
  },
  {
   "cell_type": "code",
   "execution_count": 70,
   "id": "b1d6ec04",
   "metadata": {},
   "outputs": [],
   "source": [
    "movie_genre_matrix = df_s.pivot_table(index='title', values = df_s.columns[6:], fill_value=0)"
   ]
  },
  {
   "cell_type": "code",
   "execution_count": 71,
   "id": "593c6ddf",
   "metadata": {},
   "outputs": [],
   "source": [
    "movie_user_genre_matrix = pd.concat([movie_user_matrix, movie_genre_matrix], axis=1)"
   ]
  },
  {
   "cell_type": "code",
   "execution_count": 72,
   "id": "e962a26e",
   "metadata": {},
   "outputs": [],
   "source": [
    "movie_user_genre_matrix.columns = [str(elements) for elements in movie_user_genre_matrix.columns]"
   ]
  },
  {
   "cell_type": "code",
   "execution_count": 73,
   "id": "cb3f04ca",
   "metadata": {},
   "outputs": [
    {
     "data": {
      "text/html": [
       "<style>#sk-container-id-5 {color: black;}#sk-container-id-5 pre{padding: 0;}#sk-container-id-5 div.sk-toggleable {background-color: white;}#sk-container-id-5 label.sk-toggleable__label {cursor: pointer;display: block;width: 100%;margin-bottom: 0;padding: 0.3em;box-sizing: border-box;text-align: center;}#sk-container-id-5 label.sk-toggleable__label-arrow:before {content: \"▸\";float: left;margin-right: 0.25em;color: #696969;}#sk-container-id-5 label.sk-toggleable__label-arrow:hover:before {color: black;}#sk-container-id-5 div.sk-estimator:hover label.sk-toggleable__label-arrow:before {color: black;}#sk-container-id-5 div.sk-toggleable__content {max-height: 0;max-width: 0;overflow: hidden;text-align: left;background-color: #f0f8ff;}#sk-container-id-5 div.sk-toggleable__content pre {margin: 0.2em;color: black;border-radius: 0.25em;background-color: #f0f8ff;}#sk-container-id-5 input.sk-toggleable__control:checked~div.sk-toggleable__content {max-height: 200px;max-width: 100%;overflow: auto;}#sk-container-id-5 input.sk-toggleable__control:checked~label.sk-toggleable__label-arrow:before {content: \"▾\";}#sk-container-id-5 div.sk-estimator input.sk-toggleable__control:checked~label.sk-toggleable__label {background-color: #d4ebff;}#sk-container-id-5 div.sk-label input.sk-toggleable__control:checked~label.sk-toggleable__label {background-color: #d4ebff;}#sk-container-id-5 input.sk-hidden--visually {border: 0;clip: rect(1px 1px 1px 1px);clip: rect(1px, 1px, 1px, 1px);height: 1px;margin: -1px;overflow: hidden;padding: 0;position: absolute;width: 1px;}#sk-container-id-5 div.sk-estimator {font-family: monospace;background-color: #f0f8ff;border: 1px dotted black;border-radius: 0.25em;box-sizing: border-box;margin-bottom: 0.5em;}#sk-container-id-5 div.sk-estimator:hover {background-color: #d4ebff;}#sk-container-id-5 div.sk-parallel-item::after {content: \"\";width: 100%;border-bottom: 1px solid gray;flex-grow: 1;}#sk-container-id-5 div.sk-label:hover label.sk-toggleable__label {background-color: #d4ebff;}#sk-container-id-5 div.sk-serial::before {content: \"\";position: absolute;border-left: 1px solid gray;box-sizing: border-box;top: 0;bottom: 0;left: 50%;z-index: 0;}#sk-container-id-5 div.sk-serial {display: flex;flex-direction: column;align-items: center;background-color: white;padding-right: 0.2em;padding-left: 0.2em;position: relative;}#sk-container-id-5 div.sk-item {position: relative;z-index: 1;}#sk-container-id-5 div.sk-parallel {display: flex;align-items: stretch;justify-content: center;background-color: white;position: relative;}#sk-container-id-5 div.sk-item::before, #sk-container-id-5 div.sk-parallel-item::before {content: \"\";position: absolute;border-left: 1px solid gray;box-sizing: border-box;top: 0;bottom: 0;left: 50%;z-index: -1;}#sk-container-id-5 div.sk-parallel-item {display: flex;flex-direction: column;z-index: 1;position: relative;background-color: white;}#sk-container-id-5 div.sk-parallel-item:first-child::after {align-self: flex-end;width: 50%;}#sk-container-id-5 div.sk-parallel-item:last-child::after {align-self: flex-start;width: 50%;}#sk-container-id-5 div.sk-parallel-item:only-child::after {width: 0;}#sk-container-id-5 div.sk-dashed-wrapped {border: 1px dashed gray;margin: 0 0.4em 0.5em 0.4em;box-sizing: border-box;padding-bottom: 0.4em;background-color: white;}#sk-container-id-5 div.sk-label label {font-family: monospace;font-weight: bold;display: inline-block;line-height: 1.2em;}#sk-container-id-5 div.sk-label-container {text-align: center;}#sk-container-id-5 div.sk-container {/* jupyter's `normalize.less` sets `[hidden] { display: none; }` but bootstrap.min.css set `[hidden] { display: none !important; }` so we also need the `!important` here to be able to override the default hidden behavior on the sphinx rendered scikit-learn.org. See: https://github.com/scikit-learn/scikit-learn/issues/21755 */display: inline-block !important;position: relative;}#sk-container-id-5 div.sk-text-repr-fallback {display: none;}</style><div id=\"sk-container-id-5\" class=\"sk-top-container\"><div class=\"sk-text-repr-fallback\"><pre>NearestNeighbors(algorithm=&#x27;brute&#x27;, metric=&#x27;cosine&#x27;, n_jobs=-1)</pre><b>In a Jupyter environment, please rerun this cell to show the HTML representation or trust the notebook. <br />On GitHub, the HTML representation is unable to render, please try loading this page with nbviewer.org.</b></div><div class=\"sk-container\" hidden><div class=\"sk-item\"><div class=\"sk-estimator sk-toggleable\"><input class=\"sk-toggleable__control sk-hidden--visually\" id=\"sk-estimator-id-5\" type=\"checkbox\" checked><label for=\"sk-estimator-id-5\" class=\"sk-toggleable__label sk-toggleable__label-arrow\">NearestNeighbors</label><div class=\"sk-toggleable__content\"><pre>NearestNeighbors(algorithm=&#x27;brute&#x27;, metric=&#x27;cosine&#x27;, n_jobs=-1)</pre></div></div></div></div></div>"
      ],
      "text/plain": [
       "NearestNeighbors(algorithm='brute', metric='cosine', n_jobs=-1)"
      ]
     },
     "execution_count": 73,
     "metadata": {},
     "output_type": "execute_result"
    }
   ],
   "source": [
    "#n_jobs = -1 -> parallélisation du calcul sur tous les processeurs de la machine\n",
    "knn_model = NearestNeighbors(metric='cosine', algorithm='brute', n_neighbors=5, n_jobs=-1)\n",
    "knn_model.fit(movie_user_genre_matrix.values)"
   ]
  },
  {
   "cell_type": "code",
   "execution_count": 74,
   "id": "708104b3",
   "metadata": {},
   "outputs": [],
   "source": [
    "def recommend_similar_movies_with_genre(data, knn_model, movie_name, n_recommendations=5):\n",
    "    movie_idx = data.index.get_loc(movie_name)\n",
    "    distances, indices = knn_model.kneighbors(data.iloc[movie_idx, :].values.reshape(1, -1), n_neighbors=n_recommendations + 1)\n",
    "    similar_movies = [(data.index[i], distances[0, j]) for j, i in enumerate(indices.flatten()) if i != movie_idx]\n",
    "    return similar_movies"
   ]
  },
  {
   "cell_type": "code",
   "execution_count": 75,
   "id": "323ab8d9",
   "metadata": {},
   "outputs": [],
   "source": [
    "movie = 'Fight Club'"
   ]
  },
  {
   "cell_type": "code",
   "execution_count": 76,
   "id": "9520f3a1",
   "metadata": {},
   "outputs": [],
   "source": [
    "recommendations = recommend_similar_movies_with_genre(movie_user_genre_matrix, knn_model, movie)"
   ]
  },
  {
   "cell_type": "code",
   "execution_count": 77,
   "id": "b95a6ce7",
   "metadata": {},
   "outputs": [
    {
     "name": "stdout",
     "output_type": "stream",
     "text": [
      "Recommandations de films similaires à Fight Club :\n",
      "First Blood (Rambo: First Blood)\n",
      "Bad Boys II\n",
      "Flightplan\n",
      "3000 Miles to Graceland\n",
      "Mulholland Falls\n"
     ]
    }
   ],
   "source": [
    "print(f\"Recommandations de films similaires à {movie} :\")\n",
    "for movies, similarity in recommendations:\n",
    "    print(movies)"
   ]
  },
  {
   "cell_type": "markdown",
   "id": "64f62e91",
   "metadata": {},
   "source": [
    "**La recommandation reste imparfaite, il faut enrichir la base de données et obtenir le résumé de chaque film pour améliorer la précision du modèle**"
   ]
  },
  {
   "cell_type": "code",
   "execution_count": 33,
   "id": "65753bae",
   "metadata": {},
   "outputs": [],
   "source": [
    "df_test = df_s.copy()"
   ]
  },
  {
   "cell_type": "markdown",
   "id": "23a90f86",
   "metadata": {},
   "source": [
    "**IMDB API**"
   ]
  },
  {
   "cell_type": "code",
   "execution_count": 34,
   "id": "a8c3bd7b",
   "metadata": {},
   "outputs": [],
   "source": [
    "import imdb"
   ]
  },
  {
   "cell_type": "code",
   "execution_count": 35,
   "id": "9f29deaf",
   "metadata": {},
   "outputs": [],
   "source": [
    "ia = imdb.IMDb()"
   ]
  },
  {
   "cell_type": "code",
   "execution_count": 36,
   "id": "71afe295",
   "metadata": {},
   "outputs": [],
   "source": [
    "search = ia.search_movie('Fight Club')[1]"
   ]
  },
  {
   "cell_type": "code",
   "execution_count": 37,
   "id": "74b30593",
   "metadata": {},
   "outputs": [],
   "source": [
    "movie = ia.get_movie(search.movieID)"
   ]
  },
  {
   "cell_type": "code",
   "execution_count": 38,
   "id": "7086afb2",
   "metadata": {},
   "outputs": [
    {
     "name": "stdout",
     "output_type": "stream",
     "text": [
      "None\n"
     ]
    }
   ],
   "source": [
    "print(movie.get('synopsis'))"
   ]
  },
  {
   "cell_type": "markdown",
   "id": "6c3ba465",
   "metadata": {},
   "source": [
    "**Scraping**"
   ]
  },
  {
   "cell_type": "code",
   "execution_count": null,
   "id": "adf91a2f",
   "metadata": {},
   "outputs": [],
   "source": []
  }
 ],
 "metadata": {
  "kernelspec": {
   "display_name": "Python 3 (ipykernel)",
   "language": "python",
   "name": "python3"
  },
  "language_info": {
   "codemirror_mode": {
    "name": "ipython",
    "version": 3
   },
   "file_extension": ".py",
   "mimetype": "text/x-python",
   "name": "python",
   "nbconvert_exporter": "python",
   "pygments_lexer": "ipython3",
   "version": "3.11.5"
  },
  "varInspector": {
   "cols": {
    "lenName": 16,
    "lenType": 16,
    "lenVar": 40
   },
   "kernels_config": {
    "python": {
     "delete_cmd_postfix": "",
     "delete_cmd_prefix": "del ",
     "library": "var_list.py",
     "varRefreshCmd": "print(var_dic_list())"
    },
    "r": {
     "delete_cmd_postfix": ") ",
     "delete_cmd_prefix": "rm(",
     "library": "var_list.r",
     "varRefreshCmd": "cat(var_dic_list()) "
    }
   },
   "types_to_exclude": [
    "module",
    "function",
    "builtin_function_or_method",
    "instance",
    "_Feature"
   ],
   "window_display": false
  }
 },
 "nbformat": 4,
 "nbformat_minor": 5
}
