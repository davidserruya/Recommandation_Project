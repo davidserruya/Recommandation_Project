{
 "cells": [
  {
   "cell_type": "code",
   "execution_count": 4,
   "id": "613693d2",
   "metadata": {},
   "outputs": [],
   "source": [
    "import pandas as pd\n",
    "from sklearn.model_selection import train_test_split\n",
    "from sklearn.ensemble import RandomForestClassifier\n",
    "from sklearn.preprocessing import MultiLabelBinarizer\n",
    "from sklearn.metrics import accuracy_score\n",
    "from sklearn.metrics.pairwise import cosine_similarity\n",
    "from datetime import datetime\n",
    "import numpy as np\n",
    "import matplotlib.pyplot as plt\n",
    "from sklearn.preprocessing import OneHotEncoder"
   ]
  },
  {
   "cell_type": "markdown",
   "id": "b2de9270",
   "metadata": {},
   "source": [
    "# Exploration de la base de données initiale"
   ]
  },
  {
   "cell_type": "code",
   "execution_count": 6,
   "id": "bc4fb09c",
   "metadata": {},
   "outputs": [
    {
     "name": "stderr",
     "output_type": "stream",
     "text": [
      "/var/folders/10/4sw8kq2x1s91v_mqcdpf9sf80000gn/T/ipykernel_1003/446994438.py:1: FutureWarning: The error_bad_lines argument has been deprecated and will be removed in a future version. Use on_bad_lines in the future.\n",
      "\n",
      "\n",
      "  df = pd.read_csv('all_movies_ratings.csv', sep = ',', error_bad_lines=False)\n"
     ]
    }
   ],
   "source": [
    "df_all = pd.read_csv('all_movies_ratings.csv', sep = ',', error_bad_lines=False)"
   ]
  },
  {
   "cell_type": "code",
   "execution_count": null,
   "id": "885189e0",
   "metadata": {},
   "outputs": [],
   "source": [
    "df_movie = pd.read_csv('movies_final.csv', sep = ',')"
   ]
  },
  {
   "cell_type": "code",
   "execution_count": 34,
   "id": "9e8e8de4",
   "metadata": {},
   "outputs": [],
   "source": [
    "# Convertir data\n",
    "df_movie['year'] = df_movie['year'].astype(str)\n",
    "\n",
    "df_movie['year'] = df_movie['year'].apply(lambda x: datetime.strptime(x, '%Y.0').year if x != 'nan' else None)"
   ]
  },
  {
   "cell_type": "code",
   "execution_count": 12,
   "id": "efe0e8a0",
   "metadata": {},
   "outputs": [],
   "source": [
    "# Séparation genre\n",
    "genres_dummies = df_movie['genres'].str.get_dummies(sep='|')\n",
    "\n",
    "# Concat\n",
    "df_movie_dummy = pd.concat([df_movie, genres_dummies], axis=1)"
   ]
  },
  {
   "cell_type": "code",
   "execution_count": 17,
   "id": "b9e5d37e",
   "metadata": {},
   "outputs": [],
   "source": [
    "# Select\n",
    "df_selection = df_movie_dummy[['movieId'] + list(df_movie_dummy.columns[df_movie_dummy.columns.get_loc('genres'):])]"
   ]
  },
  {
   "cell_type": "code",
   "execution_count": 19,
   "id": "b5791f86",
   "metadata": {},
   "outputs": [],
   "source": [
    "df_selection = df_selection.drop('genres', axis=1)"
   ]
  },
  {
   "cell_type": "code",
   "execution_count": 24,
   "id": "09511598",
   "metadata": {},
   "outputs": [
    {
     "name": "stdout",
     "output_type": "stream",
     "text": [
      "Accuracy: 1.0\n"
     ]
    }
   ],
   "source": [
    "# TEST arbre \n",
    "X = df_selection[['movieId']]\n",
    "y = df_selection.drop('movieId', axis=1)\n",
    "\n",
    "\n",
    "mlb = MultiLabelBinarizer()\n",
    "y_multilabel = mlb.fit_transform(y.values)\n",
    "\n",
    "\n",
    "X_train, X_test, y_train, y_test = train_test_split(X, y_multilabel, test_size=0.2, random_state=42)\n",
    "\n",
    "\n",
    "model = RandomForestClassifier(random_state=42)\n",
    "\n",
    "model.fit(X_train, y_train)\n",
    "\n",
    "\n",
    "predictions = model.predict(X_test)\n",
    "\n",
    "accuracy = accuracy_score(y_test, predictions)\n",
    "\n",
    "# Affichage\n",
    "print(f\"Accuracy: {accuracy}\")"
   ]
  },
  {
   "cell_type": "code",
   "execution_count": 25,
   "id": "4deacb78",
   "metadata": {},
   "outputs": [
    {
     "name": "stdout",
     "output_type": "stream",
     "text": [
      "Precision: 1.0\n",
      "Recall: 1.0\n",
      "F1-Score: 1.0\n",
      "Jaccard Score: 1.0\n"
     ]
    }
   ],
   "source": [
    "from sklearn.metrics import precision_score, recall_score, f1_score, jaccard_score\n",
    "\n",
    "#  précision\n",
    "precision = precision_score(y_test, predictions, average='micro')\n",
    "\n",
    "# rappel\n",
    "recall = recall_score(y_test, predictions, average='micro')\n",
    "\n",
    "# F1-score\n",
    "f1 = f1_score(y_test, predictions, average='micro')\n",
    "\n",
    "# score Jaccard\n",
    "jaccard = jaccard_score(y_test, predictions, average='micro')\n",
    "\n",
    "# Affichage\n",
    "print(f\"Precision: {precision}\")\n",
    "print(f\"Recall: {recall}\")\n",
    "print(f\"F1-Score: {f1}\")\n",
    "print(f\"Jaccard Score: {jaccard}\")"
   ]
  },
  {
   "cell_type": "markdown",
   "id": "514287a5",
   "metadata": {},
   "source": [
    "## Nouvelle base 5Go"
   ]
  },
  {
   "cell_type": "code",
   "execution_count": 36,
   "id": "933a8438",
   "metadata": {},
   "outputs": [
    {
     "name": "stderr",
     "output_type": "stream",
     "text": [
      "/var/folders/10/4sw8kq2x1s91v_mqcdpf9sf80000gn/T/ipykernel_9728/147727618.py:1: FutureWarning: The error_bad_lines argument has been deprecated and will be removed in a future version. Use on_bad_lines in the future.\n",
      "\n",
      "\n",
      "  dataset = pd.read_csv('movie_db.csv', sep = ',', error_bad_lines=False)\n"
     ]
    }
   ],
   "source": [
    "dataset = pd.read_csv('movie_db.csv', sep = ',', error_bad_lines=False)"
   ]
  },
  {
   "cell_type": "code",
   "execution_count": 6,
   "id": "90aa1716",
   "metadata": {},
   "outputs": [
    {
     "name": "stdout",
     "output_type": "stream",
     "text": [
      "<class 'pandas.core.frame.DataFrame'>\n",
      "RangeIndex: 25000095 entries, 0 to 25000094\n",
      "Data columns (total 9 columns):\n",
      " #   Column      Dtype  \n",
      "---  ------      -----  \n",
      " 0   Unnamed: 0  int64  \n",
      " 1   movieId     int64  \n",
      " 2   title       object \n",
      " 3   genres      object \n",
      " 4   year        float64\n",
      " 5   userId      int64  \n",
      " 6   rating      float64\n",
      " 7   timestamp   int64  \n",
      " 8   Synopsis    object \n",
      "dtypes: float64(2), int64(4), object(3)\n",
      "memory usage: 1.7+ GB\n"
     ]
    }
   ],
   "source": [
    "dataset.info()"
   ]
  },
  {
   "cell_type": "code",
   "execution_count": 5,
   "id": "3ca5353a",
   "metadata": {},
   "outputs": [
    {
     "data": {
      "text/plain": [
       "Unnamed: 0        0\n",
       "movieId           0\n",
       "title         11771\n",
       "genres            0\n",
       "year          11771\n",
       "userId            0\n",
       "rating            0\n",
       "timestamp         0\n",
       "Synopsis          0\n",
       "dtype: int64"
      ]
     },
     "execution_count": 5,
     "metadata": {},
     "output_type": "execute_result"
    }
   ],
   "source": [
    "dataset.isna().sum()"
   ]
  },
  {
   "cell_type": "code",
   "execution_count": 6,
   "id": "b34d1295",
   "metadata": {},
   "outputs": [],
   "source": [
    "rows_with_missing_title = dataset[dataset['title'].isnull()]"
   ]
  },
  {
   "cell_type": "code",
   "execution_count": 7,
   "id": "ea4e7c18",
   "metadata": {},
   "outputs": [
    {
     "data": {
      "text/html": [
       "<div>\n",
       "<style scoped>\n",
       "    .dataframe tbody tr th:only-of-type {\n",
       "        vertical-align: middle;\n",
       "    }\n",
       "\n",
       "    .dataframe tbody tr th {\n",
       "        vertical-align: top;\n",
       "    }\n",
       "\n",
       "    .dataframe thead th {\n",
       "        text-align: right;\n",
       "    }\n",
       "</style>\n",
       "<table border=\"1\" class=\"dataframe\">\n",
       "  <thead>\n",
       "    <tr style=\"text-align: right;\">\n",
       "      <th></th>\n",
       "      <th>Unnamed: 0</th>\n",
       "      <th>movieId</th>\n",
       "      <th>title</th>\n",
       "      <th>genres</th>\n",
       "      <th>year</th>\n",
       "      <th>userId</th>\n",
       "      <th>rating</th>\n",
       "      <th>timestamp</th>\n",
       "      <th>Synopsis</th>\n",
       "    </tr>\n",
       "  </thead>\n",
       "  <tbody>\n",
       "    <tr>\n",
       "      <th>18851861</th>\n",
       "      <td>18851861</td>\n",
       "      <td>8359</td>\n",
       "      <td>NaN</td>\n",
       "      <td>['Drama']</td>\n",
       "      <td>NaN</td>\n",
       "      <td>43188</td>\n",
       "      <td>4.5</td>\n",
       "      <td>1523678508</td>\n",
       "      <td>Description non disponible</td>\n",
       "    </tr>\n",
       "    <tr>\n",
       "      <th>18851862</th>\n",
       "      <td>18851862</td>\n",
       "      <td>8359</td>\n",
       "      <td>NaN</td>\n",
       "      <td>['Drama']</td>\n",
       "      <td>NaN</td>\n",
       "      <td>61363</td>\n",
       "      <td>4.0</td>\n",
       "      <td>1417917738</td>\n",
       "      <td>Description non disponible</td>\n",
       "    </tr>\n",
       "    <tr>\n",
       "      <th>18851863</th>\n",
       "      <td>18851863</td>\n",
       "      <td>8359</td>\n",
       "      <td>NaN</td>\n",
       "      <td>['Drama']</td>\n",
       "      <td>NaN</td>\n",
       "      <td>143049</td>\n",
       "      <td>3.5</td>\n",
       "      <td>1319514235</td>\n",
       "      <td>Description non disponible</td>\n",
       "    </tr>\n",
       "    <tr>\n",
       "      <th>18851864</th>\n",
       "      <td>18851864</td>\n",
       "      <td>26815</td>\n",
       "      <td>NaN</td>\n",
       "      <td>['Comedy', 'Drama']</td>\n",
       "      <td>NaN</td>\n",
       "      <td>119765</td>\n",
       "      <td>2.5</td>\n",
       "      <td>1387236800</td>\n",
       "      <td>Description non disponible</td>\n",
       "    </tr>\n",
       "    <tr>\n",
       "      <th>18851865</th>\n",
       "      <td>18851865</td>\n",
       "      <td>79607</td>\n",
       "      <td>NaN</td>\n",
       "      <td>['Action', 'Drama', 'Sci-Fi', 'Thriller']</td>\n",
       "      <td>NaN</td>\n",
       "      <td>20744</td>\n",
       "      <td>3.5</td>\n",
       "      <td>1554747144</td>\n",
       "      <td>Description non disponible</td>\n",
       "    </tr>\n",
       "    <tr>\n",
       "      <th>...</th>\n",
       "      <td>...</td>\n",
       "      <td>...</td>\n",
       "      <td>...</td>\n",
       "      <td>...</td>\n",
       "      <td>...</td>\n",
       "      <td>...</td>\n",
       "      <td>...</td>\n",
       "      <td>...</td>\n",
       "      <td>...</td>\n",
       "    </tr>\n",
       "    <tr>\n",
       "      <th>18863627</th>\n",
       "      <td>18863627</td>\n",
       "      <td>207714</td>\n",
       "      <td>NaN</td>\n",
       "      <td>['Not specified']</td>\n",
       "      <td>NaN</td>\n",
       "      <td>105679</td>\n",
       "      <td>3.0</td>\n",
       "      <td>1571720524</td>\n",
       "      <td>Description non disponible</td>\n",
       "    </tr>\n",
       "    <tr>\n",
       "      <th>18863628</th>\n",
       "      <td>18863628</td>\n",
       "      <td>207884</td>\n",
       "      <td>NaN</td>\n",
       "      <td>['Not specified']</td>\n",
       "      <td>NaN</td>\n",
       "      <td>133867</td>\n",
       "      <td>5.0</td>\n",
       "      <td>1571970342</td>\n",
       "      <td>Description non disponible</td>\n",
       "    </tr>\n",
       "    <tr>\n",
       "      <th>18863629</th>\n",
       "      <td>18863629</td>\n",
       "      <td>208597</td>\n",
       "      <td>NaN</td>\n",
       "      <td>['Documentary']</td>\n",
       "      <td>NaN</td>\n",
       "      <td>131116</td>\n",
       "      <td>5.0</td>\n",
       "      <td>1573239533</td>\n",
       "      <td>Description non disponible</td>\n",
       "    </tr>\n",
       "    <tr>\n",
       "      <th>18863630</th>\n",
       "      <td>18863630</td>\n",
       "      <td>208763</td>\n",
       "      <td>NaN</td>\n",
       "      <td>['Not specified']</td>\n",
       "      <td>NaN</td>\n",
       "      <td>115835</td>\n",
       "      <td>2.5</td>\n",
       "      <td>1573517455</td>\n",
       "      <td>Description non disponible</td>\n",
       "    </tr>\n",
       "    <tr>\n",
       "      <th>18863631</th>\n",
       "      <td>18863631</td>\n",
       "      <td>208973</td>\n",
       "      <td>NaN</td>\n",
       "      <td>['Not specified']</td>\n",
       "      <td>NaN</td>\n",
       "      <td>115835</td>\n",
       "      <td>3.5</td>\n",
       "      <td>1573915519</td>\n",
       "      <td>Description non disponible</td>\n",
       "    </tr>\n",
       "  </tbody>\n",
       "</table>\n",
       "<p>11771 rows × 9 columns</p>\n",
       "</div>"
      ],
      "text/plain": [
       "          Unnamed: 0  movieId title  \\\n",
       "18851861    18851861     8359   NaN   \n",
       "18851862    18851862     8359   NaN   \n",
       "18851863    18851863     8359   NaN   \n",
       "18851864    18851864    26815   NaN   \n",
       "18851865    18851865    79607   NaN   \n",
       "...              ...      ...   ...   \n",
       "18863627    18863627   207714   NaN   \n",
       "18863628    18863628   207884   NaN   \n",
       "18863629    18863629   208597   NaN   \n",
       "18863630    18863630   208763   NaN   \n",
       "18863631    18863631   208973   NaN   \n",
       "\n",
       "                                             genres  year  userId  rating  \\\n",
       "18851861                                  ['Drama']   NaN   43188     4.5   \n",
       "18851862                                  ['Drama']   NaN   61363     4.0   \n",
       "18851863                                  ['Drama']   NaN  143049     3.5   \n",
       "18851864                        ['Comedy', 'Drama']   NaN  119765     2.5   \n",
       "18851865  ['Action', 'Drama', 'Sci-Fi', 'Thriller']   NaN   20744     3.5   \n",
       "...                                             ...   ...     ...     ...   \n",
       "18863627                          ['Not specified']   NaN  105679     3.0   \n",
       "18863628                          ['Not specified']   NaN  133867     5.0   \n",
       "18863629                            ['Documentary']   NaN  131116     5.0   \n",
       "18863630                          ['Not specified']   NaN  115835     2.5   \n",
       "18863631                          ['Not specified']   NaN  115835     3.5   \n",
       "\n",
       "           timestamp                    Synopsis  \n",
       "18851861  1523678508  Description non disponible  \n",
       "18851862  1417917738  Description non disponible  \n",
       "18851863  1319514235  Description non disponible  \n",
       "18851864  1387236800  Description non disponible  \n",
       "18851865  1554747144  Description non disponible  \n",
       "...              ...                         ...  \n",
       "18863627  1571720524  Description non disponible  \n",
       "18863628  1571970342  Description non disponible  \n",
       "18863629  1573239533  Description non disponible  \n",
       "18863630  1573517455  Description non disponible  \n",
       "18863631  1573915519  Description non disponible  \n",
       "\n",
       "[11771 rows x 9 columns]"
      ]
     },
     "execution_count": 7,
     "metadata": {},
     "output_type": "execute_result"
    }
   ],
   "source": [
    "rows_with_missing_title"
   ]
  },
  {
   "cell_type": "code",
   "execution_count": 37,
   "id": "6b76593d",
   "metadata": {},
   "outputs": [],
   "source": [
    "dataset = dataset.dropna(subset=['title'])"
   ]
  },
  {
   "cell_type": "code",
   "execution_count": 8,
   "id": "0606872e",
   "metadata": {},
   "outputs": [
    {
     "data": {
      "text/plain": [
       "Unnamed: 0    0\n",
       "movieId       0\n",
       "title         0\n",
       "genres        0\n",
       "year          0\n",
       "userId        0\n",
       "rating        0\n",
       "timestamp     0\n",
       "Synopsis      0\n",
       "dtype: int64"
      ]
     },
     "execution_count": 8,
     "metadata": {},
     "output_type": "execute_result"
    }
   ],
   "source": [
    "dataset.isna().sum() # NA "
   ]
  },
  {
   "cell_type": "code",
   "execution_count": 35,
   "id": "4ef50a88",
   "metadata": {},
   "outputs": [
    {
     "data": {
      "text/plain": [
       "\"\\n# Sélectionnez uniquement les colonnes 'movie_id' et 'genre'\\ndf_selected = dataset[['movieId', 'genres','rating']] \\n\\n# Supprimez les lignes en double basées sur 'movie_id'\\ndf_unique_movies = df_selected.drop_duplicates(subset='movieId')\\n\""
      ]
     },
     "execution_count": 35,
     "metadata": {},
     "output_type": "execute_result"
    }
   ],
   "source": [
    "# Sélectionnez uniquement les colonnes 'movie_id' et 'genre'\n",
    "#df_selected = dataset[['movieId', 'genres','rating']] \n",
    "\n",
    "# Supprimez les lignes en double basées sur 'movie_id'\n",
    "#df_unique_movies = df_selected.drop_duplicates(subset='movieId')\n"
   ]
  },
  {
   "cell_type": "code",
   "execution_count": 23,
   "id": "50becddd",
   "metadata": {},
   "outputs": [
    {
     "data": {
      "text/html": [
       "<div>\n",
       "<style scoped>\n",
       "    .dataframe tbody tr th:only-of-type {\n",
       "        vertical-align: middle;\n",
       "    }\n",
       "\n",
       "    .dataframe tbody tr th {\n",
       "        vertical-align: top;\n",
       "    }\n",
       "\n",
       "    .dataframe thead th {\n",
       "        text-align: right;\n",
       "    }\n",
       "</style>\n",
       "<table border=\"1\" class=\"dataframe\">\n",
       "  <thead>\n",
       "    <tr style=\"text-align: right;\">\n",
       "      <th></th>\n",
       "      <th>movieId</th>\n",
       "      <th>genres</th>\n",
       "      <th>rating</th>\n",
       "    </tr>\n",
       "  </thead>\n",
       "  <tbody>\n",
       "    <tr>\n",
       "      <th>0</th>\n",
       "      <td>1</td>\n",
       "      <td>['Adventure', 'Animation', 'Children', 'Comedy...</td>\n",
       "      <td>3.5</td>\n",
       "    </tr>\n",
       "    <tr>\n",
       "      <th>57309</th>\n",
       "      <td>2</td>\n",
       "      <td>['Adventure', 'Children', 'Fantasy']</td>\n",
       "      <td>5.0</td>\n",
       "    </tr>\n",
       "    <tr>\n",
       "      <th>81537</th>\n",
       "      <td>3</td>\n",
       "      <td>['Comedy', 'Romance']</td>\n",
       "      <td>4.0</td>\n",
       "    </tr>\n",
       "    <tr>\n",
       "      <th>93341</th>\n",
       "      <td>4</td>\n",
       "      <td>['Comedy', 'Drama', 'Romance']</td>\n",
       "      <td>3.0</td>\n",
       "    </tr>\n",
       "    <tr>\n",
       "      <th>95864</th>\n",
       "      <td>5</td>\n",
       "      <td>['Comedy']</td>\n",
       "      <td>4.0</td>\n",
       "    </tr>\n",
       "    <tr>\n",
       "      <th>...</th>\n",
       "      <td>...</td>\n",
       "      <td>...</td>\n",
       "      <td>...</td>\n",
       "    </tr>\n",
       "    <tr>\n",
       "      <th>25000090</th>\n",
       "      <td>209157</td>\n",
       "      <td>['Drama']</td>\n",
       "      <td>1.5</td>\n",
       "    </tr>\n",
       "    <tr>\n",
       "      <th>25000091</th>\n",
       "      <td>209159</td>\n",
       "      <td>['Documentary']</td>\n",
       "      <td>3.0</td>\n",
       "    </tr>\n",
       "    <tr>\n",
       "      <th>25000092</th>\n",
       "      <td>209163</td>\n",
       "      <td>['Comedy', 'Drama']</td>\n",
       "      <td>4.5</td>\n",
       "    </tr>\n",
       "    <tr>\n",
       "      <th>25000093</th>\n",
       "      <td>209169</td>\n",
       "      <td>['Not specified']</td>\n",
       "      <td>3.0</td>\n",
       "    </tr>\n",
       "    <tr>\n",
       "      <th>25000094</th>\n",
       "      <td>209171</td>\n",
       "      <td>['Action', 'Adventure', 'Drama']</td>\n",
       "      <td>3.0</td>\n",
       "    </tr>\n",
       "  </tbody>\n",
       "</table>\n",
       "<p>58669 rows × 3 columns</p>\n",
       "</div>"
      ],
      "text/plain": [
       "          movieId                                             genres  rating\n",
       "0               1  ['Adventure', 'Animation', 'Children', 'Comedy...     3.5\n",
       "57309           2               ['Adventure', 'Children', 'Fantasy']     5.0\n",
       "81537           3                              ['Comedy', 'Romance']     4.0\n",
       "93341           4                     ['Comedy', 'Drama', 'Romance']     3.0\n",
       "95864           5                                         ['Comedy']     4.0\n",
       "...           ...                                                ...     ...\n",
       "25000090   209157                                          ['Drama']     1.5\n",
       "25000091   209159                                    ['Documentary']     3.0\n",
       "25000092   209163                                ['Comedy', 'Drama']     4.5\n",
       "25000093   209169                                  ['Not specified']     3.0\n",
       "25000094   209171                   ['Action', 'Adventure', 'Drama']     3.0\n",
       "\n",
       "[58669 rows x 3 columns]"
      ]
     },
     "execution_count": 23,
     "metadata": {},
     "output_type": "execute_result"
    }
   ],
   "source": [
    "#df_unique_movies"
   ]
  },
  {
   "cell_type": "code",
   "execution_count": 38,
   "id": "f0776832",
   "metadata": {},
   "outputs": [],
   "source": [
    "# Calculer la moyenne des notes par MovieID\n",
    "average_ratings = dataset.groupby('movieId')['rating'].mean()\n",
    "\n",
    "# Sélectionner les MovieID dont la moyenne est inférieure à 2\n",
    "low_average_movie_ids = average_ratings[average_ratings < 2].index\n",
    "\n",
    "# supprimer movie avec moyenne < 2\n",
    "dataset = dataset[~dataset['movieId'].isin(low_average_movie_ids)]"
   ]
  },
  {
   "cell_type": "code",
   "execution_count": 14,
   "id": "4f1d7816",
   "metadata": {},
   "outputs": [],
   "source": [
    "#dataset.drop('genres', axis=1, inplace=True)\n",
    "\n",
    "#result_df = pd.merge(df_movie_dummy, dataset, on='movieId', how='inner','rating_y')"
   ]
  },
  {
   "cell_type": "code",
   "execution_count": 16,
   "id": "12dd4df2",
   "metadata": {},
   "outputs": [],
   "source": [
    "#result_df.rename(columns={'rating_x': 'rating'}, inplace=True)"
   ]
  },
  {
   "cell_type": "code",
   "execution_count": 39,
   "id": "715a1c8c",
   "metadata": {},
   "outputs": [
    {
     "name": "stdout",
     "output_type": "stream",
     "text": [
      "Index(['Unnamed: 0', 'movieId', 'title', 'genres', 'year', 'userId', 'rating',\n",
      "       'timestamp', 'Synopsis'],\n",
      "      dtype='object')\n"
     ]
    }
   ],
   "source": [
    "#print(dataset.columns)"
   ]
  },
  {
   "cell_type": "code",
   "execution_count": null,
   "id": "6b411ead",
   "metadata": {},
   "outputs": [],
   "source": [
    "# Suppression colonnes \n",
    "dataset.drop(['Unnamed: 0'], axis=1, inplace=True)"
   ]
  },
  {
   "cell_type": "code",
   "execution_count": null,
   "id": "4ee1c3e1",
   "metadata": {},
   "outputs": [],
   "source": [
    "dataset"
   ]
  },
  {
   "cell_type": "code",
   "execution_count": 41,
   "id": "f2565b1a",
   "metadata": {},
   "outputs": [
    {
     "data": {
      "image/png": "[encoded data removed]",
      "text/plain": [
       "<Figure size 1600x800 with 1 Axes>"
      ]
     },
     "metadata": {},
     "output_type": "display_data"
    }
   ],
   "source": [
    "\n",
    "#selected_columns = ['Adventure', 'Animation', 'Children', 'Comedy', 'Fantasy',\n",
    "                    # 'Romance', 'Drama', 'Action', 'Crime', 'Thriller', 'Horror',\n",
    "                    # 'Mystery', 'Sci-Fi', 'IMAX', 'Documentary', 'War',\n",
    "                    # 'Musical', 'Western', 'Film-Noir']\n",
    "\n",
    "\n",
    "#genre_percentages = dataset[selected_columns].mean()\n",
    "\n",
    "# graphique\n",
    "#plt.figure(figsize=(16, 8))\n",
    "#genre_percentages.plot(kind='bar', color='teal')\n",
    "#plt.title('Pourcentage des genres de films (0 ou 1)')\n",
    "#plt.xlabel('Genres')\n",
    "#plt.ylabel('Pourcentage de films')\n",
    "#plt.xticks(rotation=45, ha='right')\n",
    "#plt.show()\n"
   ]
  },
  {
   "cell_type": "markdown",
   "id": "f2876f52",
   "metadata": {},
   "source": [
    "# Rating "
   ]
  },
  {
   "cell_type": "code",
   "execution_count": 42,
   "id": "ecce9531",
   "metadata": {},
   "outputs": [
    {
     "name": "stdout",
     "output_type": "stream",
     "text": [
      "count    2.498832e+07\n",
      "mean     3.533793e+00\n",
      "std      1.060736e+00\n",
      "min      5.000000e-01\n",
      "25%      3.000000e+00\n",
      "50%      3.500000e+00\n",
      "75%      4.000000e+00\n",
      "max      5.000000e+00\n",
      "Name: rating, dtype: float64\n"
     ]
    }
   ],
   "source": [
    "# statistiques descriptives\n",
    "print(dataset['rating'].describe())"
   ]
  },
  {
   "cell_type": "code",
   "execution_count": 52,
   "id": "fac54396",
   "metadata": {},
   "outputs": [
    {
     "data": {
      "text/plain": [
       "<function matplotlib.pyplot.show(close=None, block=None)>"
      ]
     },
     "execution_count": 52,
     "metadata": {},
     "output_type": "execute_result"
    },
    {
     "data": {
      "image/png": "[encoded data removed]",
      "text/plain": [
       "<Figure size 1000x600 with 1 Axes>"
      ]
     },
     "metadata": {},
     "output_type": "display_data"
    }
   ],
   "source": [
    "#ratings = dataset['rating']\n",
    "\n",
    "# histogramme \n",
    "#plt.figure(figsize=(10, 6))\n",
    "#plt.hist(ratings, color='skyblue', edgecolor='black', rwidth=0.8)\n",
    "#plt.title('Distribution des notes de films')\n",
    "#plt.xlabel('Notes')\n",
    "#plt.ylabel('Nombre de films')\n",
    "\n",
    "# Désactiver notation scientifique \n",
    "#plt.gca().get_yaxis().get_major_formatter().set_scientific(False)\n",
    "\n",
    "#plt.show\n"
   ]
  },
  {
   "cell_type": "code",
   "execution_count": 55,
   "id": "8ef80334",
   "metadata": {},
   "outputs": [
    {
     "name": "stdout",
     "output_type": "stream",
     "text": [
      "   Note  Fréquence\n",
      "0   0.5     392787\n",
      "1   1.0     776552\n",
      "2   1.5     399265\n",
      "3   2.0    1640412\n",
      "4   2.5    1262169\n",
      "5   3.0    4895397\n",
      "6   3.5    3175360\n",
      "7   4.0    6636993\n",
      "8   4.5    2198776\n",
      "9   5.0    3610613\n"
     ]
    }
   ],
   "source": [
    "## Fréquence rating sous forme de tableau \n",
    "\n",
    "ratings = dataset['rating']\n",
    "\n",
    "\n",
    "rating_frequencies = ratings.value_counts().sort_index()\n",
    "\n",
    "# tableau \n",
    "frequency_table = pd.DataFrame({\n",
    "    'Note': rating_frequencies.index,\n",
    "    'Fréquence': rating_frequencies.values\n",
    "})\n",
    "\n",
    "\n",
    "print(frequency_table)\n"
   ]
  }
 ],
 "metadata": {
  "kernelspec": {
   "display_name": "Python 3 (ipykernel)",
   "language": "python",
   "name": "python3"
  },
  "language_info": {
   "codemirror_mode": {
    "name": "ipython",
    "version": 3
   },
   "file_extension": ".py",
   "mimetype": "text/x-python",
   "name": "python",
   "nbconvert_exporter": "python",
   "pygments_lexer": "ipython3",
   "version": "3.9.13"
  }
 },
 "nbformat": 4,
 "nbformat_minor": 5
}
