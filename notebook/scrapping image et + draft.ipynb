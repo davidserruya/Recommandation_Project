{
 "cells": [
  {
   "cell_type": "code",
   "execution_count": 2,
   "id": "52f55470-bfe5-4c0d-aeb8-bee640b2091a",
   "metadata": {},
   "outputs": [],
   "source": [
    "import pandas as pd\n",
    "import numpy as np\n",
    "from scipy.sparse import csr_matrix\n",
    "from scipy.sparse.linalg import svds \n",
    "import matplotlib.pyplot as plt\n",
    "import requests\n",
    "from bs4 import BeautifulSoup"
   ]
  },
  {
   "cell_type": "code",
   "execution_count": 3,
   "id": "c3bc545d-f4ab-4820-989c-644ab20f3b5b",
   "metadata": {},
   "outputs": [],
   "source": [
    "data = pd.read_csv('movie_db_clean.csv', iterator=True, chunksize=250000)"
   ]
  },
  {
   "cell_type": "code",
   "execution_count": 4,
   "id": "fad72a5a",
   "metadata": {},
   "outputs": [],
   "source": [
    "df = pd.concat(data, ignore_index=True)"
   ]
  },
  {
   "cell_type": "code",
   "execution_count": 5,
   "id": "c809f47d-69cf-43ac-bcf3-bc97ad1ff817",
   "metadata": {},
   "outputs": [
    {
     "data": {
      "text/plain": [
       "Index(['movieId', 'title', 'genres', 'year', 'userId', 'rating', 'Synopsis'], dtype='object')"
      ]
     },
     "execution_count": 5,
     "metadata": {},
     "output_type": "execute_result"
    }
   ],
   "source": [
    "df.columns"
   ]
  },
  {
   "cell_type": "code",
   "execution_count": 6,
   "id": "da1aab22-b76b-4b98-9d9e-b70e5c68251c",
   "metadata": {},
   "outputs": [],
   "source": [
    "df = df.sample(10000, random_state = 21)"
   ]
  },
  {
   "cell_type": "code",
   "execution_count": 12,
   "id": "25beefee",
   "metadata": {},
   "outputs": [
    {
     "name": "stdout",
     "output_type": "stream",
     "text": [
      "Collecting requests-html\n",
      "  Downloading requests_html-0.10.0-py3-none-any.whl (13 kB)\n",
      "Requirement already satisfied: requests in /Users/cindyporfirio/opt/anaconda3/lib/python3.9/site-packages (from requests-html) (2.28.1)\n",
      "Collecting pyquery (from requests-html)\n",
      "  Downloading pyquery-2.0.0-py3-none-any.whl (22 kB)\n",
      "Collecting fake-useragent (from requests-html)\n",
      "  Downloading fake_useragent-1.4.0-py3-none-any.whl.metadata (13 kB)\n",
      "Collecting parse (from requests-html)\n",
      "  Downloading parse-1.20.0-py2.py3-none-any.whl.metadata (21 kB)\n",
      "Collecting bs4 (from requests-html)\n",
      "  Downloading bs4-0.0.1.tar.gz (1.1 kB)\n",
      "  Preparing metadata (setup.py) ... \u001b[?25ldone\n",
      "\u001b[?25hRequirement already satisfied: w3lib in /Users/cindyporfirio/opt/anaconda3/lib/python3.9/site-packages (from requests-html) (1.21.0)\n",
      "Collecting pyppeteer>=0.0.14 (from requests-html)\n",
      "  Downloading pyppeteer-1.0.2-py3-none-any.whl (83 kB)\n",
      "\u001b[2K     \u001b[90m━━━━━━━━━━━━━━━━━━━━━━━━━━━━━━━━━━━━━━━━\u001b[0m \u001b[32m83.4/83.4 kB\u001b[0m \u001b[31m6.2 MB/s\u001b[0m eta \u001b[36m0:00:00\u001b[0m\n",
      "\u001b[?25hRequirement already satisfied: appdirs<2.0.0,>=1.4.3 in /Users/cindyporfirio/opt/anaconda3/lib/python3.9/site-packages (from pyppeteer>=0.0.14->requests-html) (1.4.4)\n",
      "Requirement already satisfied: certifi>=2021 in /Users/cindyporfirio/opt/anaconda3/lib/python3.9/site-packages (from pyppeteer>=0.0.14->requests-html) (2022.9.24)\n",
      "Requirement already satisfied: importlib-metadata>=1.4 in /Users/cindyporfirio/opt/anaconda3/lib/python3.9/site-packages (from pyppeteer>=0.0.14->requests-html) (4.11.3)\n",
      "Collecting pyee<9.0.0,>=8.1.0 (from pyppeteer>=0.0.14->requests-html)\n",
      "  Downloading pyee-8.2.2-py2.py3-none-any.whl (12 kB)\n",
      "Requirement already satisfied: tqdm<5.0.0,>=4.42.1 in /Users/cindyporfirio/opt/anaconda3/lib/python3.9/site-packages (from pyppeteer>=0.0.14->requests-html) (4.64.1)\n",
      "Requirement already satisfied: urllib3<2.0.0,>=1.25.8 in /Users/cindyporfirio/opt/anaconda3/lib/python3.9/site-packages (from pyppeteer>=0.0.14->requests-html) (1.26.11)\n",
      "Collecting websockets<11.0,>=10.0 (from pyppeteer>=0.0.14->requests-html)\n",
      "  Downloading websockets-10.4-cp39-cp39-macosx_10_9_x86_64.whl (97 kB)\n",
      "\u001b[2K     \u001b[90m━━━━━━━━━━━━━━━━━━━━━━━━━━━━━━━━━━━━━━━━\u001b[0m \u001b[32m97.9/97.9 kB\u001b[0m \u001b[31m2.8 MB/s\u001b[0m eta \u001b[36m0:00:00\u001b[0ma \u001b[36m0:00:01\u001b[0m\n",
      "\u001b[?25hRequirement already satisfied: beautifulsoup4 in /Users/cindyporfirio/opt/anaconda3/lib/python3.9/site-packages (from bs4->requests-html) (4.11.1)\n",
      "Collecting importlib-resources>=5.0 (from fake-useragent->requests-html)\n",
      "  Downloading importlib_resources-6.1.1-py3-none-any.whl.metadata (4.1 kB)\n",
      "Requirement already satisfied: lxml>=2.1 in /Users/cindyporfirio/opt/anaconda3/lib/python3.9/site-packages (from pyquery->requests-html) (4.9.1)\n",
      "Collecting cssselect>=1.2.0 (from pyquery->requests-html)\n",
      "  Downloading cssselect-1.2.0-py2.py3-none-any.whl (18 kB)\n",
      "Requirement already satisfied: charset-normalizer<3,>=2 in /Users/cindyporfirio/opt/anaconda3/lib/python3.9/site-packages (from requests->requests-html) (2.0.4)\n",
      "Requirement already satisfied: idna<4,>=2.5 in /Users/cindyporfirio/opt/anaconda3/lib/python3.9/site-packages (from requests->requests-html) (3.3)\n",
      "Requirement already satisfied: six>=1.4.1 in /Users/cindyporfirio/opt/anaconda3/lib/python3.9/site-packages (from w3lib->requests-html) (1.16.0)\n",
      "Requirement already satisfied: zipp>=0.5 in /Users/cindyporfirio/opt/anaconda3/lib/python3.9/site-packages (from importlib-metadata>=1.4->pyppeteer>=0.0.14->requests-html) (3.8.0)\n",
      "Requirement already satisfied: soupsieve>1.2 in /Users/cindyporfirio/opt/anaconda3/lib/python3.9/site-packages (from beautifulsoup4->bs4->requests-html) (2.3.1)\n",
      "Downloading fake_useragent-1.4.0-py3-none-any.whl (15 kB)\n",
      "Downloading parse-1.20.0-py2.py3-none-any.whl (19 kB)\n",
      "Downloading importlib_resources-6.1.1-py3-none-any.whl (33 kB)\n",
      "Building wheels for collected packages: bs4\n",
      "  Building wheel for bs4 (setup.py) ... \u001b[?25ldone\n",
      "\u001b[?25h  Created wheel for bs4: filename=bs4-0.0.1-py3-none-any.whl size=1257 sha256=ec321329606c8b1b5314d91340f5c68285870584241cedeb1c873619496c0306\n",
      "  Stored in directory: /Users/cindyporfirio/Library/Caches/pip/wheels/73/2b/cb/099980278a0c9a3e57ff1a89875ec07bfa0b6fcbebb9a8cad3\n",
      "Successfully built bs4\n",
      "Installing collected packages: pyee, parse, websockets, importlib-resources, cssselect, pyquery, pyppeteer, fake-useragent, bs4, requests-html\n",
      "  Attempting uninstall: cssselect\n",
      "    Found existing installation: cssselect 1.1.0\n",
      "    Uninstalling cssselect-1.1.0:\n",
      "      Successfully uninstalled cssselect-1.1.0\n",
      "Successfully installed bs4-0.0.1 cssselect-1.2.0 fake-useragent-1.4.0 importlib-resources-6.1.1 parse-1.20.0 pyee-8.2.2 pyppeteer-1.0.2 pyquery-2.0.0 requests-html-0.10.0 websockets-10.4\n",
      "Note: you may need to restart the kernel to use updated packages.\n"
     ]
    }
   ],
   "source": [
    "pip install requests-html"
   ]
  },
  {
   "cell_type": "code",
   "execution_count": 17,
   "id": "a07a9287",
   "metadata": {},
   "outputs": [
    {
     "name": "stdout",
     "output_type": "stream",
     "text": [
      "Aucun élément de couverture trouvé sur la page.\n"
     ]
    }
   ],
   "source": [
    "from requests_html import AsyncHTMLSession\n",
    "\n",
    "async def download_image(url):\n",
    "    session = AsyncHTMLSession()\n",
    "\n",
    "    # Charger la page avec un délai d'attente plus long (par exemple, 15 secondes)\n",
    "    response = await session.get(url, timeout=15)\n",
    "    await response.html.arender()\n",
    "\n",
    "    try:\n",
    "        # Le reste du code reste inchangé...\n",
    "        cover_element = response.html.find('div.cover', first=True)\n",
    "        if cover_element:\n",
    "            image_element = cover_element.find('img', first=True)\n",
    "            if image_element:\n",
    "                image_url = image_element.attrs['src']\n",
    "                image_data = await session.get(image_url)\n",
    "                with open('movie_image.jpg', 'wb') as f:\n",
    "                    f.write(image_data.content)\n",
    "                print('Image téléchargée avec succès.')\n",
    "            else:\n",
    "                print('Aucun élément d\\'image trouvé sur la page.')\n",
    "        else:\n",
    "            print('Aucun élément de couverture trouvé sur la page.')\n",
    "    except Exception as e:\n",
    "        print(f'Erreur: {e}')\n",
    "    finally:\n",
    "        # Fermer la session\n",
    "        await session.close()\n",
    "\n",
    "# Exemple d'utilisation\n",
    "url = 'https://movielens.org/movies/201588'\n",
    "await download_image(url)\n"
   ]
  }
 ],
 "metadata": {
  "kernelspec": {
   "display_name": "Python 3 (ipykernel)",
   "language": "python",
   "name": "python3"
  },
  "language_info": {
   "codemirror_mode": {
    "name": "ipython",
    "version": 3
   },
   "file_extension": ".py",
   "mimetype": "text/x-python",
   "name": "python",
   "nbconvert_exporter": "python",
   "pygments_lexer": "ipython3",
   "version": "3.9.13"
  }
 },
 "nbformat": 4,
 "nbformat_minor": 5
}
