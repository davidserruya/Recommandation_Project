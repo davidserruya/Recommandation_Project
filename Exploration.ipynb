{
 "cells": [
  {
   "cell_type": "code",
   "execution_count": 2,
   "id": "1e8ad8c5-177b-4a45-ba35-f063cc7f7a8a",
   "metadata": {},
   "outputs": [],
   "source": [
    "import pandas as pd\n",
    "import numpy as np\n",
    "import re"
   ]
  },
  {
   "cell_type": "markdown",
   "id": "c9b0e682-3567-43d8-a03f-de0657471424",
   "metadata": {},
   "source": [
    "## Data Cleaning"
   ]
  },
  {
   "cell_type": "code",
   "execution_count": 3,
   "id": "1d0a7d20-d09e-418a-956c-1c48f6b2d95a",
   "metadata": {},
   "outputs": [],
   "source": [
    "movies = pd.read_csv('movies.csv')\n",
    "ratings = pd.read_csv('ratings.csv')"
   ]
  },
  {
   "cell_type": "code",
   "execution_count": 4,
   "id": "e9e24b26-f308-4338-a944-292d802a128a",
   "metadata": {},
   "outputs": [
    {
     "data": {
      "text/html": [
       "<div>\n",
       "<style scoped>\n",
       "    .dataframe tbody tr th:only-of-type {\n",
       "        vertical-align: middle;\n",
       "    }\n",
       "\n",
       "    .dataframe tbody tr th {\n",
       "        vertical-align: top;\n",
       "    }\n",
       "\n",
       "    .dataframe thead th {\n",
       "        text-align: right;\n",
       "    }\n",
       "</style>\n",
       "<table border=\"1\" class=\"dataframe\">\n",
       "  <thead>\n",
       "    <tr style=\"text-align: right;\">\n",
       "      <th></th>\n",
       "      <th>movieId</th>\n",
       "      <th>title</th>\n",
       "      <th>genres</th>\n",
       "    </tr>\n",
       "  </thead>\n",
       "  <tbody>\n",
       "    <tr>\n",
       "      <th>0</th>\n",
       "      <td>1</td>\n",
       "      <td>Toy Story (1995)</td>\n",
       "      <td>Adventure|Animation|Children|Comedy|Fantasy</td>\n",
       "    </tr>\n",
       "    <tr>\n",
       "      <th>1</th>\n",
       "      <td>2</td>\n",
       "      <td>Jumanji (1995)</td>\n",
       "      <td>Adventure|Children|Fantasy</td>\n",
       "    </tr>\n",
       "    <tr>\n",
       "      <th>2</th>\n",
       "      <td>3</td>\n",
       "      <td>Grumpier Old Men (1995)</td>\n",
       "      <td>Comedy|Romance</td>\n",
       "    </tr>\n",
       "    <tr>\n",
       "      <th>3</th>\n",
       "      <td>4</td>\n",
       "      <td>Waiting to Exhale (1995)</td>\n",
       "      <td>Comedy|Drama|Romance</td>\n",
       "    </tr>\n",
       "    <tr>\n",
       "      <th>4</th>\n",
       "      <td>5</td>\n",
       "      <td>Father of the Bride Part II (1995)</td>\n",
       "      <td>Comedy</td>\n",
       "    </tr>\n",
       "  </tbody>\n",
       "</table>\n",
       "</div>"
      ],
      "text/plain": [
       "   movieId                               title  \\\n",
       "0        1                    Toy Story (1995)   \n",
       "1        2                      Jumanji (1995)   \n",
       "2        3             Grumpier Old Men (1995)   \n",
       "3        4            Waiting to Exhale (1995)   \n",
       "4        5  Father of the Bride Part II (1995)   \n",
       "\n",
       "                                        genres  \n",
       "0  Adventure|Animation|Children|Comedy|Fantasy  \n",
       "1                   Adventure|Children|Fantasy  \n",
       "2                               Comedy|Romance  \n",
       "3                         Comedy|Drama|Romance  \n",
       "4                                       Comedy  "
      ]
     },
     "metadata": {},
     "output_type": "display_data"
    },
    {
     "data": {
      "text/html": [
       "<div>\n",
       "<style scoped>\n",
       "    .dataframe tbody tr th:only-of-type {\n",
       "        vertical-align: middle;\n",
       "    }\n",
       "\n",
       "    .dataframe tbody tr th {\n",
       "        vertical-align: top;\n",
       "    }\n",
       "\n",
       "    .dataframe thead th {\n",
       "        text-align: right;\n",
       "    }\n",
       "</style>\n",
       "<table border=\"1\" class=\"dataframe\">\n",
       "  <thead>\n",
       "    <tr style=\"text-align: right;\">\n",
       "      <th></th>\n",
       "      <th>userId</th>\n",
       "      <th>movieId</th>\n",
       "      <th>rating</th>\n",
       "      <th>timestamp</th>\n",
       "    </tr>\n",
       "  </thead>\n",
       "  <tbody>\n",
       "    <tr>\n",
       "      <th>0</th>\n",
       "      <td>1</td>\n",
       "      <td>296</td>\n",
       "      <td>5.0</td>\n",
       "      <td>1147880044</td>\n",
       "    </tr>\n",
       "    <tr>\n",
       "      <th>1</th>\n",
       "      <td>1</td>\n",
       "      <td>306</td>\n",
       "      <td>3.5</td>\n",
       "      <td>1147868817</td>\n",
       "    </tr>\n",
       "    <tr>\n",
       "      <th>2</th>\n",
       "      <td>1</td>\n",
       "      <td>307</td>\n",
       "      <td>5.0</td>\n",
       "      <td>1147868828</td>\n",
       "    </tr>\n",
       "    <tr>\n",
       "      <th>3</th>\n",
       "      <td>1</td>\n",
       "      <td>665</td>\n",
       "      <td>5.0</td>\n",
       "      <td>1147878820</td>\n",
       "    </tr>\n",
       "    <tr>\n",
       "      <th>4</th>\n",
       "      <td>1</td>\n",
       "      <td>899</td>\n",
       "      <td>3.5</td>\n",
       "      <td>1147868510</td>\n",
       "    </tr>\n",
       "  </tbody>\n",
       "</table>\n",
       "</div>"
      ],
      "text/plain": [
       "   userId  movieId  rating   timestamp\n",
       "0       1      296     5.0  1147880044\n",
       "1       1      306     3.5  1147868817\n",
       "2       1      307     5.0  1147868828\n",
       "3       1      665     5.0  1147878820\n",
       "4       1      899     3.5  1147868510"
      ]
     },
     "metadata": {},
     "output_type": "display_data"
    }
   ],
   "source": [
    "display(movies.head())\n",
    "display(ratings.head())"
   ]
  },
  {
   "cell_type": "code",
   "execution_count": 5,
   "id": "069627d2-1a66-4db6-a42b-6aa52e0e3d1b",
   "metadata": {},
   "outputs": [],
   "source": [
    "movie_title = []\n",
    "year = []"
   ]
  },
  {
   "cell_type": "code",
   "execution_count": 6,
   "id": "af26b466-7ded-4841-9905-c5de203bfa3d",
   "metadata": {},
   "outputs": [],
   "source": [
    "for element in movies['title']:\n",
    "    match = re.match(r\"(.+) \\((\\d{4})\\)\", element)\n",
    "    # Vérifier si la correspondance a été trouvée\n",
    "    if match:\n",
    "        # Ajouter le nom du film à la liste des noms de films\n",
    "        movie_title.append(match.group(1))\n",
    "        \n",
    "        # Ajouter l'année à la liste des années\n",
    "        year.append(match.group(2))\n",
    "    else:\n",
    "        # Si aucune correspondance n'a été trouvée, ajouter des valeurs par défaut\n",
    "        movie_title.append(None)\n",
    "        year.append(None)"
   ]
  },
  {
   "cell_type": "code",
   "execution_count": 7,
   "id": "631c4592-a827-40f4-abf9-25a2d69b4a67",
   "metadata": {},
   "outputs": [],
   "source": [
    "movies['title'] = movie_title\n",
    "movies['year'] = year"
   ]
  },
  {
   "cell_type": "code",
   "execution_count": 8,
   "id": "847b2a9e-8518-479b-a9a4-74f79affd6c3",
   "metadata": {},
   "outputs": [],
   "source": [
    "df = movies.merge(ratings, on='movieId')"
   ]
  },
  {
   "cell_type": "code",
   "execution_count": 9,
   "id": "8fdecd93-c734-4dfc-ab83-3ad6c7b7b956",
   "metadata": {},
   "outputs": [],
   "source": [
    "df['genres'] = df['genres'].replace('(no genres listed)', 'Not specified')"
   ]
  },
  {
   "cell_type": "code",
   "execution_count": 10,
   "id": "36afd821-db0c-4969-84a3-6dde376b3267",
   "metadata": {},
   "outputs": [],
   "source": [
    "df['genres'] = df['genres'].apply(lambda row: row.split('|'))"
   ]
  },
  {
   "cell_type": "markdown",
   "id": "bae45a5b-9399-4225-bd69-bdf6fee51e00",
   "metadata": {},
   "source": [
    "## Scraping"
   ]
  },
  {
   "cell_type": "code",
   "execution_count": 11,
   "id": "4043f4ee-cb4c-496b-a12b-2e4a9d1fbbe4",
   "metadata": {},
   "outputs": [],
   "source": [
    "from bs4 import BeautifulSoup\n",
    "import pandas as pd\n",
    "import requests\n",
    "import time\n",
    "import pickle"
   ]
  },
  {
   "cell_type": "code",
   "execution_count": 12,
   "id": "ece99fdc-06b6-4467-9509-91d9258ba876",
   "metadata": {},
   "outputs": [],
   "source": [
    "l_movies = list(df['title'].unique())"
   ]
  },
  {
   "cell_type": "code",
   "execution_count": 13,
   "id": "01845af9-eb1e-458d-903b-b00e4daa0e90",
   "metadata": {},
   "outputs": [],
   "source": [
    "def retrieve_movies_results(url):\n",
    "    try:\n",
    "        # On crée une session de navigation web\n",
    "        session = requests.Session()\n",
    "        response = session.get(url)\n",
    "        \n",
    "        # On récupère les paramètres de cookies\n",
    "        cookies_dictionary = session.cookies.get_dict()\n",
    "\n",
    "        # On construire le cookie\n",
    "        cookie = '; '.join([f'{key}={value}' for key, value in cookies_dictionary.items()])\n",
    "\n",
    "        # On récupère le contenu dans l'url avec la configuration indiquée dans le header\n",
    "        USER_AGENT = \"Mozilla/5.0 (Macintosh; Intel Mac OS X 10.14; rv:65.0) Gecko/20100101 Firefox/65.0\"\n",
    "        headers = {\"user-agent\": USER_AGENT, \"cookie\": cookie}  # Ajouter le cookie au header\n",
    "        html_text = requests.get(url, headers=headers, timeout=20).text\n",
    "\n",
    "        return html_text\n",
    "    except :\n",
    "        print('La requête a échouée')\n",
    "        return None"
   ]
  },
  {
   "cell_type": "code",
   "execution_count": 14,
   "id": "97340899-7bbb-46ff-aaff-93809a703c6a",
   "metadata": {},
   "outputs": [],
   "source": [
    "def process_results(html_text):\n",
    "    # La libraire BeautifulSoup permet de parser le texte que nous avons extrait de la page web\n",
    "    soup = BeautifulSoup(html_text, features= \"lxml\")\n",
    "    # On recherche tous les éléments html <div> qui indiquent des divisions vers la classe que nous cherchons à importer \n",
    "    data = [synopsis.text for synopsis in soup.find_all('div', {'class' : 'ipc-html-content-inner-div'})]\n",
    "    results = pd.DataFrame({'Synopsis' : data})\n",
    "    \n",
    "    return results"
   ]
  },
  {
   "cell_type": "code",
   "execution_count": 28,
   "id": "0302b48b-9e55-4ff3-9f20-5af83bbd69ad",
   "metadata": {},
   "outputs": [],
   "source": [
    "# Fonction permettant de matcher dans un dataframe le premier résultat de la recherche ainsi que le nom du film recherché\n",
    "def merging(url, movies, output_file='synopsis.pkl'):\n",
    "    synops = []\n",
    "    i = 0\n",
    "    \n",
    "    try:\n",
    "        # Charger les données existantes si le fichier existe\n",
    "        with open(output_file, 'rb') as file:\n",
    "            saved_data = pickle.load(file)\n",
    "            synops.extend(saved_data['synops'])\n",
    "            i = saved_data['i']\n",
    "    except FileNotFoundError:\n",
    "        # Si le fichier n'existe pas, commencer à partir de zéro\n",
    "        pass\n",
    "\n",
    "    for val in movies[i:]:\n",
    "        try:\n",
    "            movie = val.replace(\" \", \"%20\")\n",
    "            complete_url = url + movie\n",
    "            html_text = retrieve_movies_results(complete_url)\n",
    "            results_df = process_results(html_text)\n",
    "            synops.append(results_df['Synopsis'][0])\n",
    "        except:  # Parfois un film ne comporte pas de description référencée sur IMDB et parfois soucis de matching entre les noms de la base et ceux de IMDB\n",
    "            synops.append(\"Description non disponible\")\n",
    "        i += 1\n",
    "        print(\"Scraping du\",i,\"e film : \" + val)\n",
    "\n",
    "        # Enregistrer les données après chaque requête\n",
    "        data_to_save = {'synops': synops, 'i': i}\n",
    "        with open(output_file, 'wb') as file:\n",
    "            pickle.dump(data_to_save, file)\n",
    "\n",
    "        # Ajouter un délai de 3 secondes entre chaque requête\n",
    "        time.sleep(3)\n",
    "\n",
    "    match = pd.DataFrame({'Synopsis': synops, 'title': movies})\n",
    "    return match\n"
   ]
  },
  {
   "cell_type": "code",
   "execution_count": 29,
   "id": "2a6e5e67-7094-4bdd-8401-6a7478f807a3",
   "metadata": {},
   "outputs": [],
   "source": [
    "# Import des noms des films\n",
    "def movie_names_import (path):\n",
    "    names = pd.read_csv(path)\n",
    "    return names"
   ]
  },
  {
   "cell_type": "code",
   "execution_count": 30,
   "id": "8466b753-fe63-43e7-a885-3698eb8f9939",
   "metadata": {},
   "outputs": [],
   "source": [
    "def load_existing_base (file = \"descriptions.csv\"):\n",
    "    # On essaie de charger la base de données existante\n",
    "    try :\n",
    "        base = pd.read_csv(file)\n",
    "    #... sinon on la crée \n",
    "    except :\n",
    "        # on crée un dataframe avec les bonnes colonnes\n",
    "        columns = [\"\", \"Synopsis\", \"title\"]\n",
    "        base = pd.DataFrame(columns=columns)\n",
    "        # on l'enregistre au format csv\n",
    "        base.to_csv(file)\n",
    "    return base[\"title\"]"
   ]
  },
  {
   "cell_type": "code",
   "execution_count": 31,
   "id": "eacc9c43-7622-4aa8-af3d-8b0aad7056fa",
   "metadata": {},
   "outputs": [],
   "source": [
    "synopsis= merging(url = 'https://www.imdb.com/search/title/?title=', movies = l_movies)"
   ]
  },
  {
   "cell_type": "code",
   "execution_count": 32,
   "metadata": {},
   "outputs": [
    {
     "data": {
      "text/html": [
       "<div>\n",
       "<style scoped>\n",
       "    .dataframe tbody tr th:only-of-type {\n",
       "        vertical-align: middle;\n",
       "    }\n",
       "\n",
       "    .dataframe tbody tr th {\n",
       "        vertical-align: top;\n",
       "    }\n",
       "\n",
       "    .dataframe thead th {\n",
       "        text-align: right;\n",
       "    }\n",
       "</style>\n",
       "<table border=\"1\" class=\"dataframe\">\n",
       "  <thead>\n",
       "    <tr style=\"text-align: right;\">\n",
       "      <th></th>\n",
       "      <th>Synopsis</th>\n",
       "      <th>title</th>\n",
       "    </tr>\n",
       "  </thead>\n",
       "  <tbody>\n",
       "    <tr>\n",
       "      <th>0</th>\n",
       "      <td>A cowboy doll is profoundly threatened and jea...</td>\n",
       "      <td>Toy Story</td>\n",
       "    </tr>\n",
       "    <tr>\n",
       "      <th>1</th>\n",
       "      <td>Four teenagers are sucked into a magical video...</td>\n",
       "      <td>Jumanji</td>\n",
       "    </tr>\n",
       "    <tr>\n",
       "      <th>2</th>\n",
       "      <td>John and Max resolve to save their beloved bai...</td>\n",
       "      <td>Grumpier Old Men</td>\n",
       "    </tr>\n",
       "    <tr>\n",
       "      <th>3</th>\n",
       "      <td>Based on Terry McMillan's novel, this film fol...</td>\n",
       "      <td>Waiting to Exhale</td>\n",
       "    </tr>\n",
       "    <tr>\n",
       "      <th>4</th>\n",
       "      <td>George Banks must deal not only with his daugh...</td>\n",
       "      <td>Father of the Bride Part II</td>\n",
       "    </tr>\n",
       "    <tr>\n",
       "      <th>...</th>\n",
       "      <td>...</td>\n",
       "      <td>...</td>\n",
       "    </tr>\n",
       "    <tr>\n",
       "      <th>55113</th>\n",
       "      <td>The story of Marie-Laure, a blind French teena...</td>\n",
       "      <td>We</td>\n",
       "    </tr>\n",
       "    <tr>\n",
       "      <th>55114</th>\n",
       "      <td>Scotland Yard Commander Clare Blake is called ...</td>\n",
       "      <td>Window of the Soul</td>\n",
       "    </tr>\n",
       "    <tr>\n",
       "      <th>55115</th>\n",
       "      <td>33-years old Tamás is heartbroken after his gi...</td>\n",
       "      <td>Bad Poems</td>\n",
       "    </tr>\n",
       "    <tr>\n",
       "      <th>55116</th>\n",
       "      <td>Sworn enemies find themselves in each other's ...</td>\n",
       "      <td>A Girl Thing</td>\n",
       "    </tr>\n",
       "    <tr>\n",
       "      <th>55117</th>\n",
       "      <td>Female prisoners are shipped to Devil's Island...</td>\n",
       "      <td>Women of Devil's Island</td>\n",
       "    </tr>\n",
       "  </tbody>\n",
       "</table>\n",
       "<p>55118 rows × 2 columns</p>\n",
       "</div>"
      ],
      "text/plain": [
       "                                                Synopsis  \\\n",
       "0      A cowboy doll is profoundly threatened and jea...   \n",
       "1      Four teenagers are sucked into a magical video...   \n",
       "2      John and Max resolve to save their beloved bai...   \n",
       "3      Based on Terry McMillan's novel, this film fol...   \n",
       "4      George Banks must deal not only with his daugh...   \n",
       "...                                                  ...   \n",
       "55113  The story of Marie-Laure, a blind French teena...   \n",
       "55114  Scotland Yard Commander Clare Blake is called ...   \n",
       "55115  33-years old Tamás is heartbroken after his gi...   \n",
       "55116  Sworn enemies find themselves in each other's ...   \n",
       "55117  Female prisoners are shipped to Devil's Island...   \n",
       "\n",
       "                             title  \n",
       "0                        Toy Story  \n",
       "1                          Jumanji  \n",
       "2                 Grumpier Old Men  \n",
       "3                Waiting to Exhale  \n",
       "4      Father of the Bride Part II  \n",
       "...                            ...  \n",
       "55113                           We  \n",
       "55114           Window of the Soul  \n",
       "55115                    Bad Poems  \n",
       "55116                 A Girl Thing  \n",
       "55117      Women of Devil's Island  \n",
       "\n",
       "[55118 rows x 2 columns]"
      ]
     },
     "execution_count": 32,
     "metadata": {},
     "output_type": "execute_result"
    }
   ],
   "source": [
    "synopsis"
   ]
  },
  {
   "cell_type": "code",
   "execution_count": 38,
   "metadata": {},
   "outputs": [],
   "source": [
    "final_df = df.merge(synopsis, on='title')"
   ]
  },
  {
   "cell_type": "code",
   "execution_count": 40,
   "metadata": {},
   "outputs": [],
   "source": [
    "final_df.to_csv('movie_db.csv')"
   ]
  },
  {
   "cell_type": "code",
   "execution_count": null,
   "metadata": {},
   "outputs": [],
   "source": []
  }
 ],
 "metadata": {
  "kernelspec": {
   "display_name": "Python 3 (ipykernel)",
   "language": "python",
   "name": "python3"
  },
  "language_info": {
   "codemirror_mode": {
    "name": "ipython",
    "version": 3
   },
   "file_extension": ".py",
   "mimetype": "text/x-python",
   "name": "python",
   "nbconvert_exporter": "python",
   "pygments_lexer": "ipython3",
   "version": "3.11.5"
  }
 },
 "nbformat": 4,
 "nbformat_minor": 5
}
