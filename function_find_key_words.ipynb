{
 "cells": [
  {
   "cell_type": "code",
   "execution_count": 19,
   "id": "3bdfba2b",
   "metadata": {},
   "outputs": [
    {
     "name": "stdout",
     "output_type": "stream",
     "text": [
      "Collecting fr-core-news-md==3.7.0\n",
      "  Downloading https://github.com/explosion/spacy-models/releases/download/fr_core_news_md-3.7.0/fr_core_news_md-3.7.0-py3-none-any.whl (45.8 MB)\n",
      "\u001b[2K     \u001b[90m━━━━━━━━━━━━━━━━━━━━━━━━━━━━━━━━━━━━━━━━\u001b[0m \u001b[32m45.8/45.8 MB\u001b[0m \u001b[31m28.7 MB/s\u001b[0m eta \u001b[36m0:00:00\u001b[0m00:01\u001b[0m00:01\u001b[0m\n",
      "\u001b[?25hRequirement already satisfied: spacy<3.8.0,>=3.7.0 in /Users/cindyporfirio/opt/anaconda3/lib/python3.9/site-packages (from fr-core-news-md==3.7.0) (3.7.2)\n",
      "Requirement already satisfied: spacy-legacy<3.1.0,>=3.0.11 in /Users/cindyporfirio/opt/anaconda3/lib/python3.9/site-packages (from spacy<3.8.0,>=3.7.0->fr-core-news-md==3.7.0) (3.0.12)\n",
      "Requirement already satisfied: spacy-loggers<2.0.0,>=1.0.0 in /Users/cindyporfirio/opt/anaconda3/lib/python3.9/site-packages (from spacy<3.8.0,>=3.7.0->fr-core-news-md==3.7.0) (1.0.5)\n",
      "Requirement already satisfied: murmurhash<1.1.0,>=0.28.0 in /Users/cindyporfirio/opt/anaconda3/lib/python3.9/site-packages (from spacy<3.8.0,>=3.7.0->fr-core-news-md==3.7.0) (1.0.10)\n",
      "Requirement already satisfied: cymem<2.1.0,>=2.0.2 in /Users/cindyporfirio/opt/anaconda3/lib/python3.9/site-packages (from spacy<3.8.0,>=3.7.0->fr-core-news-md==3.7.0) (2.0.8)\n",
      "Requirement already satisfied: preshed<3.1.0,>=3.0.2 in /Users/cindyporfirio/opt/anaconda3/lib/python3.9/site-packages (from spacy<3.8.0,>=3.7.0->fr-core-news-md==3.7.0) (3.0.9)\n",
      "Requirement already satisfied: thinc<8.3.0,>=8.1.8 in /Users/cindyporfirio/opt/anaconda3/lib/python3.9/site-packages (from spacy<3.8.0,>=3.7.0->fr-core-news-md==3.7.0) (8.2.2)\n",
      "Requirement already satisfied: wasabi<1.2.0,>=0.9.1 in /Users/cindyporfirio/opt/anaconda3/lib/python3.9/site-packages (from spacy<3.8.0,>=3.7.0->fr-core-news-md==3.7.0) (1.1.2)\n",
      "Requirement already satisfied: srsly<3.0.0,>=2.4.3 in /Users/cindyporfirio/opt/anaconda3/lib/python3.9/site-packages (from spacy<3.8.0,>=3.7.0->fr-core-news-md==3.7.0) (2.4.8)\n",
      "Requirement already satisfied: catalogue<2.1.0,>=2.0.6 in /Users/cindyporfirio/opt/anaconda3/lib/python3.9/site-packages (from spacy<3.8.0,>=3.7.0->fr-core-news-md==3.7.0) (2.0.10)\n",
      "Requirement already satisfied: weasel<0.4.0,>=0.1.0 in /Users/cindyporfirio/opt/anaconda3/lib/python3.9/site-packages (from spacy<3.8.0,>=3.7.0->fr-core-news-md==3.7.0) (0.3.4)\n",
      "Requirement already satisfied: typer<0.10.0,>=0.3.0 in /Users/cindyporfirio/opt/anaconda3/lib/python3.9/site-packages (from spacy<3.8.0,>=3.7.0->fr-core-news-md==3.7.0) (0.9.0)\n",
      "Requirement already satisfied: smart-open<7.0.0,>=5.2.1 in /Users/cindyporfirio/opt/anaconda3/lib/python3.9/site-packages (from spacy<3.8.0,>=3.7.0->fr-core-news-md==3.7.0) (5.2.1)\n",
      "Requirement already satisfied: tqdm<5.0.0,>=4.38.0 in /Users/cindyporfirio/opt/anaconda3/lib/python3.9/site-packages (from spacy<3.8.0,>=3.7.0->fr-core-news-md==3.7.0) (4.64.1)\n",
      "Requirement already satisfied: requests<3.0.0,>=2.13.0 in /Users/cindyporfirio/opt/anaconda3/lib/python3.9/site-packages (from spacy<3.8.0,>=3.7.0->fr-core-news-md==3.7.0) (2.28.1)\n",
      "Requirement already satisfied: pydantic!=1.8,!=1.8.1,<3.0.0,>=1.7.4 in /Users/cindyporfirio/opt/anaconda3/lib/python3.9/site-packages (from spacy<3.8.0,>=3.7.0->fr-core-news-md==3.7.0) (2.5.3)\n",
      "Requirement already satisfied: jinja2 in /Users/cindyporfirio/opt/anaconda3/lib/python3.9/site-packages (from spacy<3.8.0,>=3.7.0->fr-core-news-md==3.7.0) (2.11.3)\n",
      "Requirement already satisfied: setuptools in /Users/cindyporfirio/opt/anaconda3/lib/python3.9/site-packages (from spacy<3.8.0,>=3.7.0->fr-core-news-md==3.7.0) (69.0.2)\n",
      "Requirement already satisfied: packaging>=20.0 in /Users/cindyporfirio/opt/anaconda3/lib/python3.9/site-packages (from spacy<3.8.0,>=3.7.0->fr-core-news-md==3.7.0) (21.3)\n",
      "Requirement already satisfied: langcodes<4.0.0,>=3.2.0 in /Users/cindyporfirio/opt/anaconda3/lib/python3.9/site-packages (from spacy<3.8.0,>=3.7.0->fr-core-news-md==3.7.0) (3.3.0)\n",
      "Requirement already satisfied: numpy>=1.19.0 in /Users/cindyporfirio/opt/anaconda3/lib/python3.9/site-packages (from spacy<3.8.0,>=3.7.0->fr-core-news-md==3.7.0) (1.24.4)\n",
      "Requirement already satisfied: pyparsing!=3.0.5,>=2.0.2 in /Users/cindyporfirio/opt/anaconda3/lib/python3.9/site-packages (from packaging>=20.0->spacy<3.8.0,>=3.7.0->fr-core-news-md==3.7.0) (3.0.9)\n",
      "Requirement already satisfied: annotated-types>=0.4.0 in /Users/cindyporfirio/opt/anaconda3/lib/python3.9/site-packages (from pydantic!=1.8,!=1.8.1,<3.0.0,>=1.7.4->spacy<3.8.0,>=3.7.0->fr-core-news-md==3.7.0) (0.6.0)\n",
      "Requirement already satisfied: pydantic-core==2.14.6 in /Users/cindyporfirio/opt/anaconda3/lib/python3.9/site-packages (from pydantic!=1.8,!=1.8.1,<3.0.0,>=1.7.4->spacy<3.8.0,>=3.7.0->fr-core-news-md==3.7.0) (2.14.6)\n",
      "Requirement already satisfied: typing-extensions>=4.6.1 in /Users/cindyporfirio/opt/anaconda3/lib/python3.9/site-packages (from pydantic!=1.8,!=1.8.1,<3.0.0,>=1.7.4->spacy<3.8.0,>=3.7.0->fr-core-news-md==3.7.0) (4.9.0)\n",
      "Requirement already satisfied: charset-normalizer<3,>=2 in /Users/cindyporfirio/opt/anaconda3/lib/python3.9/site-packages (from requests<3.0.0,>=2.13.0->spacy<3.8.0,>=3.7.0->fr-core-news-md==3.7.0) (2.0.4)\n",
      "Requirement already satisfied: idna<4,>=2.5 in /Users/cindyporfirio/opt/anaconda3/lib/python3.9/site-packages (from requests<3.0.0,>=2.13.0->spacy<3.8.0,>=3.7.0->fr-core-news-md==3.7.0) (3.3)\n",
      "Requirement already satisfied: urllib3<1.27,>=1.21.1 in /Users/cindyporfirio/opt/anaconda3/lib/python3.9/site-packages (from requests<3.0.0,>=2.13.0->spacy<3.8.0,>=3.7.0->fr-core-news-md==3.7.0) (1.26.11)\n",
      "Requirement already satisfied: certifi>=2017.4.17 in /Users/cindyporfirio/opt/anaconda3/lib/python3.9/site-packages (from requests<3.0.0,>=2.13.0->spacy<3.8.0,>=3.7.0->fr-core-news-md==3.7.0) (2022.9.24)\n",
      "Requirement already satisfied: blis<0.8.0,>=0.7.8 in /Users/cindyporfirio/opt/anaconda3/lib/python3.9/site-packages (from thinc<8.3.0,>=8.1.8->spacy<3.8.0,>=3.7.0->fr-core-news-md==3.7.0) (0.7.11)\n",
      "Requirement already satisfied: confection<1.0.0,>=0.0.1 in /Users/cindyporfirio/opt/anaconda3/lib/python3.9/site-packages (from thinc<8.3.0,>=8.1.8->spacy<3.8.0,>=3.7.0->fr-core-news-md==3.7.0) (0.1.4)\n",
      "Requirement already satisfied: click<9.0.0,>=7.1.1 in /Users/cindyporfirio/opt/anaconda3/lib/python3.9/site-packages (from typer<0.10.0,>=0.3.0->spacy<3.8.0,>=3.7.0->fr-core-news-md==3.7.0) (8.0.4)\n",
      "Requirement already satisfied: cloudpathlib<0.17.0,>=0.7.0 in /Users/cindyporfirio/opt/anaconda3/lib/python3.9/site-packages (from weasel<0.4.0,>=0.1.0->spacy<3.8.0,>=3.7.0->fr-core-news-md==3.7.0) (0.16.0)\n",
      "Requirement already satisfied: MarkupSafe>=0.23 in /Users/cindyporfirio/opt/anaconda3/lib/python3.9/site-packages (from jinja2->spacy<3.8.0,>=3.7.0->fr-core-news-md==3.7.0) (2.0.1)\n",
      "\u001b[38;5;2m✔ Download and installation successful\u001b[0m\n",
      "You can now load the package via spacy.load('fr_core_news_md')\n"
     ]
    }
   ],
   "source": [
    "!python -m spacy download fr_core_news_md"
   ]
  },
  {
   "cell_type": "code",
   "execution_count": 10,
   "id": "8dd4c26f",
   "metadata": {},
   "outputs": [],
   "source": [
    "import spacy\n",
    "import fr_core_news_md\n",
    "\n",
    "nlp = fr_core_news_md.load()\n",
    "\n",
    "from scipy.sparse import csr_matrix\n",
    "from scipy.sparse.linalg import svds"
   ]
  },
  {
   "cell_type": "code",
   "execution_count": 27,
   "id": "8dc8f500",
   "metadata": {},
   "outputs": [
    {
     "name": "stdout",
     "output_type": "stream",
     "text": [
      "['aventure', 'drôle']\n"
     ]
    }
   ],
   "source": [
    "def supprime_mot_film(phrase, nlp):\n",
    "    doc = nlp(phrase)\n",
    "    phrase_sans_film = \" \".join([token.text for token in doc if token.text.lower() != \"film\"])\n",
    "    return phrase_sans_film\n",
    "\n",
    "def nettoye_phrase(phrase, nlp):\n",
    "    doc = nlp(phrase)\n",
    "    mots_nettoyes = [token.lemma_ for token in doc if token.text.lower() not in STOP_WORDS and token.is_punct == False]\n",
    "    return \" \".join(mots_nettoyes)\n",
    "\n",
    "def extrait_mots_cles(phrase, nlp, nombre_mots_cles=3, pos=[\"NOUN\", \"ADJ\"]):\n",
    "    phrase_modifiee = nettoyer_phrase(supprimer_mot_film(phrase, nlp), nlp)\n",
    "    doc = nlp(phrase_modifiee)\n",
    "    mots_cles = []\n",
    "    for token in doc:\n",
    "        if token.pos_ in pos and token.text not in mots_cles:\n",
    "            mots_cles.append(token.text)\n",
    "            if len(mots_cles) == nombre_mots_cles:\n",
    "                break\n",
    "    return mots_cles\n",
    "\n",
    "# Test \n",
    "phrase_exemple = \"Je veux voir un film d'aventure et drôle\"\n",
    "mots_cles = extraire_mots_cles(phrase_exemple, nlp)\n",
    "print(mots_cles)\n"
   ]
  }
 ],
 "metadata": {
  "kernelspec": {
   "display_name": "AppStatApp_TP2",
   "language": "python",
   "name": "appstatapp_tp2"
  },
  "language_info": {
   "codemirror_mode": {
    "name": "ipython",
    "version": 3
   },
   "file_extension": ".py",
   "mimetype": "text/x-python",
   "name": "python",
   "nbconvert_exporter": "python",
   "pygments_lexer": "ipython3",
   "version": "3.9.13"
  }
 },
 "nbformat": 4,
 "nbformat_minor": 5
}
