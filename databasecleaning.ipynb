{
 "cells": [
  {
   "cell_type": "code",
   "execution_count": 1,
   "metadata": {},
   "outputs": [],
   "source": [
    "import pandas as pd\n",
    "\n",
    "all_movies = pd.read_csv(\"movie_db.csv\")"
   ]
  },
  {
   "cell_type": "code",
   "execution_count": 2,
   "metadata": {},
   "outputs": [
    {
     "data": {
      "text/html": [
       "<div>\n",
       "<style scoped>\n",
       "    .dataframe tbody tr th:only-of-type {\n",
       "        vertical-align: middle;\n",
       "    }\n",
       "\n",
       "    .dataframe tbody tr th {\n",
       "        vertical-align: top;\n",
       "    }\n",
       "\n",
       "    .dataframe thead th {\n",
       "        text-align: right;\n",
       "    }\n",
       "</style>\n",
       "<table border=\"1\" class=\"dataframe\">\n",
       "  <thead>\n",
       "    <tr style=\"text-align: right;\">\n",
       "      <th></th>\n",
       "      <th>Unnamed: 0</th>\n",
       "      <th>movieId</th>\n",
       "      <th>title</th>\n",
       "      <th>genres</th>\n",
       "      <th>year</th>\n",
       "      <th>userId</th>\n",
       "      <th>rating</th>\n",
       "      <th>timestamp</th>\n",
       "      <th>Synopsis</th>\n",
       "    </tr>\n",
       "  </thead>\n",
       "  <tbody>\n",
       "    <tr>\n",
       "      <th>0</th>\n",
       "      <td>0</td>\n",
       "      <td>1</td>\n",
       "      <td>Toy Story</td>\n",
       "      <td>['Adventure', 'Animation', 'Children', 'Comedy...</td>\n",
       "      <td>1995.0</td>\n",
       "      <td>2</td>\n",
       "      <td>3.5</td>\n",
       "      <td>1141415820</td>\n",
       "      <td>A cowboy doll is profoundly threatened and jea...</td>\n",
       "    </tr>\n",
       "    <tr>\n",
       "      <th>1</th>\n",
       "      <td>1</td>\n",
       "      <td>1</td>\n",
       "      <td>Toy Story</td>\n",
       "      <td>['Adventure', 'Animation', 'Children', 'Comedy...</td>\n",
       "      <td>1995.0</td>\n",
       "      <td>3</td>\n",
       "      <td>4.0</td>\n",
       "      <td>1439472215</td>\n",
       "      <td>A cowboy doll is profoundly threatened and jea...</td>\n",
       "    </tr>\n",
       "    <tr>\n",
       "      <th>2</th>\n",
       "      <td>2</td>\n",
       "      <td>1</td>\n",
       "      <td>Toy Story</td>\n",
       "      <td>['Adventure', 'Animation', 'Children', 'Comedy...</td>\n",
       "      <td>1995.0</td>\n",
       "      <td>4</td>\n",
       "      <td>3.0</td>\n",
       "      <td>1573944252</td>\n",
       "      <td>A cowboy doll is profoundly threatened and jea...</td>\n",
       "    </tr>\n",
       "    <tr>\n",
       "      <th>3</th>\n",
       "      <td>3</td>\n",
       "      <td>1</td>\n",
       "      <td>Toy Story</td>\n",
       "      <td>['Adventure', 'Animation', 'Children', 'Comedy...</td>\n",
       "      <td>1995.0</td>\n",
       "      <td>5</td>\n",
       "      <td>4.0</td>\n",
       "      <td>858625949</td>\n",
       "      <td>A cowboy doll is profoundly threatened and jea...</td>\n",
       "    </tr>\n",
       "    <tr>\n",
       "      <th>4</th>\n",
       "      <td>4</td>\n",
       "      <td>1</td>\n",
       "      <td>Toy Story</td>\n",
       "      <td>['Adventure', 'Animation', 'Children', 'Comedy...</td>\n",
       "      <td>1995.0</td>\n",
       "      <td>8</td>\n",
       "      <td>4.0</td>\n",
       "      <td>890492517</td>\n",
       "      <td>A cowboy doll is profoundly threatened and jea...</td>\n",
       "    </tr>\n",
       "  </tbody>\n",
       "</table>\n",
       "</div>"
      ],
      "text/plain": [
       "   Unnamed: 0  movieId      title  \\\n",
       "0           0        1  Toy Story   \n",
       "1           1        1  Toy Story   \n",
       "2           2        1  Toy Story   \n",
       "3           3        1  Toy Story   \n",
       "4           4        1  Toy Story   \n",
       "\n",
       "                                              genres    year  userId  rating  \\\n",
       "0  ['Adventure', 'Animation', 'Children', 'Comedy...  1995.0       2     3.5   \n",
       "1  ['Adventure', 'Animation', 'Children', 'Comedy...  1995.0       3     4.0   \n",
       "2  ['Adventure', 'Animation', 'Children', 'Comedy...  1995.0       4     3.0   \n",
       "3  ['Adventure', 'Animation', 'Children', 'Comedy...  1995.0       5     4.0   \n",
       "4  ['Adventure', 'Animation', 'Children', 'Comedy...  1995.0       8     4.0   \n",
       "\n",
       "    timestamp                                           Synopsis  \n",
       "0  1141415820  A cowboy doll is profoundly threatened and jea...  \n",
       "1  1439472215  A cowboy doll is profoundly threatened and jea...  \n",
       "2  1573944252  A cowboy doll is profoundly threatened and jea...  \n",
       "3   858625949  A cowboy doll is profoundly threatened and jea...  \n",
       "4   890492517  A cowboy doll is profoundly threatened and jea...  "
      ]
     },
     "execution_count": 2,
     "metadata": {},
     "output_type": "execute_result"
    }
   ],
   "source": [
    "all_movies.head()"
   ]
  },
  {
   "cell_type": "code",
   "execution_count": 5,
   "metadata": {},
   "outputs": [],
   "source": [
    "unique_id = all_movies.drop_duplicates('movieId')"
   ]
  },
  {
   "cell_type": "code",
   "execution_count": 10,
   "metadata": {},
   "outputs": [],
   "source": [
    "unique_id = unique_id.drop(columns=[\"userId\", \"rating\", \"timestamp\"])"
   ]
  },
  {
   "cell_type": "code",
   "execution_count": 48,
   "metadata": {},
   "outputs": [
    {
     "name": "stdout",
     "output_type": "stream",
     "text": [
      "Cinderella                        16\n",
      "Hamlet                             9\n",
      "First Love                         8\n",
      "Misérables, Les                    8\n",
      "Wuthering Heights                  8\n",
      "                                  ..\n",
      "Virus                              4\n",
      "Hound of the Baskervilles, The     4\n",
      "The Stranger                       4\n",
      "Zero                               4\n",
      "War and Peace                      4\n",
      "Name: title, Length: 200, dtype: int64\n"
     ]
    }
   ],
   "source": [
    "#présence de films en double dans la base de donnée\n",
    "print(unique_id[\"title\"].value_counts()[:200])"
   ]
  },
  {
   "cell_type": "code",
   "execution_count": 62,
   "metadata": {},
   "outputs": [
    {
     "data": {
      "image/png": "[encoded data removed]",
      "text/plain": [
       "<Figure size 432x288 with 1 Axes>"
      ]
     },
     "metadata": {
      "needs_background": "light"
     },
     "output_type": "display_data"
    }
   ],
   "source": [
    "plt.bar(unique_id[\"title\"].value_counts()[:10].index, unique_id[\"title\"].value_counts()[:10])\n",
    "plt.xlabel('Films')\n",
    "plt.ylabel('Fréquence')\n",
    "plt.title('Histogramme des films ayant les mêmes noms')\n",
    "plt.show()\n"
   ]
  },
  {
   "cell_type": "code",
   "execution_count": 51,
   "metadata": {},
   "outputs": [],
   "source": [
    "frequence = unique_id[\"Synopsis\"].value_counts()"
   ]
  },
  {
   "cell_type": "code",
   "execution_count": 56,
   "metadata": {},
   "outputs": [
    {
     "data": {
      "image/png": "[encoded data removed]",
      "text/plain": [
       "<Figure size 432x288 with 1 Axes>"
      ]
     },
     "metadata": {
      "needs_background": "light"
     },
     "output_type": "display_data"
    }
   ],
   "source": [
    "plt.bar(frequence[1:100].index, frequence[1:100])\n",
    "plt.xlabel('Synopsis')\n",
    "plt.ylabel('Fréquence')\n",
    "plt.title('Histogramme des 100 descriptions les plus fréquentes')\n",
    "plt.xticks([])\n",
    "plt.show()\n"
   ]
  },
  {
   "cell_type": "code",
   "execution_count": 27,
   "metadata": {},
   "outputs": [
    {
     "name": "stdout",
     "output_type": "stream",
     "text": [
      "12.34271004454079\n"
     ]
    }
   ],
   "source": [
    "# pourcentage de films sans description \n",
    "nb_films = len(unique_id[\"Synopsis\"])\n",
    "freq_sans_desc = frequence.get(\"Description non disponible\", 0)\n",
    "print((freq_sans_desc/nb_films)*100)"
   ]
  },
  {
   "cell_type": "markdown",
   "metadata": {},
   "source": [
    "Les films pour lesquels le scrapping a échoué ont eu un soucis car ils ont un titre au format suivant : Nom du film (Nom du film dans une autre langue) (ou nom alternatif du film)"
   ]
  },
  {
   "cell_type": "markdown",
   "metadata": {},
   "source": [
    "Exemple de méthode pour mieux formater les noms de films"
   ]
  },
  {
   "cell_type": "code",
   "execution_count": 57,
   "metadata": {},
   "outputs": [],
   "source": [
    "films_sans_synops = unique_id[unique_id[\"Synopsis\"] == \"Description non disponible\"]"
   ]
  },
  {
   "cell_type": "code",
   "execution_count": 58,
   "metadata": {},
   "outputs": [
    {
     "data": {
      "text/html": [
       "<div>\n",
       "<style scoped>\n",
       "    .dataframe tbody tr th:only-of-type {\n",
       "        vertical-align: middle;\n",
       "    }\n",
       "\n",
       "    .dataframe tbody tr th {\n",
       "        vertical-align: top;\n",
       "    }\n",
       "\n",
       "    .dataframe thead th {\n",
       "        text-align: right;\n",
       "    }\n",
       "</style>\n",
       "<table border=\"1\" class=\"dataframe\">\n",
       "  <thead>\n",
       "    <tr style=\"text-align: right;\">\n",
       "      <th></th>\n",
       "      <th>movieId</th>\n",
       "      <th>title</th>\n",
       "      <th>genres</th>\n",
       "      <th>year</th>\n",
       "      <th>Synopsis</th>\n",
       "    </tr>\n",
       "  </thead>\n",
       "  <tbody>\n",
       "    <tr>\n",
       "      <th>353117</th>\n",
       "      <td>29</td>\n",
       "      <td>City of Lost Children, The (Cité des enfants p...</td>\n",
       "      <td>['Adventure', 'Drama', 'Fantasy', 'Mystery', '...</td>\n",
       "      <td>1995.0</td>\n",
       "      <td>Description non disponible</td>\n",
       "    </tr>\n",
       "    <tr>\n",
       "      <th>361422</th>\n",
       "      <td>30</td>\n",
       "      <td>Shanghai Triad (Yao a yao yao dao waipo qiao)</td>\n",
       "      <td>['Crime', 'Drama']</td>\n",
       "      <td>1995.0</td>\n",
       "      <td>Description non disponible</td>\n",
       "    </tr>\n",
       "    <tr>\n",
       "      <th>371694</th>\n",
       "      <td>32</td>\n",
       "      <td>Twelve Monkeys (a.k.a. 12 Monkeys)</td>\n",
       "      <td>['Mystery', 'Sci-Fi', 'Thriller']</td>\n",
       "      <td>1995.0</td>\n",
       "      <td>Description non disponible</td>\n",
       "    </tr>\n",
       "    <tr>\n",
       "      <th>529613</th>\n",
       "      <td>47</td>\n",
       "      <td>Seven (a.k.a. Se7en)</td>\n",
       "      <td>['Mystery', 'Thriller']</td>\n",
       "      <td>1995.0</td>\n",
       "      <td>Description non disponible</td>\n",
       "    </tr>\n",
       "    <tr>\n",
       "      <th>672532</th>\n",
       "      <td>59</td>\n",
       "      <td>Confessional, The (Confessionnal, Le)</td>\n",
       "      <td>['Drama', 'Mystery']</td>\n",
       "      <td>1995.0</td>\n",
       "      <td>Description non disponible</td>\n",
       "    </tr>\n",
       "    <tr>\n",
       "      <th>...</th>\n",
       "      <td>...</td>\n",
       "      <td>...</td>\n",
       "      <td>...</td>\n",
       "      <td>...</td>\n",
       "      <td>...</td>\n",
       "    </tr>\n",
       "    <tr>\n",
       "      <th>25000059</th>\n",
       "      <td>209055</td>\n",
       "      <td>Very Well, Thank You</td>\n",
       "      <td>['Comedy', 'Drama']</td>\n",
       "      <td>2007.0</td>\n",
       "      <td>Description non disponible</td>\n",
       "    </tr>\n",
       "    <tr>\n",
       "      <th>25000063</th>\n",
       "      <td>209067</td>\n",
       "      <td>Sousse: Marché aux charbons (avec chameaux)</td>\n",
       "      <td>['Not specified']</td>\n",
       "      <td>1896.0</td>\n",
       "      <td>Description non disponible</td>\n",
       "    </tr>\n",
       "    <tr>\n",
       "      <th>25000079</th>\n",
       "      <td>209135</td>\n",
       "      <td>Jane B. by Agnès V.</td>\n",
       "      <td>['Documentary', 'Fantasy']</td>\n",
       "      <td>1988.0</td>\n",
       "      <td>Description non disponible</td>\n",
       "    </tr>\n",
       "    <tr>\n",
       "      <th>25000081</th>\n",
       "      <td>209137</td>\n",
       "      <td>The Reward's Yours... The Man's Mine</td>\n",
       "      <td>['Western']</td>\n",
       "      <td>1969.0</td>\n",
       "      <td>Description non disponible</td>\n",
       "    </tr>\n",
       "    <tr>\n",
       "      <th>25000089</th>\n",
       "      <td>209155</td>\n",
       "      <td>Santosh Subramaniam</td>\n",
       "      <td>['Action', 'Comedy', 'Romance']</td>\n",
       "      <td>2008.0</td>\n",
       "      <td>Description non disponible</td>\n",
       "    </tr>\n",
       "  </tbody>\n",
       "</table>\n",
       "<p>7288 rows × 5 columns</p>\n",
       "</div>"
      ],
      "text/plain": [
       "          movieId                                              title  \\\n",
       "353117         29  City of Lost Children, The (Cité des enfants p...   \n",
       "361422         30      Shanghai Triad (Yao a yao yao dao waipo qiao)   \n",
       "371694         32                 Twelve Monkeys (a.k.a. 12 Monkeys)   \n",
       "529613         47                               Seven (a.k.a. Se7en)   \n",
       "672532         59              Confessional, The (Confessionnal, Le)   \n",
       "...           ...                                                ...   \n",
       "25000059   209055                               Very Well, Thank You   \n",
       "25000063   209067        Sousse: Marché aux charbons (avec chameaux)   \n",
       "25000079   209135                                Jane B. by Agnès V.   \n",
       "25000081   209137               The Reward's Yours... The Man's Mine   \n",
       "25000089   209155                                Santosh Subramaniam   \n",
       "\n",
       "                                                     genres    year  \\\n",
       "353117    ['Adventure', 'Drama', 'Fantasy', 'Mystery', '...  1995.0   \n",
       "361422                                   ['Crime', 'Drama']  1995.0   \n",
       "371694                    ['Mystery', 'Sci-Fi', 'Thriller']  1995.0   \n",
       "529613                              ['Mystery', 'Thriller']  1995.0   \n",
       "672532                                 ['Drama', 'Mystery']  1995.0   \n",
       "...                                                     ...     ...   \n",
       "25000059                                ['Comedy', 'Drama']  2007.0   \n",
       "25000063                                  ['Not specified']  1896.0   \n",
       "25000079                         ['Documentary', 'Fantasy']  1988.0   \n",
       "25000081                                        ['Western']  1969.0   \n",
       "25000089                    ['Action', 'Comedy', 'Romance']  2008.0   \n",
       "\n",
       "                            Synopsis  \n",
       "353117    Description non disponible  \n",
       "361422    Description non disponible  \n",
       "371694    Description non disponible  \n",
       "529613    Description non disponible  \n",
       "672532    Description non disponible  \n",
       "...                              ...  \n",
       "25000059  Description non disponible  \n",
       "25000063  Description non disponible  \n",
       "25000079  Description non disponible  \n",
       "25000081  Description non disponible  \n",
       "25000089  Description non disponible  \n",
       "\n",
       "[7288 rows x 5 columns]"
      ]
     },
     "execution_count": 58,
     "metadata": {},
     "output_type": "execute_result"
    }
   ],
   "source": [
    "films_sans_synops[\"title\"]"
   ]
  },
  {
   "cell_type": "code",
   "execution_count": 59,
   "metadata": {},
   "outputs": [
    {
     "name": "stderr",
     "output_type": "stream",
     "text": [
      "/var/folders/3j/76tb4w1d76n4jkbznwrtv0tw0000gn/T/ipykernel_27386/1999332820.py:1: FutureWarning: The default value of regex will change from True to False in a future version.\n",
      "  films_sans_synops[\"title\"] = films_sans_synops[\"title\"].str.replace(r'\\s*\\([^)]*\\)', '')\n",
      "/var/folders/3j/76tb4w1d76n4jkbznwrtv0tw0000gn/T/ipykernel_27386/1999332820.py:1: SettingWithCopyWarning: \n",
      "A value is trying to be set on a copy of a slice from a DataFrame.\n",
      "Try using .loc[row_indexer,col_indexer] = value instead\n",
      "\n",
      "See the caveats in the documentation: https://pandas.pydata.org/pandas-docs/stable/user_guide/indexing.html#returning-a-view-versus-a-copy\n",
      "  films_sans_synops[\"title\"] = films_sans_synops[\"title\"].str.replace(r'\\s*\\([^)]*\\)', '')\n"
     ]
    }
   ],
   "source": [
    "films_sans_synops[\"title\"] = films_sans_synops[\"title\"].str.replace(r'\\s*\\([^)]*\\)', '')"
   ]
  },
  {
   "cell_type": "code",
   "execution_count": 60,
   "metadata": {},
   "outputs": [
    {
     "data": {
      "text/plain": [
       "353117                City of Lost Children, The\n",
       "361422                            Shanghai Triad\n",
       "371694                            Twelve Monkeys\n",
       "529613                                     Seven\n",
       "672532                         Confessional, The\n",
       "                            ...                 \n",
       "25000059                    Very Well, Thank You\n",
       "25000063             Sousse: Marché aux charbons\n",
       "25000079                     Jane B. by Agnès V.\n",
       "25000081    The Reward's Yours... The Man's Mine\n",
       "25000089                     Santosh Subramaniam\n",
       "Name: title, Length: 7288, dtype: object"
      ]
     },
     "execution_count": 60,
     "metadata": {},
     "output_type": "execute_result"
    }
   ],
   "source": [
    "films_sans_synops[\"title\"]"
   ]
  }
 ],
 "metadata": {
  "kernelspec": {
   "display_name": "base",
   "language": "python",
   "name": "python3"
  },
  "language_info": {
   "codemirror_mode": {
    "name": "ipython",
    "version": 3
   },
   "file_extension": ".py",
   "mimetype": "text/x-python",
   "name": "python",
   "nbconvert_exporter": "python",
   "pygments_lexer": "ipython3",
   "version": "3.9.7"
  },
  "orig_nbformat": 4,
  "vscode": {
   "interpreter": {
    "hash": "40d3a090f54c6569ab1632332b64b2c03c39dcf918b08424e98f38b5ae0af88f"
   }
  }
 },
 "nbformat": 4,
 "nbformat_minor": 2
}
